{
 "cells": [
  {
   "cell_type": "markdown",
   "id": "6cf71ba8",
   "metadata": {},
   "source": [
    "# <font color='darkblue'>Women's E-Commerce Clothing Reviews.. </font>\n",
    "![Screenshot 2021-12-18 125058](https://user-images.githubusercontent.com/93244403/147391538-bd5bdde2-90d3-453d-b137-91ff31c73a0c.png)"
   ]
  },
  {
   "cell_type": "markdown",
   "id": "e437d848",
   "metadata": {},
   "source": [
    "#  <a name=Appendix>Appendix:</a>"
   ]
  },
  {
   "cell_type": "markdown",
   "id": "67ac50c2",
   "metadata": {},
   "source": [
    "- click on the links:\n",
    ">1. <a href=#imports>Imports</a>\n",
    ">2. <a href=#def>Helper Function</a>\n",
    ">3. <a href=#Load>Load Data</a>\n",
    ">4. <a href=#Cleaning>Data Cleaning</a>\n",
    ">5. <a href=#fea>Feature Engineering</a>\n",
    ">6. <a href=#EDA>EDA & Visulizations</a>  \n",
    ">7. <a href=#class>Classification</a>\n",
    ">8. <a href=#Topic>Topic Modeling </a>\n",
    ">9. <a href=#clus>Clustring</a>"
   ]
  },
  {
   "attachments": {
    "Screenshot%202021-12-25%20220247.png": {
     "image/png": "[encoded data removed]"
    }
   },
   "cell_type": "markdown",
   "id": "0352f445",
   "metadata": {},
   "source": [
    "![Screenshot%202021-12-25%20220247.png](attachment:Screenshot%202021-12-25%20220247.png)\n"
   ]
  },
  {
   "cell_type": "markdown",
   "id": "3f10a11e",
   "metadata": {},
   "source": [
    "# <a name='imports'>Libraries Imports</a> "
   ]
  },
  {
   "cell_type": "code",
   "execution_count": 63,
   "id": "5c40999f",
   "metadata": {},
   "outputs": [
    {
     "name": "stdout",
     "output_type": "stream",
     "text": [
      "importing.....[done]\n"
     ]
    }
   ],
   "source": [
    "print(\"importing.....\",end=\"\",flush=True)\n",
    "\n",
    "import pandas as pd\n",
    "import numpy as np\n",
    "from pandas_profiling import ProfileReport\n",
    "import plotly.express as px\n",
    "import matplotlib.pyplot as plt\n",
    "import seaborn as sns\n",
    "\n",
    "#NLP\n",
    "import re, string\n",
    "import nltk\n",
    "from nltk.tokenize import word_tokenize\n",
    "from nltk.corpus import stopwords\n",
    "from nltk.tokenize import word_tokenize\n",
    "from nltk.stem import SnowballStemmer,WordNetLemmatizer\n",
    "from nltk.corpus import wordnet\n",
    "\n",
    "# import sklearn\n",
    "from sklearn.preprocessing import scale ,StandardScaler\n",
    "from sklearn.cluster import KMeans ,AgglomerativeClustering\n",
    "from sklearn.datasets import make_blobs ,fetch_openml\n",
    "from sklearn.utils import shuffle\n",
    "from sklearn.feature_extraction.text import CountVectorizer, TfidfVectorizer\n",
    "from sklearn.linear_model import LogisticRegression\n",
    "from sklearn.metrics import f1_score, recall_score, precision_score, fbeta_score ,silhouette_score\n",
    "from sklearn.naive_bayes import MultinomialNB\n",
    "from sklearn.decomposition import LatentDirichletAllocation, TruncatedSVD ,NMF\n",
    "from sklearn.model_selection import GridSearchCV, RandomizedSearchCV ,train_test_split\n",
    "\n",
    "import pyLDAvis\n",
    "import pyLDAvis.sklearn\n",
    "import matplotlib.pyplot as plt\n",
    "from wordcloud import WordCloud \n",
    "from pprint import pprint\n",
    "\n",
    "%matplotlib inline\n",
    "import warnings\n",
    "warnings.filterwarnings('ignore')\n",
    "print('[done]')"
   ]
  },
  {
   "cell_type": "markdown",
   "id": "23d8c79f",
   "metadata": {},
   "source": [
    " #### <a href='#Appendix'>Return to Appendix </a> "
   ]
  },
  {
   "attachments": {
    "Screenshot%202021-12-25%20220247.png": {
     "image/png": "[encoded data removed]"
    }
   },
   "cell_type": "markdown",
   "id": "df3a5a6a",
   "metadata": {},
   "source": [
    "![Screenshot%202021-12-25%20220247.png](attachment:Screenshot%202021-12-25%20220247.png)\n"
   ]
  },
  {
   "cell_type": "markdown",
   "id": "14307073",
   "metadata": {},
   "source": [
    "# <a name='def'>Helper function</a> "
   ]
  },
  {
   "cell_type": "code",
   "execution_count": 64,
   "id": "c6f41f9a",
   "metadata": {},
   "outputs": [],
   "source": [
    "# for text pre-processing\n",
    "\n",
    "def preprocess(text):\n",
    "    text = text.lower() #lowercase text\n",
    "    text=text.strip()  #get rid of leading/trailing whitespace \n",
    "    text=re.compile('<.*?>').sub('', text) #Remove HTML tags/markups\n",
    "    text = re.compile('[%s]' % re.escape(string.punctuation)).sub(' ', text)  #Replace punctuation with space. Careful since punctuation can sometime be useful\n",
    "    text = re.sub('\\s+', ' ', text)  #Remove extra space and tabs\n",
    "    text = re.sub(r'\\[[0-9]*\\]',' ',text) #[0-9] matches any digit (0 to 10000...)\n",
    "    text=re.sub(r'[^\\w\\s]', '', str(text).lower().strip())\n",
    "    text = re.sub(r'\\d',' ',text) #matches any digit from 0 to 100000..., \\D matches non-digits\n",
    "    text = re.sub(r'\\s+',' ',text) #\\s matches any whitespace, \\s+ matches multiple whitespace, \\S matches non-whitespace \n",
    "    \n",
    "    return text\n",
    "\n",
    "def stopword(string):\n",
    "    a= [i for i in string.split() if i not in stopwords.words('english')]\n",
    "    return ' '.join(a)\n",
    "\n",
    "\n",
    "snow = SnowballStemmer('english')\n",
    "\n",
    "def stemming(string):\n",
    "    a=[snow.stem(i) for i in word_tokenize(string) ]\n",
    "    return \" \".join(a)\n",
    "\n",
    "# for all models in classification\n",
    "def model_eval(mdl_local, X_local, y_local, eval_name = \"Train\", bta=1):\n",
    "    \n",
    "    y_pred = mdl_local.predict(X_local)\n",
    "    \n",
    "    print(f\"________________ {eval_name} Metrics______________\")\n",
    "    acc = mdl_local.score(X_local , y_local)\n",
    "    print(\"Accuarcy score:\", acc)\n",
    "    prec = precision_score(y_local, y_pred )\n",
    "    print(\"Precision Score:\", prec)\n",
    "    recall = recall_score(y_local, y_pred)\n",
    "    print(\"Recall Score:\", recall)\n",
    "    fbta = fbeta_score( y_local, y_pred, beta=bta)\n",
    "    print(f\"F{bta} Score:\", fbta)\n",
    "    \n",
    "    return {f\"{eval_name}_acc\":acc, f\"{eval_name}_prec\":prec, f\"{eval_name}_recall\":recall, f\"{eval_name}_fbta\":fbta}\n",
    "    \n",
    "    \n",
    "def modeling(expr_name, mdl_local, X_train_local, y_train_local, X_test_local, y_test_local):\n",
    "\n",
    "    mdl_local.fit(X_train_local, y_train_local)\n",
    "    print(f\"################### {expr_name} ###################\")\n",
    "    expr_metric_dict = model_eval(mdl_local, X_train_local, y_train_local, eval_name = \"Train\", bta=1)\n",
    "    expr_metric_dict.update(model_eval(mdl_local, X_test_local, y_test_local, eval_name = \"Test\", bta=1))\n",
    "    \n",
    "    expr_metric_dict[\"expr_name\"] = expr_name\n",
    "    \n",
    "    return mdl_local, expr_metric_dict\n",
    "\n",
    "def make_exprs(exprs_local: list):\n",
    "    exprs = exprs_local\n",
    "    list_metics = []\n",
    "    list_models = []\n",
    "    for model, metric in exprs:\n",
    "        list_models.append(model)\n",
    "        list_metics.append(metric)\n",
    "    return list_models, pd.DataFrame(list_metics)\n",
    "\n",
    "# for display topices modling\n",
    "def display_topics(model, feature_names, no_top_words, topic_names=None):\n",
    "    for ix, topic in enumerate(model.components_):\n",
    "        if not topic_names or not topic_names[ix]:\n",
    "            print(\"\\nTopic \", ix)\n",
    "        else:\n",
    "            print(\"\\nTopic: '\",topic_names[ix],\"'\")\n",
    "        print(\", \".join([feature_names[i]\n",
    "                        for i in topic.argsort()[:-no_top_words - 1:-1]]))"
   ]
  },
  {
   "cell_type": "markdown",
   "id": "873839a9",
   "metadata": {},
   "source": [
    " #### <a href='#Appendix'>Return to Appendix </a> "
   ]
  },
  {
   "attachments": {
    "Screenshot%202021-12-25%20220247.png": {
     "image/png": "[encoded data removed]"
    }
   },
   "cell_type": "markdown",
   "id": "36081bef",
   "metadata": {},
   "source": [
    "![Screenshot%202021-12-25%20220247.png](attachment:Screenshot%202021-12-25%20220247.png)\n"
   ]
  },
  {
   "cell_type": "markdown",
   "id": "6bc026c2",
   "metadata": {},
   "source": [
    "# <a name='Load'>Load Data </a> "
   ]
  },
  {
   "cell_type": "code",
   "execution_count": 65,
   "id": "1ae2c327",
   "metadata": {},
   "outputs": [],
   "source": [
    "df= pd.read_csv('Womens Clothing Reviews.csv',nrows=2000)"
   ]
  },
  {
   "cell_type": "code",
   "execution_count": 66,
   "id": "05eee1d5",
   "metadata": {},
   "outputs": [
    {
     "data": {
      "text/html": [
       "<div>\n",
       "<style scoped>\n",
       "    .dataframe tbody tr th:only-of-type {\n",
       "        vertical-align: middle;\n",
       "    }\n",
       "\n",
       "    .dataframe tbody tr th {\n",
       "        vertical-align: top;\n",
       "    }\n",
       "\n",
       "    .dataframe thead th {\n",
       "        text-align: right;\n",
       "    }\n",
       "</style>\n",
       "<table border=\"1\" class=\"dataframe\">\n",
       "  <thead>\n",
       "    <tr style=\"text-align: right;\">\n",
       "      <th></th>\n",
       "      <th>Unnamed: 0</th>\n",
       "      <th>Clothing ID</th>\n",
       "      <th>Age</th>\n",
       "      <th>Title</th>\n",
       "      <th>Review Text</th>\n",
       "      <th>Rating</th>\n",
       "      <th>Recommended IND</th>\n",
       "      <th>Positive Feedback Count</th>\n",
       "      <th>Division Name</th>\n",
       "      <th>Department Name</th>\n",
       "      <th>Class Name</th>\n",
       "    </tr>\n",
       "  </thead>\n",
       "  <tbody>\n",
       "    <tr>\n",
       "      <th>0</th>\n",
       "      <td>0</td>\n",
       "      <td>767</td>\n",
       "      <td>33</td>\n",
       "      <td>NaN</td>\n",
       "      <td>Absolutely wonderful - silky and sexy and comf...</td>\n",
       "      <td>4</td>\n",
       "      <td>1</td>\n",
       "      <td>0</td>\n",
       "      <td>Initmates</td>\n",
       "      <td>Intimate</td>\n",
       "      <td>Intimates</td>\n",
       "    </tr>\n",
       "    <tr>\n",
       "      <th>1</th>\n",
       "      <td>1</td>\n",
       "      <td>1080</td>\n",
       "      <td>34</td>\n",
       "      <td>NaN</td>\n",
       "      <td>Love this dress!  it's sooo pretty.  i happene...</td>\n",
       "      <td>5</td>\n",
       "      <td>1</td>\n",
       "      <td>4</td>\n",
       "      <td>General</td>\n",
       "      <td>Dresses</td>\n",
       "      <td>Dresses</td>\n",
       "    </tr>\n",
       "    <tr>\n",
       "      <th>2</th>\n",
       "      <td>2</td>\n",
       "      <td>1077</td>\n",
       "      <td>60</td>\n",
       "      <td>Some major design flaws</td>\n",
       "      <td>I had such high hopes for this dress and reall...</td>\n",
       "      <td>3</td>\n",
       "      <td>0</td>\n",
       "      <td>0</td>\n",
       "      <td>General</td>\n",
       "      <td>Dresses</td>\n",
       "      <td>Dresses</td>\n",
       "    </tr>\n",
       "  </tbody>\n",
       "</table>\n",
       "</div>"
      ],
      "text/plain": [
       "   Unnamed: 0  Clothing ID  Age                    Title  \\\n",
       "0           0          767   33                      NaN   \n",
       "1           1         1080   34                      NaN   \n",
       "2           2         1077   60  Some major design flaws   \n",
       "\n",
       "                                         Review Text  Rating  Recommended IND  \\\n",
       "0  Absolutely wonderful - silky and sexy and comf...       4                1   \n",
       "1  Love this dress!  it's sooo pretty.  i happene...       5                1   \n",
       "2  I had such high hopes for this dress and reall...       3                0   \n",
       "\n",
       "   Positive Feedback Count Division Name Department Name Class Name  \n",
       "0                        0     Initmates        Intimate  Intimates  \n",
       "1                        4       General         Dresses    Dresses  \n",
       "2                        0       General         Dresses    Dresses  "
      ]
     },
     "execution_count": 66,
     "metadata": {},
     "output_type": "execute_result"
    }
   ],
   "source": [
    "df.head(3)"
   ]
  },
  {
   "cell_type": "markdown",
   "id": "ad74a523",
   "metadata": {},
   "source": [
    " #### <a href='#Appendix'>Return to Appendix </a> "
   ]
  },
  {
   "attachments": {
    "Screenshot%202021-12-25%20220247.png": {
     "image/png": "[encoded data removed]"
    }
   },
   "cell_type": "markdown",
   "id": "e5b7954e",
   "metadata": {},
   "source": [
    "![Screenshot%202021-12-25%20220247.png](attachment:Screenshot%202021-12-25%20220247.png)\n"
   ]
  },
  {
   "cell_type": "markdown",
   "id": "9bb20058",
   "metadata": {},
   "source": [
    "# <a name='Cleaning'>Data Cleaning </a>"
   ]
  },
  {
   "cell_type": "code",
   "execution_count": 67,
   "id": "1f927af1",
   "metadata": {},
   "outputs": [
    {
     "name": "stdout",
     "output_type": "stream",
     "text": [
      "<class 'pandas.core.frame.DataFrame'>\n",
      "RangeIndex: 2000 entries, 0 to 1999\n",
      "Data columns (total 11 columns):\n",
      " #   Column                   Non-Null Count  Dtype \n",
      "---  ------                   --------------  ----- \n",
      " 0   Unnamed: 0               2000 non-null   int64 \n",
      " 1   Clothing ID              2000 non-null   int64 \n",
      " 2   Age                      2000 non-null   int64 \n",
      " 3   Title                    1652 non-null   object\n",
      " 4   Review Text              1932 non-null   object\n",
      " 5   Rating                   2000 non-null   int64 \n",
      " 6   Recommended IND          2000 non-null   int64 \n",
      " 7   Positive Feedback Count  2000 non-null   int64 \n",
      " 8   Division Name            2000 non-null   object\n",
      " 9   Department Name          2000 non-null   object\n",
      " 10  Class Name               2000 non-null   object\n",
      "dtypes: int64(6), object(5)\n",
      "memory usage: 172.0+ KB\n"
     ]
    }
   ],
   "source": [
    "df.info()"
   ]
  },
  {
   "cell_type": "code",
   "execution_count": 68,
   "id": "896efcc0",
   "metadata": {},
   "outputs": [
    {
     "data": {
      "text/plain": [
       "(2000, 11)"
      ]
     },
     "execution_count": 68,
     "metadata": {},
     "output_type": "execute_result"
    }
   ],
   "source": [
    "df.shape"
   ]
  },
  {
   "cell_type": "markdown",
   "id": "c4ac1b4a",
   "metadata": {},
   "source": [
    "### It show that we have 6 Numerical with Integer variable and 5 Categorical variable with object datatype .\n"
   ]
  },
  {
   "cell_type": "code",
   "execution_count": 69,
   "id": "7eee94c0",
   "metadata": {},
   "outputs": [
    {
     "data": {
      "text/plain": [
       "Unnamed: 0                   0\n",
       "Clothing ID                  0\n",
       "Age                          0\n",
       "Title                      348\n",
       "Review Text                 68\n",
       "Rating                       0\n",
       "Recommended IND              0\n",
       "Positive Feedback Count      0\n",
       "Division Name                0\n",
       "Department Name              0\n",
       "Class Name                   0\n",
       "dtype: int64"
      ]
     },
     "execution_count": 69,
     "metadata": {},
     "output_type": "execute_result"
    }
   ],
   "source": [
    "df.isna().sum() # check if we have Nulls .."
   ]
  },
  {
   "cell_type": "code",
   "execution_count": 70,
   "id": "fec37115",
   "metadata": {},
   "outputs": [
    {
     "data": {
      "text/plain": [
       "0"
      ]
     },
     "execution_count": 70,
     "metadata": {},
     "output_type": "execute_result"
    }
   ],
   "source": [
    "df.duplicated().sum() # check if we have Duplicates .."
   ]
  },
  {
   "cell_type": "markdown",
   "id": "1db25d90",
   "metadata": {},
   "source": [
    "### We have some nulls & not have a Duplicates, to Deal with them"
   ]
  },
  {
   "cell_type": "code",
   "execution_count": 71,
   "id": "5a4a2711",
   "metadata": {},
   "outputs": [],
   "source": [
    "df.drop('Unnamed: 0',axis =1, inplace= True) # drop id number.."
   ]
  },
  {
   "cell_type": "code",
   "execution_count": 72,
   "id": "0996e133",
   "metadata": {},
   "outputs": [],
   "source": [
    "df.drop('Title',axis =1, inplace= True) # drop titles of Reviews.."
   ]
  },
  {
   "cell_type": "code",
   "execution_count": 73,
   "id": "2d9782dd",
   "metadata": {},
   "outputs": [
    {
     "data": {
      "text/plain": [
       "Clothing ID                 0\n",
       "Age                         0\n",
       "Review Text                68\n",
       "Rating                      0\n",
       "Recommended IND             0\n",
       "Positive Feedback Count     0\n",
       "Division Name               0\n",
       "Department Name             0\n",
       "Class Name                  0\n",
       "dtype: int64"
      ]
     },
     "execution_count": 73,
     "metadata": {},
     "output_type": "execute_result"
    }
   ],
   "source": [
    "df.isna().sum()"
   ]
  },
  {
   "cell_type": "code",
   "execution_count": 74,
   "id": "d4c0df75",
   "metadata": {},
   "outputs": [],
   "source": [
    "df = df.dropna() # drop all nulls in dataframe "
   ]
  },
  {
   "cell_type": "code",
   "execution_count": 75,
   "id": "ed03bc98",
   "metadata": {},
   "outputs": [
    {
     "data": {
      "text/plain": [
       "Clothing ID                0\n",
       "Age                        0\n",
       "Review Text                0\n",
       "Rating                     0\n",
       "Recommended IND            0\n",
       "Positive Feedback Count    0\n",
       "Division Name              0\n",
       "Department Name            0\n",
       "Class Name                 0\n",
       "dtype: int64"
      ]
     },
     "execution_count": 75,
     "metadata": {},
     "output_type": "execute_result"
    }
   ],
   "source": [
    "df.isna().sum() # check of nulls "
   ]
  },
  {
   "cell_type": "markdown",
   "id": "be63265e",
   "metadata": {},
   "source": [
    " #### <a href='#Appendix'>Return to Appendix </a> "
   ]
  },
  {
   "attachments": {
    "Screenshot%202021-12-25%20220247.png": {
     "image/png": "[encoded data removed]"
    }
   },
   "cell_type": "markdown",
   "id": "b4c9706d",
   "metadata": {},
   "source": [
    "![Screenshot%202021-12-25%20220247.png](attachment:Screenshot%202021-12-25%20220247.png)\n"
   ]
  },
  {
   "cell_type": "markdown",
   "id": "8b5b4e92",
   "metadata": {},
   "source": [
    "# <a name='fea'>Feature Engineering </a>"
   ]
  },
  {
   "cell_type": "code",
   "execution_count": 76,
   "id": "b0322383",
   "metadata": {},
   "outputs": [
    {
     "data": {
      "text/plain": [
       "array(['Initmates', 'General', 'General Petite'], dtype=object)"
      ]
     },
     "execution_count": 76,
     "metadata": {},
     "output_type": "execute_result"
    }
   ],
   "source": [
    "df['Division Name'].unique() # how"
   ]
  },
  {
   "cell_type": "code",
   "execution_count": 77,
   "id": "1e9682a6",
   "metadata": {},
   "outputs": [
    {
     "data": {
      "text/plain": [
       "array(['Intimate', 'Dresses', 'Bottoms', 'Tops', 'Jackets', 'Trend'],\n",
       "      dtype=object)"
      ]
     },
     "execution_count": 77,
     "metadata": {},
     "output_type": "execute_result"
    }
   ],
   "source": [
    "df['Department Name'].unique() "
   ]
  },
  {
   "cell_type": "code",
   "execution_count": 78,
   "id": "332f07c9",
   "metadata": {},
   "outputs": [
    {
     "data": {
      "text/plain": [
       "array(['Intimates', 'Dresses', 'Pants', 'Blouses', 'Knits', 'Outerwear',\n",
       "       'Lounge', 'Sweaters', 'Skirts', 'Fine gauge', 'Sleep', 'Jackets',\n",
       "       'Swim', 'Trend', 'Jeans', 'Legwear', 'Shorts', 'Layering'],\n",
       "      dtype=object)"
      ]
     },
     "execution_count": 78,
     "metadata": {},
     "output_type": "execute_result"
    }
   ],
   "source": [
    "df['Class Name'].unique()"
   ]
  },
  {
   "cell_type": "code",
   "execution_count": 79,
   "id": "2a155e99",
   "metadata": {},
   "outputs": [
    {
     "data": {
      "text/html": [
       "<div>\n",
       "<style scoped>\n",
       "    .dataframe tbody tr th:only-of-type {\n",
       "        vertical-align: middle;\n",
       "    }\n",
       "\n",
       "    .dataframe tbody tr th {\n",
       "        vertical-align: top;\n",
       "    }\n",
       "\n",
       "    .dataframe thead th {\n",
       "        text-align: right;\n",
       "    }\n",
       "</style>\n",
       "<table border=\"1\" class=\"dataframe\">\n",
       "  <thead>\n",
       "    <tr style=\"text-align: right;\">\n",
       "      <th></th>\n",
       "      <th></th>\n",
       "      <th></th>\n",
       "    </tr>\n",
       "    <tr>\n",
       "      <th>Division Name</th>\n",
       "      <th>Department Name</th>\n",
       "      <th>Class Name</th>\n",
       "    </tr>\n",
       "  </thead>\n",
       "  <tbody>\n",
       "    <tr>\n",
       "      <th rowspan=\"12\" valign=\"top\">General</th>\n",
       "      <th rowspan=\"4\" valign=\"top\">Bottoms</th>\n",
       "      <th>Jeans</th>\n",
       "    </tr>\n",
       "    <tr>\n",
       "      <th>Pants</th>\n",
       "    </tr>\n",
       "    <tr>\n",
       "      <th>Shorts</th>\n",
       "    </tr>\n",
       "    <tr>\n",
       "      <th>Skirts</th>\n",
       "    </tr>\n",
       "    <tr>\n",
       "      <th>Dresses</th>\n",
       "      <th>Dresses</th>\n",
       "    </tr>\n",
       "    <tr>\n",
       "      <th rowspan=\"2\" valign=\"top\">Jackets</th>\n",
       "      <th>Jackets</th>\n",
       "    </tr>\n",
       "    <tr>\n",
       "      <th>Outerwear</th>\n",
       "    </tr>\n",
       "    <tr>\n",
       "      <th rowspan=\"4\" valign=\"top\">Tops</th>\n",
       "      <th>Blouses</th>\n",
       "    </tr>\n",
       "    <tr>\n",
       "      <th>Fine gauge</th>\n",
       "    </tr>\n",
       "    <tr>\n",
       "      <th>Knits</th>\n",
       "    </tr>\n",
       "    <tr>\n",
       "      <th>Sweaters</th>\n",
       "    </tr>\n",
       "    <tr>\n",
       "      <th>Trend</th>\n",
       "      <th>Trend</th>\n",
       "    </tr>\n",
       "    <tr>\n",
       "      <th rowspan=\"11\" valign=\"top\">General Petite</th>\n",
       "      <th rowspan=\"3\" valign=\"top\">Bottoms</th>\n",
       "      <th>Jeans</th>\n",
       "    </tr>\n",
       "    <tr>\n",
       "      <th>Pants</th>\n",
       "    </tr>\n",
       "    <tr>\n",
       "      <th>Skirts</th>\n",
       "    </tr>\n",
       "    <tr>\n",
       "      <th>Dresses</th>\n",
       "      <th>Dresses</th>\n",
       "    </tr>\n",
       "    <tr>\n",
       "      <th>Intimate</th>\n",
       "      <th>Lounge</th>\n",
       "    </tr>\n",
       "    <tr>\n",
       "      <th>Jackets</th>\n",
       "      <th>Jackets</th>\n",
       "    </tr>\n",
       "    <tr>\n",
       "      <th rowspan=\"4\" valign=\"top\">Tops</th>\n",
       "      <th>Blouses</th>\n",
       "    </tr>\n",
       "    <tr>\n",
       "      <th>Fine gauge</th>\n",
       "    </tr>\n",
       "    <tr>\n",
       "      <th>Knits</th>\n",
       "    </tr>\n",
       "    <tr>\n",
       "      <th>Sweaters</th>\n",
       "    </tr>\n",
       "    <tr>\n",
       "      <th>Trend</th>\n",
       "      <th>Trend</th>\n",
       "    </tr>\n",
       "    <tr>\n",
       "      <th rowspan=\"6\" valign=\"top\">Initmates</th>\n",
       "      <th rowspan=\"6\" valign=\"top\">Intimate</th>\n",
       "      <th>Intimates</th>\n",
       "    </tr>\n",
       "    <tr>\n",
       "      <th>Layering</th>\n",
       "    </tr>\n",
       "    <tr>\n",
       "      <th>Legwear</th>\n",
       "    </tr>\n",
       "    <tr>\n",
       "      <th>Lounge</th>\n",
       "    </tr>\n",
       "    <tr>\n",
       "      <th>Sleep</th>\n",
       "    </tr>\n",
       "    <tr>\n",
       "      <th>Swim</th>\n",
       "    </tr>\n",
       "  </tbody>\n",
       "</table>\n",
       "</div>"
      ],
      "text/plain": [
       "Empty DataFrame\n",
       "Columns: []\n",
       "Index: [(General, Bottoms, Jeans), (General, Bottoms, Pants), (General, Bottoms, Shorts), (General, Bottoms, Skirts), (General, Dresses, Dresses), (General, Jackets, Jackets), (General, Jackets, Outerwear), (General, Tops, Blouses), (General, Tops, Fine gauge), (General, Tops, Knits), (General, Tops, Sweaters), (General, Trend, Trend), (General Petite, Bottoms, Jeans), (General Petite, Bottoms, Pants), (General Petite, Bottoms, Skirts), (General Petite, Dresses, Dresses), (General Petite, Intimate, Lounge), (General Petite, Jackets, Jackets), (General Petite, Tops, Blouses), (General Petite, Tops, Fine gauge), (General Petite, Tops, Knits), (General Petite, Tops, Sweaters), (General Petite, Trend, Trend), (Initmates, Intimate, Intimates), (Initmates, Intimate, Layering), (Initmates, Intimate, Legwear), (Initmates, Intimate, Lounge), (Initmates, Intimate, Sleep), (Initmates, Intimate, Swim)]"
      ]
     },
     "execution_count": 79,
     "metadata": {},
     "output_type": "execute_result"
    }
   ],
   "source": [
    "# Relation between Division name, Department name and Class name? \n",
    "df[['Division Name','Department Name','Class Name']].groupby(['Division Name','Department Name','Class Name']).agg('count')"
   ]
  },
  {
   "cell_type": "markdown",
   "id": "46cb8420",
   "metadata": {},
   "source": [
    " #### <a href='#Appendix'>Return to Appendix </a> "
   ]
  },
  {
   "attachments": {
    "Screenshot%202021-12-25%20220247.png": {
     "image/png": "[encoded data removed]"
    }
   },
   "cell_type": "markdown",
   "id": "86dc427b",
   "metadata": {},
   "source": [
    "![Screenshot%202021-12-25%20220247.png](attachment:Screenshot%202021-12-25%20220247.png)\n"
   ]
  },
  {
   "cell_type": "markdown",
   "id": "e6885415",
   "metadata": {},
   "source": [
    " # <a name='EDA'>EDA & Visulizations</a>"
   ]
  },
  {
   "cell_type": "markdown",
   "id": "66d021ec",
   "metadata": {},
   "source": [
    "## 1- Visualizing the highest rating scores "
   ]
  },
  {
   "cell_type": "code",
   "execution_count": 80,
   "id": "d64bd288",
   "metadata": {},
   "outputs": [
    {
     "data": {
      "text/plain": [
       "5    1030\n",
       "4     439\n",
       "3     250\n",
       "2     150\n",
       "1      63\n",
       "Name: Rating, dtype: int64"
      ]
     },
     "execution_count": 80,
     "metadata": {},
     "output_type": "execute_result"
    }
   ],
   "source": [
    "df.Rating.value_counts()"
   ]
  },
  {
   "cell_type": "code",
   "execution_count": 81,
   "id": "b20ecb70",
   "metadata": {},
   "outputs": [
    {
     "data": {
      "image/png": "[encoded data removed]",
      "text/plain": [
       "<Figure size 504x288 with 1 Axes>"
      ]
     },
     "metadata": {
      "needs_background": "light"
     },
     "output_type": "display_data"
    }
   ],
   "source": [
    "plt.figure(figsize=(7,4))\n",
    "plt.rcParams.update\n",
    "sns.countplot('Rating', data = df)\n",
    "\n",
    "plt.title('The highest rating scores ', fontsize=20)\n",
    "plt.ylabel('Number of Rarting ', fontsize=10)\n",
    "plt.xlabel('Rating Score', fontsize=15);"
   ]
  },
  {
   "cell_type": "markdown",
   "id": "4999d176",
   "metadata": {},
   "source": [
    "## 2- Visualizing Positive Reviews Vs. Negative Reviews"
   ]
  },
  {
   "cell_type": "code",
   "execution_count": 82,
   "id": "38efd063",
   "metadata": {},
   "outputs": [
    {
     "data": {
      "text/html": [
       "<div>\n",
       "<style scoped>\n",
       "    .dataframe tbody tr th:only-of-type {\n",
       "        vertical-align: middle;\n",
       "    }\n",
       "\n",
       "    .dataframe tbody tr th {\n",
       "        vertical-align: top;\n",
       "    }\n",
       "\n",
       "    .dataframe thead th {\n",
       "        text-align: right;\n",
       "    }\n",
       "</style>\n",
       "<table border=\"1\" class=\"dataframe\">\n",
       "  <thead>\n",
       "    <tr style=\"text-align: right;\">\n",
       "      <th></th>\n",
       "      <th>Review Text</th>\n",
       "      <th>Review_Type</th>\n",
       "    </tr>\n",
       "  </thead>\n",
       "  <tbody>\n",
       "    <tr>\n",
       "      <th>0</th>\n",
       "      <td>Absolutely wonderful - silky and sexy and comf...</td>\n",
       "      <td>Positive Reviews</td>\n",
       "    </tr>\n",
       "    <tr>\n",
       "      <th>1</th>\n",
       "      <td>Love this dress!  it's sooo pretty.  i happene...</td>\n",
       "      <td>Positive Reviews</td>\n",
       "    </tr>\n",
       "    <tr>\n",
       "      <th>2</th>\n",
       "      <td>I had such high hopes for this dress and reall...</td>\n",
       "      <td>Positive Reviews</td>\n",
       "    </tr>\n",
       "    <tr>\n",
       "      <th>3</th>\n",
       "      <td>I love, love, love this jumpsuit. it's fun, fl...</td>\n",
       "      <td>Positive Reviews</td>\n",
       "    </tr>\n",
       "    <tr>\n",
       "      <th>4</th>\n",
       "      <td>This shirt is very flattering to all due to th...</td>\n",
       "      <td>Positive Reviews</td>\n",
       "    </tr>\n",
       "    <tr>\n",
       "      <th>5</th>\n",
       "      <td>I love tracy reese dresses, but this one is no...</td>\n",
       "      <td>Negative Reviews</td>\n",
       "    </tr>\n",
       "  </tbody>\n",
       "</table>\n",
       "</div>"
      ],
      "text/plain": [
       "                                         Review Text       Review_Type\n",
       "0  Absolutely wonderful - silky and sexy and comf...  Positive Reviews\n",
       "1  Love this dress!  it's sooo pretty.  i happene...  Positive Reviews\n",
       "2  I had such high hopes for this dress and reall...  Positive Reviews\n",
       "3  I love, love, love this jumpsuit. it's fun, fl...  Positive Reviews\n",
       "4  This shirt is very flattering to all due to th...  Positive Reviews\n",
       "5  I love tracy reese dresses, but this one is no...  Negative Reviews"
      ]
     },
     "execution_count": 82,
     "metadata": {},
     "output_type": "execute_result"
    }
   ],
   "source": [
    "df[\"Review_Type\"] = df[\"Rating\"].apply(lambda x: \"Negative Reviews\" if x <= 2 else \"Positive Reviews\")\n",
    "reviews_df_plot = df[[\"Review Text\", \"Review_Type\"]]\n",
    "reviews_df_plot.head(6)"
   ]
  },
  {
   "cell_type": "code",
   "execution_count": 83,
   "id": "37048bcc",
   "metadata": {},
   "outputs": [
    {
     "data": {
      "image/png": "[encoded data removed]",
      "text/plain": [
       "<Figure size 576x360 with 1 Axes>"
      ]
     },
     "metadata": {
      "needs_background": "light"
     },
     "output_type": "display_data"
    }
   ],
   "source": [
    "plt.figure(figsize=(8,5))\n",
    "plt.rcParams.update({'font.size': 10})\n",
    "sns.countplot('Review_Type', data = reviews_df_plot)\n",
    "\n",
    "plt.title('Positive Reviews Vs. Negative Reviews', fontsize=20)\n",
    "plt.ylabel('Count', fontsize=15)\n",
    "plt.xlabel('Review Type', fontsize=15);"
   ]
  },
  {
   "cell_type": "markdown",
   "id": "ed88b7d9",
   "metadata": {},
   "source": [
    "## 3- Visualizing Recommended Products Vs. Not Recommended Products"
   ]
  },
  {
   "cell_type": "code",
   "execution_count": 84,
   "id": "c9567bd3",
   "metadata": {},
   "outputs": [
    {
     "data": {
      "image/png": "[encoded data removed]",
      "text/plain": [
       "<Figure size 720x648 with 1 Axes>"
      ]
     },
     "metadata": {},
     "output_type": "display_data"
    }
   ],
   "source": [
    "plt.figure(figsize = (10, 9))\n",
    "plt.pie(pd.value_counts(df['Recommended IND']),\n",
    "       labels = [1,0],\n",
    "       colors = ['brown', 'orange'],\n",
    "       autopct = '%.2f%%',\n",
    "       textprops = {'size' : 'x-large',\n",
    "                   'fontweight' : 'bold',\n",
    "                   'rotation' : '20',\n",
    "                   'color' : 'w'})\n",
    "\n",
    "plt.legend()\n",
    "plt.title('Recommended Products Vs. Not Recommended Products', fontsize = 18, fontweight = 'bold')\n",
    "plt.show()"
   ]
  },
  {
   "cell_type": "markdown",
   "id": "cd434c3a",
   "metadata": {},
   "source": [
    "## 4- Visualizing Categorical name of the product high level division"
   ]
  },
  {
   "cell_type": "code",
   "execution_count": 85,
   "id": "2375dd19",
   "metadata": {},
   "outputs": [
    {
     "data": {
      "image/png": "[encoded data removed]",
      "text/plain": [
       "<Figure size 576x360 with 1 Axes>"
      ]
     },
     "metadata": {
      "needs_background": "light"
     },
     "output_type": "display_data"
    }
   ],
   "source": [
    "plt.figure(figsize=(8,5))\n",
    "plt.rcParams.update\n",
    "sns.countplot('Division Name', data = df)\n",
    "\n",
    "plt.ylabel('Count ', fontsize=15)\n",
    "plt.xlabel('Division Name', fontsize=15);"
   ]
  },
  {
   "cell_type": "markdown",
   "id": "09880e13",
   "metadata": {},
   "source": [
    "## 5- Visualizing Categorical name of the product department name"
   ]
  },
  {
   "cell_type": "code",
   "execution_count": 86,
   "id": "f838f784",
   "metadata": {},
   "outputs": [
    {
     "data": {
      "image/png": "[encoded data removed]",
      "text/plain": [
       "<Figure size 576x360 with 1 Axes>"
      ]
     },
     "metadata": {
      "needs_background": "light"
     },
     "output_type": "display_data"
    }
   ],
   "source": [
    "plt.figure(figsize=(8,5))\n",
    "plt.rcParams.update\n",
    "sns.countplot('Department Name', data = df)\n",
    "\n",
    "plt.ylabel('Count ', fontsize=15)\n",
    "plt.xlabel('Department Name', fontsize=15);"
   ]
  },
  {
   "cell_type": "markdown",
   "id": "bd613922",
   "metadata": {},
   "source": [
    "## 6- Categorical name of the product class name"
   ]
  },
  {
   "cell_type": "code",
   "execution_count": 87,
   "id": "546a6737",
   "metadata": {},
   "outputs": [
    {
     "data": {
      "image/png": "[encoded data removed]",
      "text/plain": [
       "<Figure size 720x360 with 1 Axes>"
      ]
     },
     "metadata": {
      "needs_background": "light"
     },
     "output_type": "display_data"
    }
   ],
   "source": [
    "plt.figure(figsize=(10,5))\n",
    "plt.rcParams.update\n",
    "sns.countplot('Class Name', data = df)\n",
    "\n",
    "plt.ylabel('Count ', fontsize=15)\n",
    "plt.xlabel('Class Name', fontsize=15);"
   ]
  },
  {
   "cell_type": "markdown",
   "id": "9cea03a8",
   "metadata": {},
   "source": [
    "## 7- Visualizing positive and negative words Using Word Cloud"
   ]
  },
  {
   "cell_type": "code",
   "execution_count": 88,
   "id": "739c2ee2",
   "metadata": {},
   "outputs": [],
   "source": [
    "df['Rating'] = df['Rating'].apply(lambda x: 1 if x >= 2 else 0) "
   ]
  },
  {
   "cell_type": "code",
   "execution_count": 89,
   "id": "0164a0f8",
   "metadata": {},
   "outputs": [],
   "source": [
    "posite = df[df['Rating'] == 1 ]\n",
    "negative = df[df['Rating'] == 0]"
   ]
  },
  {
   "cell_type": "markdown",
   "id": "b1c257c4",
   "metadata": {},
   "source": [
    "# Positive Words"
   ]
  },
  {
   "cell_type": "code",
   "execution_count": 90,
   "id": "e3c2b936",
   "metadata": {},
   "outputs": [
    {
     "data": {
      "image/png": "[encoded data removed]",
      "text/plain": [
       "<Figure size 576x360 with 1 Axes>"
      ]
     },
     "metadata": {
      "needs_background": "light"
     },
     "output_type": "display_data"
    }
   ],
   "source": [
    "plt.rcParams['figure.figsize'] = (8, 5)\n",
    "plt.style.use('fast')\n",
    "\n",
    "wc = WordCloud(background_color = 'white', width = 1000, height = 1000).generate(str(posite['Review Text']))\n",
    "plt.title('Positive Words', fontsize = 20, color = 'brown')\n",
    "\n",
    "plt.imshow(wc)\n",
    "plt.axis('off')\n",
    "plt.show()"
   ]
  },
  {
   "cell_type": "markdown",
   "id": "9506b45d",
   "metadata": {},
   "source": [
    "# Negative Words"
   ]
  },
  {
   "cell_type": "code",
   "execution_count": 91,
   "id": "9520ca7a",
   "metadata": {
    "scrolled": true
   },
   "outputs": [
    {
     "data": {
      "image/png": "[encoded data removed]",
      "text/plain": [
       "<Figure size 576x360 with 1 Axes>"
      ]
     },
     "metadata": {
      "needs_background": "light"
     },
     "output_type": "display_data"
    }
   ],
   "source": [
    "plt.rcParams['figure.figsize'] = (8, 5)\n",
    "plt.style.use('fast')\n",
    "\n",
    "wc = WordCloud(background_color = 'white', width = 1500, height = 1500).generate(str(negative['Review Text']))\n",
    "plt.title('Negative Words', fontsize = 20, color = 'brown')\n",
    "\n",
    "plt.imshow(wc)\n",
    "plt.axis('off')\n",
    "plt.show()"
   ]
  },
  {
   "cell_type": "markdown",
   "id": "ae0f13b2",
   "metadata": {},
   "source": [
    " #### <a href='#Appendix'>Return to Appendix </a> "
   ]
  },
  {
   "attachments": {
    "Screenshot%202021-12-25%20220247.png": {
     "image/png": "[encoded data removed]"
    }
   },
   "cell_type": "markdown",
   "id": "86dc427b",
   "metadata": {},
   "source": [
    "![Screenshot%202021-12-25%20220247.png](attachment:Screenshot%202021-12-25%20220247.png)\n"
   ]
  },
  {
   "cell_type": "markdown",
   "id": "2b6e1cc6",
   "metadata": {},
   "source": [
    " # <a name='class'>Classification</a>"
   ]
  },
  {
   "cell_type": "code",
   "execution_count": 92,
   "id": "6b9c6a8e",
   "metadata": {},
   "outputs": [],
   "source": [
    "#### Data Spliting\n",
    "X = df[\"Review Text\"]\n",
    "y = df[\"Recommended IND\"]\n",
    "X_train, X_test, y_train, y_test = train_test_split(X, y, test_size = 0.2, shuffle=True, random_state = 42)"
   ]
  },
  {
   "cell_type": "code",
   "execution_count": 93,
   "id": "840b02a7",
   "metadata": {},
   "outputs": [],
   "source": [
    "# Count Vector\n",
    "cv = CountVectorizer(stop_words=\"english\")\n",
    "X_train_cv = cv.fit_transform(X_train)\n",
    "X_test_cv = cv.transform(X_test)\n",
    "\n",
    "# TFIDF\n",
    "tf = TfidfVectorizer(stop_words=\"english\")\n",
    "X_train_tf = tf.fit_transform(X_train)\n",
    "X_test_tf = tf.transform(X_test)\n",
    "\n",
    "# TFIDF\n",
    "tf_2 = TfidfVectorizer(ngram_range = (1,2), stop_words=\"english\")\n",
    "X_train_tf_2 = tf.fit_transform(X_train)\n",
    "X_test_tf_2 = tf.transform(X_test)"
   ]
  },
  {
   "cell_type": "code",
   "execution_count": 94,
   "id": "2ded4d6b",
   "metadata": {},
   "outputs": [
    {
     "name": "stdout",
     "output_type": "stream",
     "text": [
      "################### LogisticRegression with CV ###################\n",
      "________________ Train Metrics______________\n",
      "Accuarcy score: 0.9948220064724919\n",
      "Precision Score: 0.9936858721389108\n",
      "Recall Score: 1.0\n",
      "F1 Score: 0.9968329374505146\n",
      "________________ Test Metrics______________\n",
      "Accuarcy score: 0.8604651162790697\n",
      "Precision Score: 0.8835820895522388\n",
      "Recall Score: 0.9517684887459807\n",
      "F1 Score: 0.9164086687306502\n",
      "################### LogisticRegression with TFIDF ###################\n",
      "________________ Train Metrics______________\n",
      "Accuarcy score: 0.8537216828478964\n",
      "Precision Score: 0.8487508440243079\n",
      "Recall Score: 0.9984114376489277\n",
      "F1 Score: 0.9175182481751825\n",
      "________________ Test Metrics______________\n",
      "Accuarcy score: 0.8113695090439277\n",
      "Precision Score: 0.8131578947368421\n",
      "Recall Score: 0.9935691318327974\n",
      "F1 Score: 0.894356005788712\n",
      "################### Naive Bayes with CV ###################\n",
      "________________ Train Metrics______________\n",
      "Accuarcy score: 0.9533980582524272\n",
      "Precision Score: 0.952018278750952\n",
      "Recall Score: 0.9928514694201748\n",
      "F1 Score: 0.9720062208398134\n",
      "________________ Test Metrics______________\n",
      "Accuarcy score: 0.8449612403100775\n",
      "Precision Score: 0.8575498575498576\n",
      "Recall Score: 0.9678456591639871\n",
      "F1 Score: 0.9093655589123867\n",
      "################### Naive Bayes with TFIDf ###################\n",
      "________________ Train Metrics______________\n",
      "Accuarcy score: 0.8200647249190939\n",
      "Precision Score: 0.819128171763175\n",
      "Recall Score: 1.0\n",
      "F1 Score: 0.9005722460658083\n",
      "________________ Test Metrics______________\n",
      "Accuarcy score: 0.8036175710594315\n",
      "Precision Score: 0.8036175710594315\n",
      "Recall Score: 1.0\n",
      "F1 Score: 0.8911174785100286\n",
      "################### LogisticRegression with TFIDF ngram_range = (1,2) ###################\n",
      "________________ Train Metrics______________\n",
      "Accuarcy score: 0.8537216828478964\n",
      "Precision Score: 0.8487508440243079\n",
      "Recall Score: 0.9984114376489277\n",
      "F1 Score: 0.9175182481751825\n",
      "________________ Test Metrics______________\n",
      "Accuarcy score: 0.8113695090439277\n",
      "Precision Score: 0.8131578947368421\n",
      "Recall Score: 0.9935691318327974\n",
      "F1 Score: 0.894356005788712\n",
      "################### Naive Bayes with TFIDF ngram_range = (1,2) ###################\n",
      "________________ Train Metrics______________\n",
      "Accuarcy score: 0.8200647249190939\n",
      "Precision Score: 0.819128171763175\n",
      "Recall Score: 1.0\n",
      "F1 Score: 0.9005722460658083\n",
      "________________ Test Metrics______________\n",
      "Accuarcy score: 0.8036175710594315\n",
      "Precision Score: 0.8036175710594315\n",
      "Recall Score: 1.0\n",
      "F1 Score: 0.8911174785100286\n"
     ]
    }
   ],
   "source": [
    "lr=LogisticRegression()\n",
    "models, metric_df = make_exprs([    modeling(\"LogisticRegression with CV\",LogisticRegression(), \n",
    "                                             X_train_cv, y_train, X_test_cv, y_test),\n",
    "                                    modeling(\"LogisticRegression with TFIDF\", LogisticRegression(),\n",
    "                                             X_train_tf, y_train, X_test_tf, y_test),\n",
    "                                    modeling(\"Naive Bayes with CV\", MultinomialNB(),\n",
    "                                             X_train_cv, y_train, X_test_cv, y_test),\n",
    "                                    modeling(\"Naive Bayes with TFIDf\", MultinomialNB(),\n",
    "                                             X_train_tf, y_train, X_test_tf, y_test),\n",
    "                                    modeling(\"LogisticRegression with TFIDF ngram_range = (1,2)\",\n",
    "                                             LogisticRegression(), X_train_tf_2, y_train, X_test_tf_2, y_test),\n",
    "                                    modeling(\"Naive Bayes with TFIDF ngram_range = (1,2)\",\n",
    "                                             MultinomialNB(), X_train_tf_2, y_train, X_test_tf_2, y_test)\n",
    "                                    ])"
   ]
  },
  {
   "cell_type": "code",
   "execution_count": 95,
   "id": "dec81a81",
   "metadata": {},
   "outputs": [
    {
     "data": {
      "text/html": [
       "<div>\n",
       "<style scoped>\n",
       "    .dataframe tbody tr th:only-of-type {\n",
       "        vertical-align: middle;\n",
       "    }\n",
       "\n",
       "    .dataframe tbody tr th {\n",
       "        vertical-align: top;\n",
       "    }\n",
       "\n",
       "    .dataframe thead th {\n",
       "        text-align: right;\n",
       "    }\n",
       "</style>\n",
       "<table border=\"1\" class=\"dataframe\">\n",
       "  <thead>\n",
       "    <tr style=\"text-align: right;\">\n",
       "      <th></th>\n",
       "      <th>Train_acc</th>\n",
       "      <th>Train_prec</th>\n",
       "      <th>Train_recall</th>\n",
       "      <th>Train_fbta</th>\n",
       "      <th>Test_acc</th>\n",
       "      <th>Test_prec</th>\n",
       "      <th>Test_recall</th>\n",
       "      <th>Test_fbta</th>\n",
       "      <th>expr_name</th>\n",
       "    </tr>\n",
       "  </thead>\n",
       "  <tbody>\n",
       "    <tr>\n",
       "      <th>0</th>\n",
       "      <td>0.994822</td>\n",
       "      <td>0.993686</td>\n",
       "      <td>1.000000</td>\n",
       "      <td>0.996833</td>\n",
       "      <td>0.860465</td>\n",
       "      <td>0.883582</td>\n",
       "      <td>0.951768</td>\n",
       "      <td>0.916409</td>\n",
       "      <td>LogisticRegression with CV</td>\n",
       "    </tr>\n",
       "    <tr>\n",
       "      <th>1</th>\n",
       "      <td>0.853722</td>\n",
       "      <td>0.848751</td>\n",
       "      <td>0.998411</td>\n",
       "      <td>0.917518</td>\n",
       "      <td>0.811370</td>\n",
       "      <td>0.813158</td>\n",
       "      <td>0.993569</td>\n",
       "      <td>0.894356</td>\n",
       "      <td>LogisticRegression with TFIDF</td>\n",
       "    </tr>\n",
       "    <tr>\n",
       "      <th>2</th>\n",
       "      <td>0.953398</td>\n",
       "      <td>0.952018</td>\n",
       "      <td>0.992851</td>\n",
       "      <td>0.972006</td>\n",
       "      <td>0.844961</td>\n",
       "      <td>0.857550</td>\n",
       "      <td>0.967846</td>\n",
       "      <td>0.909366</td>\n",
       "      <td>Naive Bayes with CV</td>\n",
       "    </tr>\n",
       "    <tr>\n",
       "      <th>3</th>\n",
       "      <td>0.820065</td>\n",
       "      <td>0.819128</td>\n",
       "      <td>1.000000</td>\n",
       "      <td>0.900572</td>\n",
       "      <td>0.803618</td>\n",
       "      <td>0.803618</td>\n",
       "      <td>1.000000</td>\n",
       "      <td>0.891117</td>\n",
       "      <td>Naive Bayes with TFIDf</td>\n",
       "    </tr>\n",
       "    <tr>\n",
       "      <th>4</th>\n",
       "      <td>0.853722</td>\n",
       "      <td>0.848751</td>\n",
       "      <td>0.998411</td>\n",
       "      <td>0.917518</td>\n",
       "      <td>0.811370</td>\n",
       "      <td>0.813158</td>\n",
       "      <td>0.993569</td>\n",
       "      <td>0.894356</td>\n",
       "      <td>LogisticRegression with TFIDF ngram_range = (1,2)</td>\n",
       "    </tr>\n",
       "    <tr>\n",
       "      <th>5</th>\n",
       "      <td>0.820065</td>\n",
       "      <td>0.819128</td>\n",
       "      <td>1.000000</td>\n",
       "      <td>0.900572</td>\n",
       "      <td>0.803618</td>\n",
       "      <td>0.803618</td>\n",
       "      <td>1.000000</td>\n",
       "      <td>0.891117</td>\n",
       "      <td>Naive Bayes with TFIDF ngram_range = (1,2)</td>\n",
       "    </tr>\n",
       "  </tbody>\n",
       "</table>\n",
       "</div>"
      ],
      "text/plain": [
       "   Train_acc  Train_prec  Train_recall  Train_fbta  Test_acc  Test_prec  \\\n",
       "0   0.994822    0.993686      1.000000    0.996833  0.860465   0.883582   \n",
       "1   0.853722    0.848751      0.998411    0.917518  0.811370   0.813158   \n",
       "2   0.953398    0.952018      0.992851    0.972006  0.844961   0.857550   \n",
       "3   0.820065    0.819128      1.000000    0.900572  0.803618   0.803618   \n",
       "4   0.853722    0.848751      0.998411    0.917518  0.811370   0.813158   \n",
       "5   0.820065    0.819128      1.000000    0.900572  0.803618   0.803618   \n",
       "\n",
       "   Test_recall  Test_fbta                                          expr_name  \n",
       "0     0.951768   0.916409                         LogisticRegression with CV  \n",
       "1     0.993569   0.894356                      LogisticRegression with TFIDF  \n",
       "2     0.967846   0.909366                                Naive Bayes with CV  \n",
       "3     1.000000   0.891117                             Naive Bayes with TFIDf  \n",
       "4     0.993569   0.894356  LogisticRegression with TFIDF ngram_range = (1,2)  \n",
       "5     1.000000   0.891117         Naive Bayes with TFIDF ngram_range = (1,2)  "
      ]
     },
     "execution_count": 95,
     "metadata": {},
     "output_type": "execute_result"
    }
   ],
   "source": [
    "metric_df"
   ]
  },
  {
   "cell_type": "code",
   "execution_count": 96,
   "id": "c93f827e",
   "metadata": {
    "scrolled": true
   },
   "outputs": [
    {
     "data": {
      "text/plain": [
       "[LogisticRegression(),\n",
       " LogisticRegression(),\n",
       " MultinomialNB(),\n",
       " MultinomialNB(),\n",
       " LogisticRegression(),\n",
       " MultinomialNB()]"
      ]
     },
     "execution_count": 96,
     "metadata": {},
     "output_type": "execute_result"
    }
   ],
   "source": [
    "models"
   ]
  },
  {
   "cell_type": "markdown",
   "id": "46cb8420",
   "metadata": {},
   "source": [
    " #### <a href='#Appendix'>Return to Appendix </a> "
   ]
  },
  {
   "attachments": {
    "Screenshot%202021-12-25%20220247.png": {
     "image/png": "[encoded data removed]"
    }
   },
   "cell_type": "markdown",
   "id": "86dc427b",
   "metadata": {},
   "source": [
    "![Screenshot%202021-12-25%20220247.png](attachment:Screenshot%202021-12-25%20220247.png)\n"
   ]
  },
  {
   "cell_type": "markdown",
   "id": "4366742e",
   "metadata": {},
   "source": [
    " # <a name='Topic'>Topic Modeling</a>"
   ]
  },
  {
   "cell_type": "markdown",
   "id": "995a284b",
   "metadata": {},
   "source": [
    "## LSA Model"
   ]
  },
  {
   "cell_type": "code",
   "execution_count": 97,
   "id": "c2e17077",
   "metadata": {},
   "outputs": [
    {
     "data": {
      "text/plain": [
       "(1932, 4688)"
      ]
     },
     "execution_count": 97,
     "metadata": {},
     "output_type": "execute_result"
    }
   ],
   "source": [
    "vectorizer = CountVectorizer(stop_words='english')\n",
    "doc_word = vectorizer.fit_transform(df['Review Text'])\n",
    "doc_word.shape"
   ]
  },
  {
   "cell_type": "code",
   "execution_count": 98,
   "id": "54b0bf60",
   "metadata": {},
   "outputs": [],
   "source": [
    "lsa = TruncatedSVD(10)\n",
    "doc_topic = lsa.fit_transform(doc_word)"
   ]
  },
  {
   "cell_type": "code",
   "execution_count": 99,
   "id": "bf85fd39",
   "metadata": {},
   "outputs": [
    {
     "name": "stdout",
     "output_type": "stream",
     "text": [
      "\n",
      "Topic  0\n",
      "size, dress, love, fit, like, just, wear, small, great, color\n",
      "\n",
      "Topic  1\n",
      "dress, dresses, fabric, saw, wedding, belt, bra, loved, wearing, slip\n",
      "\n",
      "Topic  2\n",
      "size, small, dress, ordered, fit, true, medium, usual, petite, usually\n",
      "\n",
      "Topic  3\n",
      "like, just, look, fabric, really, fit, way, looks, short, looked\n",
      "\n",
      "Topic  4\n",
      "like, size, love, looks, shirt, look, wear, fits, cute, material\n",
      "\n",
      "Topic  5\n",
      "great, wear, looks, color, shirt, jeans, bought, medium, dress, summer\n",
      "\n",
      "Topic  6\n",
      "small, wear, xs, medium, usually, just, runs, extra, arms, retailer\n",
      "\n",
      "Topic  7\n",
      "just, wear, fabric, beautiful, size, right, color, large, really, skirt\n",
      "\n",
      "Topic  8\n",
      "wear, fit, perfect, pants, like, shirt, large, comfortable, pair, perfectly\n",
      "\n",
      "Topic  9\n",
      "color, nice, fabric, sweater, beautiful, perfect, wear, green, skirt, soft\n"
     ]
    }
   ],
   "source": [
    "display_topics(lsa, vectorizer.get_feature_names(), 10)"
   ]
  },
  {
   "cell_type": "markdown",
   "id": "79350331",
   "metadata": {},
   "source": [
    "## NMF Model"
   ]
  },
  {
   "cell_type": "code",
   "execution_count": 100,
   "id": "e59ce543",
   "metadata": {},
   "outputs": [],
   "source": [
    "nmf_model = NMF(10)\n",
    "doc_topic = nmf_model.fit_transform(doc_word)"
   ]
  },
  {
   "cell_type": "code",
   "execution_count": 101,
   "id": "d185d498",
   "metadata": {},
   "outputs": [
    {
     "name": "stdout",
     "output_type": "stream",
     "text": [
      "\n",
      "Topic  0\n",
      "love, little, perfect, fits, soft, comfortable, pants, colors, sweater, skirt\n",
      "\n",
      "Topic  1\n",
      "dress, fabric, dresses, material, flattering, saw, loved, wearing, did, perfect\n",
      "\n",
      "Topic  2\n",
      "size, true, ordered, large, fits, usual, store, material, skirt, big\n",
      "\n",
      "Topic  3\n",
      "like, look, really, looks, model, material, looked, fabric, way, cute\n",
      "\n",
      "Topic  4\n",
      "fit, perfect, petite, waist, pants, length, ordered, perfectly, nice, flattering\n",
      "\n",
      "Topic  5\n",
      "great, looks, jeans, fits, comfortable, shirt, black, bought, flattering, quality\n",
      "\n",
      "Topic  6\n",
      "small, xs, medium, usually, runs, ordered, petite, lbs, extra, arms\n",
      "\n",
      "Topic  7\n",
      "just, fabric, right, short, bit, really, beautiful, length, little, look\n",
      "\n",
      "Topic  8\n",
      "wear, perfect, shirt, bought, comfortable, usually, large, bra, pretty, medium\n",
      "\n",
      "Topic  9\n",
      "color, sweater, nice, beautiful, green, ordered, soft, flattering, coat, long\n"
     ]
    }
   ],
   "source": [
    "display_topics(nmf_model, vectorizer.get_feature_names(), 10)"
   ]
  },
  {
   "cell_type": "markdown",
   "id": "7ada6b91",
   "metadata": {},
   "source": [
    "## LDA Model"
   ]
  },
  {
   "cell_type": "code",
   "execution_count": 102,
   "id": "379792c2",
   "metadata": {},
   "outputs": [
    {
     "name": "stdout",
     "output_type": "stream",
     "text": [
      "LatentDirichletAllocation(learning_method='online', n_jobs=-1, random_state=100)\n"
     ]
    }
   ],
   "source": [
    "lda_model = LatentDirichletAllocation(n_components=10,               # Number of topics\n",
    "                                      max_iter=10,               # Max learning iterations\n",
    "                                      learning_method='online',   \n",
    "                                      random_state=100,          # Random state\n",
    "                                      batch_size=128,            # n docs in each learning iter\n",
    "                                      evaluate_every = -1,       # compute perplexity every n iters, default: Don't\n",
    "                                      n_jobs = -1,               # Use all available CPUs\n",
    "                                     )\n",
    "\n",
    "lda_output = lda_model.fit_transform(doc_word)\n",
    "\n",
    "print(lda_model)"
   ]
  },
  {
   "cell_type": "code",
   "execution_count": 103,
   "id": "80c12f41",
   "metadata": {},
   "outputs": [
    {
     "name": "stdout",
     "output_type": "stream",
     "text": [
      "\n",
      "Topic  0\n",
      "straps, bra, wool, yes, vest, time, 39, problem, piece, paid\n",
      "\n",
      "Topic  1\n",
      "wear, size, bust, large, perfect, leggings, sweater, fits, medium, looser\n",
      "\n",
      "Topic  2\n",
      "sticky, dots, weather, threads, month, 36ddd, boxiness, velcro, twin, widens\n",
      "\n",
      "Topic  3\n",
      "seasons, beauty, itchy, drapey, skinnies, luxurious, thread, rust, voluminous, unexpected\n",
      "\n",
      "Topic  4\n",
      "awhile, cleaned, checked, edging, snatched, stores, result, represented, determined, homework\n",
      "\n",
      "Topic  5\n",
      "night, cover, cold, shrink, dryer, embroidery, hug, favorite, begin, boucle\n",
      "\n",
      "Topic  6\n",
      "high, took, perfect, jeans, look, need, waist, tailor, right, linen\n",
      "\n",
      "Topic  7\n",
      "size, dress, love, fit, like, great, just, color, fabric, small\n",
      "\n",
      "Topic  8\n",
      "cuter, vest, trend, closet, shoes, navy, dressed, flops, cardi, paired\n",
      "\n",
      "Topic  9\n",
      "suit, waistband, im, 38, 36d, 10, bathing, swimsuit, fabrics, perfection\n"
     ]
    }
   ],
   "source": [
    "display_topics(lda_model, vectorizer.get_feature_names(), 10)"
   ]
  },
  {
   "cell_type": "code",
   "execution_count": 104,
   "id": "6f96cd49",
   "metadata": {},
   "outputs": [
    {
     "data": {
      "text/plain": [
       "RandomizedSearchCV(estimator=LatentDirichletAllocation(), n_iter=5,\n",
       "                   param_distributions={'learning_decay': [0.5, 0.7, 0.9],\n",
       "                                        'n_components': [5, 6, 8]})"
      ]
     },
     "execution_count": 104,
     "metadata": {},
     "output_type": "execute_result"
    }
   ],
   "source": [
    "search_params = {'n_components': [5, 6, 8], 'learning_decay': [.5, .7, .9]}\n",
    "\n",
    "# Init the Model\n",
    "lda = LatentDirichletAllocation()\n",
    "\n",
    "# increase number of combos here if tuning results are not yet satisfying\n",
    "param_combos = 5\n",
    "\n",
    "# Init Grid Search Class\n",
    "model = RandomizedSearchCV(lda, search_params, n_iter=param_combos)\n",
    "\n",
    "# Do the Grid Search\n",
    "model.fit(doc_word)"
   ]
  },
  {
   "cell_type": "code",
   "execution_count": 105,
   "id": "b864d023",
   "metadata": {},
   "outputs": [
    {
     "name": "stdout",
     "output_type": "stream",
     "text": [
      "Best Model's Params:  {'n_components': 5, 'learning_decay': 0.5}\n"
     ]
    }
   ],
   "source": [
    "# Best Model\n",
    "best_lda_model = model.best_estimator_\n",
    "\n",
    "# Model Parameters\n",
    "print(\"Best Model's Params: \", model.best_params_)"
   ]
  },
  {
   "cell_type": "code",
   "execution_count": 106,
   "id": "7405ac46",
   "metadata": {},
   "outputs": [
    {
     "name": "stdout",
     "output_type": "stream",
     "text": [
      "\n",
      "Topic  0\n",
      "like, dress, size, love, just, short, small, petite, cute, look\n",
      "\n",
      "Topic  1\n",
      "dress, love, fit, size, just, wear, fabric, small, great, perfect\n",
      "\n",
      "Topic  2\n",
      "great, like, dress, just, fit, work, size, blue, quality, good\n",
      "\n",
      "Topic  3\n",
      "size, wear, love, great, like, fit, color, shirt, ordered, really\n",
      "\n",
      "Topic  4\n",
      "fabric, beautiful, color, sweater, size, look, skirt, like, got, just\n"
     ]
    }
   ],
   "source": [
    "display_topics(best_lda_model, vectorizer.get_feature_names(), 10)"
   ]
  },
  {
   "cell_type": "code",
   "execution_count": 107,
   "id": "7844a4ba",
   "metadata": {},
   "outputs": [
    {
     "data": {
      "text/html": [
       "<style  type=\"text/css\" >\n",
       "#T_9320e_row0_col0,#T_9320e_row0_col2,#T_9320e_row0_col3,#T_9320e_row0_col4,#T_9320e_row1_col0,#T_9320e_row1_col2,#T_9320e_row1_col3,#T_9320e_row2_col0,#T_9320e_row2_col2,#T_9320e_row2_col3,#T_9320e_row2_col4,#T_9320e_row3_col0,#T_9320e_row3_col2,#T_9320e_row3_col3,#T_9320e_row3_col4,#T_9320e_row4_col0,#T_9320e_row4_col2,#T_9320e_row4_col4,#T_9320e_row5_col1,#T_9320e_row5_col2,#T_9320e_row5_col3,#T_9320e_row5_col4,#T_9320e_row5_col5,#T_9320e_row6_col0,#T_9320e_row6_col1,#T_9320e_row6_col2,#T_9320e_row6_col3,#T_9320e_row7_col2,#T_9320e_row7_col3,#T_9320e_row7_col4,#T_9320e_row7_col5,#T_9320e_row8_col0,#T_9320e_row8_col2,#T_9320e_row8_col4,#T_9320e_row9_col0,#T_9320e_row9_col2,#T_9320e_row9_col3,#T_9320e_row9_col4,#T_9320e_row10_col0,#T_9320e_row10_col2,#T_9320e_row10_col3,#T_9320e_row10_col4,#T_9320e_row11_col0,#T_9320e_row11_col2,#T_9320e_row11_col3,#T_9320e_row11_col4,#T_9320e_row12_col0,#T_9320e_row12_col2,#T_9320e_row12_col3,#T_9320e_row12_col4,#T_9320e_row13_col0,#T_9320e_row13_col1,#T_9320e_row13_col2,#T_9320e_row13_col4,#T_9320e_row14_col0,#T_9320e_row14_col2,#T_9320e_row14_col3,#T_9320e_row14_col4{\n",
       "            color:  black;\n",
       "            font-weight:  400;\n",
       "        }#T_9320e_row0_col1,#T_9320e_row0_col5,#T_9320e_row1_col1,#T_9320e_row1_col4,#T_9320e_row1_col5,#T_9320e_row2_col1,#T_9320e_row2_col5,#T_9320e_row3_col1,#T_9320e_row3_col5,#T_9320e_row4_col1,#T_9320e_row4_col3,#T_9320e_row4_col5,#T_9320e_row5_col0,#T_9320e_row6_col4,#T_9320e_row6_col5,#T_9320e_row7_col0,#T_9320e_row7_col1,#T_9320e_row8_col1,#T_9320e_row8_col3,#T_9320e_row8_col5,#T_9320e_row9_col1,#T_9320e_row9_col5,#T_9320e_row10_col1,#T_9320e_row10_col5,#T_9320e_row11_col1,#T_9320e_row11_col5,#T_9320e_row12_col1,#T_9320e_row12_col5,#T_9320e_row13_col3,#T_9320e_row13_col5,#T_9320e_row14_col1,#T_9320e_row14_col5{\n",
       "            color:  green;\n",
       "            font-weight:  700;\n",
       "        }</style><table id=\"T_9320e_\" ><thead>    <tr>        <th class=\"blank level0\" ></th>        <th class=\"col_heading level0 col0\" >Topic0</th>        <th class=\"col_heading level0 col1\" >Topic1</th>        <th class=\"col_heading level0 col2\" >Topic2</th>        <th class=\"col_heading level0 col3\" >Topic3</th>        <th class=\"col_heading level0 col4\" >Topic4</th>        <th class=\"col_heading level0 col5\" >dominant_topic</th>    </tr></thead><tbody>\n",
       "                <tr>\n",
       "                        <th id=\"T_9320e_level0_row0\" class=\"row_heading level0 row0\" >Doc0</th>\n",
       "                        <td id=\"T_9320e_row0_col0\" class=\"data row0 col0\" >0.030000</td>\n",
       "                        <td id=\"T_9320e_row0_col1\" class=\"data row0 col1\" >0.870000</td>\n",
       "                        <td id=\"T_9320e_row0_col2\" class=\"data row0 col2\" >0.030000</td>\n",
       "                        <td id=\"T_9320e_row0_col3\" class=\"data row0 col3\" >0.030000</td>\n",
       "                        <td id=\"T_9320e_row0_col4\" class=\"data row0 col4\" >0.030000</td>\n",
       "                        <td id=\"T_9320e_row0_col5\" class=\"data row0 col5\" >1</td>\n",
       "            </tr>\n",
       "            <tr>\n",
       "                        <th id=\"T_9320e_level0_row1\" class=\"row_heading level0 row1\" >Doc1</th>\n",
       "                        <td id=\"T_9320e_row1_col0\" class=\"data row1 col0\" >0.010000</td>\n",
       "                        <td id=\"T_9320e_row1_col1\" class=\"data row1 col1\" >0.750000</td>\n",
       "                        <td id=\"T_9320e_row1_col2\" class=\"data row1 col2\" >0.010000</td>\n",
       "                        <td id=\"T_9320e_row1_col3\" class=\"data row1 col3\" >0.010000</td>\n",
       "                        <td id=\"T_9320e_row1_col4\" class=\"data row1 col4\" >0.220000</td>\n",
       "                        <td id=\"T_9320e_row1_col5\" class=\"data row1 col5\" >1</td>\n",
       "            </tr>\n",
       "            <tr>\n",
       "                        <th id=\"T_9320e_level0_row2\" class=\"row_heading level0 row2\" >Doc2</th>\n",
       "                        <td id=\"T_9320e_row2_col0\" class=\"data row2 col0\" >0.000000</td>\n",
       "                        <td id=\"T_9320e_row2_col1\" class=\"data row2 col1\" >0.980000</td>\n",
       "                        <td id=\"T_9320e_row2_col2\" class=\"data row2 col2\" >0.000000</td>\n",
       "                        <td id=\"T_9320e_row2_col3\" class=\"data row2 col3\" >0.000000</td>\n",
       "                        <td id=\"T_9320e_row2_col4\" class=\"data row2 col4\" >0.000000</td>\n",
       "                        <td id=\"T_9320e_row2_col5\" class=\"data row2 col5\" >1</td>\n",
       "            </tr>\n",
       "            <tr>\n",
       "                        <th id=\"T_9320e_level0_row3\" class=\"row_heading level0 row3\" >Doc3</th>\n",
       "                        <td id=\"T_9320e_row3_col0\" class=\"data row3 col0\" >0.020000</td>\n",
       "                        <td id=\"T_9320e_row3_col1\" class=\"data row3 col1\" >0.930000</td>\n",
       "                        <td id=\"T_9320e_row3_col2\" class=\"data row3 col2\" >0.020000</td>\n",
       "                        <td id=\"T_9320e_row3_col3\" class=\"data row3 col3\" >0.020000</td>\n",
       "                        <td id=\"T_9320e_row3_col4\" class=\"data row3 col4\" >0.020000</td>\n",
       "                        <td id=\"T_9320e_row3_col5\" class=\"data row3 col5\" >1</td>\n",
       "            </tr>\n",
       "            <tr>\n",
       "                        <th id=\"T_9320e_level0_row4\" class=\"row_heading level0 row4\" >Doc4</th>\n",
       "                        <td id=\"T_9320e_row4_col0\" class=\"data row4 col0\" >0.010000</td>\n",
       "                        <td id=\"T_9320e_row4_col1\" class=\"data row4 col1\" >0.210000</td>\n",
       "                        <td id=\"T_9320e_row4_col2\" class=\"data row4 col2\" >0.010000</td>\n",
       "                        <td id=\"T_9320e_row4_col3\" class=\"data row4 col3\" >0.740000</td>\n",
       "                        <td id=\"T_9320e_row4_col4\" class=\"data row4 col4\" >0.010000</td>\n",
       "                        <td id=\"T_9320e_row4_col5\" class=\"data row4 col5\" >3</td>\n",
       "            </tr>\n",
       "            <tr>\n",
       "                        <th id=\"T_9320e_level0_row5\" class=\"row_heading level0 row5\" >Doc5</th>\n",
       "                        <td id=\"T_9320e_row5_col0\" class=\"data row5 col0\" >0.980000</td>\n",
       "                        <td id=\"T_9320e_row5_col1\" class=\"data row5 col1\" >0.010000</td>\n",
       "                        <td id=\"T_9320e_row5_col2\" class=\"data row5 col2\" >0.010000</td>\n",
       "                        <td id=\"T_9320e_row5_col3\" class=\"data row5 col3\" >0.010000</td>\n",
       "                        <td id=\"T_9320e_row5_col4\" class=\"data row5 col4\" >0.010000</td>\n",
       "                        <td id=\"T_9320e_row5_col5\" class=\"data row5 col5\" >0</td>\n",
       "            </tr>\n",
       "            <tr>\n",
       "                        <th id=\"T_9320e_level0_row6\" class=\"row_heading level0 row6\" >Doc6</th>\n",
       "                        <td id=\"T_9320e_row6_col0\" class=\"data row6 col0\" >0.000000</td>\n",
       "                        <td id=\"T_9320e_row6_col1\" class=\"data row6 col1\" >0.000000</td>\n",
       "                        <td id=\"T_9320e_row6_col2\" class=\"data row6 col2\" >0.000000</td>\n",
       "                        <td id=\"T_9320e_row6_col3\" class=\"data row6 col3\" >0.000000</td>\n",
       "                        <td id=\"T_9320e_row6_col4\" class=\"data row6 col4\" >0.980000</td>\n",
       "                        <td id=\"T_9320e_row6_col5\" class=\"data row6 col5\" >4</td>\n",
       "            </tr>\n",
       "            <tr>\n",
       "                        <th id=\"T_9320e_level0_row7\" class=\"row_heading level0 row7\" >Doc7</th>\n",
       "                        <td id=\"T_9320e_row7_col0\" class=\"data row7 col0\" >0.500000</td>\n",
       "                        <td id=\"T_9320e_row7_col1\" class=\"data row7 col1\" >0.490000</td>\n",
       "                        <td id=\"T_9320e_row7_col2\" class=\"data row7 col2\" >0.000000</td>\n",
       "                        <td id=\"T_9320e_row7_col3\" class=\"data row7 col3\" >0.000000</td>\n",
       "                        <td id=\"T_9320e_row7_col4\" class=\"data row7 col4\" >0.000000</td>\n",
       "                        <td id=\"T_9320e_row7_col5\" class=\"data row7 col5\" >0</td>\n",
       "            </tr>\n",
       "            <tr>\n",
       "                        <th id=\"T_9320e_level0_row8\" class=\"row_heading level0 row8\" >Doc8</th>\n",
       "                        <td id=\"T_9320e_row8_col0\" class=\"data row8 col0\" >0.010000</td>\n",
       "                        <td id=\"T_9320e_row8_col1\" class=\"data row8 col1\" >0.550000</td>\n",
       "                        <td id=\"T_9320e_row8_col2\" class=\"data row8 col2\" >0.010000</td>\n",
       "                        <td id=\"T_9320e_row8_col3\" class=\"data row8 col3\" >0.410000</td>\n",
       "                        <td id=\"T_9320e_row8_col4\" class=\"data row8 col4\" >0.010000</td>\n",
       "                        <td id=\"T_9320e_row8_col5\" class=\"data row8 col5\" >1</td>\n",
       "            </tr>\n",
       "            <tr>\n",
       "                        <th id=\"T_9320e_level0_row9\" class=\"row_heading level0 row9\" >Doc9</th>\n",
       "                        <td id=\"T_9320e_row9_col0\" class=\"data row9 col0\" >0.010000</td>\n",
       "                        <td id=\"T_9320e_row9_col1\" class=\"data row9 col1\" >0.980000</td>\n",
       "                        <td id=\"T_9320e_row9_col2\" class=\"data row9 col2\" >0.010000</td>\n",
       "                        <td id=\"T_9320e_row9_col3\" class=\"data row9 col3\" >0.010000</td>\n",
       "                        <td id=\"T_9320e_row9_col4\" class=\"data row9 col4\" >0.010000</td>\n",
       "                        <td id=\"T_9320e_row9_col5\" class=\"data row9 col5\" >1</td>\n",
       "            </tr>\n",
       "            <tr>\n",
       "                        <th id=\"T_9320e_level0_row10\" class=\"row_heading level0 row10\" >Doc10</th>\n",
       "                        <td id=\"T_9320e_row10_col0\" class=\"data row10 col0\" >0.010000</td>\n",
       "                        <td id=\"T_9320e_row10_col1\" class=\"data row10 col1\" >0.970000</td>\n",
       "                        <td id=\"T_9320e_row10_col2\" class=\"data row10 col2\" >0.010000</td>\n",
       "                        <td id=\"T_9320e_row10_col3\" class=\"data row10 col3\" >0.010000</td>\n",
       "                        <td id=\"T_9320e_row10_col4\" class=\"data row10 col4\" >0.010000</td>\n",
       "                        <td id=\"T_9320e_row10_col5\" class=\"data row10 col5\" >1</td>\n",
       "            </tr>\n",
       "            <tr>\n",
       "                        <th id=\"T_9320e_level0_row11\" class=\"row_heading level0 row11\" >Doc11</th>\n",
       "                        <td id=\"T_9320e_row11_col0\" class=\"data row11 col0\" >0.040000</td>\n",
       "                        <td id=\"T_9320e_row11_col1\" class=\"data row11 col1\" >0.840000</td>\n",
       "                        <td id=\"T_9320e_row11_col2\" class=\"data row11 col2\" >0.040000</td>\n",
       "                        <td id=\"T_9320e_row11_col3\" class=\"data row11 col3\" >0.040000</td>\n",
       "                        <td id=\"T_9320e_row11_col4\" class=\"data row11 col4\" >0.040000</td>\n",
       "                        <td id=\"T_9320e_row11_col5\" class=\"data row11 col5\" >1</td>\n",
       "            </tr>\n",
       "            <tr>\n",
       "                        <th id=\"T_9320e_level0_row12\" class=\"row_heading level0 row12\" >Doc12</th>\n",
       "                        <td id=\"T_9320e_row12_col0\" class=\"data row12 col0\" >0.010000</td>\n",
       "                        <td id=\"T_9320e_row12_col1\" class=\"data row12 col1\" >0.980000</td>\n",
       "                        <td id=\"T_9320e_row12_col2\" class=\"data row12 col2\" >0.010000</td>\n",
       "                        <td id=\"T_9320e_row12_col3\" class=\"data row12 col3\" >0.010000</td>\n",
       "                        <td id=\"T_9320e_row12_col4\" class=\"data row12 col4\" >0.010000</td>\n",
       "                        <td id=\"T_9320e_row12_col5\" class=\"data row12 col5\" >1</td>\n",
       "            </tr>\n",
       "            <tr>\n",
       "                        <th id=\"T_9320e_level0_row13\" class=\"row_heading level0 row13\" >Doc13</th>\n",
       "                        <td id=\"T_9320e_row13_col0\" class=\"data row13 col0\" >0.010000</td>\n",
       "                        <td id=\"T_9320e_row13_col1\" class=\"data row13 col1\" >0.010000</td>\n",
       "                        <td id=\"T_9320e_row13_col2\" class=\"data row13 col2\" >0.010000</td>\n",
       "                        <td id=\"T_9320e_row13_col3\" class=\"data row13 col3\" >0.980000</td>\n",
       "                        <td id=\"T_9320e_row13_col4\" class=\"data row13 col4\" >0.010000</td>\n",
       "                        <td id=\"T_9320e_row13_col5\" class=\"data row13 col5\" >3</td>\n",
       "            </tr>\n",
       "            <tr>\n",
       "                        <th id=\"T_9320e_level0_row14\" class=\"row_heading level0 row14\" >Doc14</th>\n",
       "                        <td id=\"T_9320e_row14_col0\" class=\"data row14 col0\" >0.000000</td>\n",
       "                        <td id=\"T_9320e_row14_col1\" class=\"data row14 col1\" >0.980000</td>\n",
       "                        <td id=\"T_9320e_row14_col2\" class=\"data row14 col2\" >0.000000</td>\n",
       "                        <td id=\"T_9320e_row14_col3\" class=\"data row14 col3\" >0.000000</td>\n",
       "                        <td id=\"T_9320e_row14_col4\" class=\"data row14 col4\" >0.000000</td>\n",
       "                        <td id=\"T_9320e_row14_col5\" class=\"data row14 col5\" >1</td>\n",
       "            </tr>\n",
       "    </tbody></table>"
      ],
      "text/plain": [
       "<pandas.io.formats.style.Styler at 0x12ba2d7cd60>"
      ]
     },
     "execution_count": 107,
     "metadata": {},
     "output_type": "execute_result"
    }
   ],
   "source": [
    "# Create Document - Topic Matrix\n",
    "lda_output = best_lda_model.transform(doc_word)\n",
    "# column names\n",
    "topicnames = [\"Topic\" + str(i) for i in range(best_lda_model.n_components)]\n",
    "# index names\n",
    "docnames = [\"Doc\" + str(i) for i in range(len(df))]\n",
    "# Make the pandas dataframe\n",
    "df_document_topic = pd.DataFrame(np.round(lda_output, 2), columns=topicnames, index=docnames)\n",
    "# Get dominant topic for each document\n",
    "dominant_topic = np.argmax(df_document_topic.values, axis=1)\n",
    "df_document_topic['dominant_topic'] = dominant_topic\n",
    "# Styling\n",
    "def color_green(val):\n",
    "    color = 'green' if val > .1 else 'black'\n",
    "    return 'color: {col}'.format(col=color)\n",
    "def make_bold(val):\n",
    "    weight = 700 if val > .1 else 400\n",
    "    return 'font-weight: {weight}'.format(weight=weight)\n",
    "# Apply Style\n",
    "df_document_topics = df_document_topic.head(15).style.applymap(color_green).applymap(make_bold)\n",
    "df_document_topics"
   ]
  },
  {
   "cell_type": "code",
   "execution_count": 108,
   "id": "17a98cd9",
   "metadata": {},
   "outputs": [
    {
     "data": {
      "text/html": [
       "<div>\n",
       "<style scoped>\n",
       "    .dataframe tbody tr th:only-of-type {\n",
       "        vertical-align: middle;\n",
       "    }\n",
       "\n",
       "    .dataframe tbody tr th {\n",
       "        vertical-align: top;\n",
       "    }\n",
       "\n",
       "    .dataframe thead th {\n",
       "        text-align: right;\n",
       "    }\n",
       "</style>\n",
       "<table border=\"1\" class=\"dataframe\">\n",
       "  <thead>\n",
       "    <tr style=\"text-align: right;\">\n",
       "      <th></th>\n",
       "      <th>Topic Num</th>\n",
       "      <th>Num Documents</th>\n",
       "    </tr>\n",
       "  </thead>\n",
       "  <tbody>\n",
       "    <tr>\n",
       "      <th>0</th>\n",
       "      <td>1</td>\n",
       "      <td>764</td>\n",
       "    </tr>\n",
       "    <tr>\n",
       "      <th>1</th>\n",
       "      <td>3</td>\n",
       "      <td>644</td>\n",
       "    </tr>\n",
       "    <tr>\n",
       "      <th>2</th>\n",
       "      <td>0</td>\n",
       "      <td>328</td>\n",
       "    </tr>\n",
       "    <tr>\n",
       "      <th>3</th>\n",
       "      <td>2</td>\n",
       "      <td>104</td>\n",
       "    </tr>\n",
       "    <tr>\n",
       "      <th>4</th>\n",
       "      <td>4</td>\n",
       "      <td>92</td>\n",
       "    </tr>\n",
       "  </tbody>\n",
       "</table>\n",
       "</div>"
      ],
      "text/plain": [
       "   Topic Num  Num Documents\n",
       "0          1            764\n",
       "1          3            644\n",
       "2          0            328\n",
       "3          2            104\n",
       "4          4             92"
      ]
     },
     "execution_count": 108,
     "metadata": {},
     "output_type": "execute_result"
    }
   ],
   "source": [
    "df_topic_distribution = df_document_topic['dominant_topic'].value_counts().reset_index(name=\"Num Documents\")\n",
    "df_topic_distribution.columns = ['Topic Num', 'Num Documents']\n",
    "df_topic_distribution"
   ]
  },
  {
   "cell_type": "markdown",
   "id": "46cb8420",
   "metadata": {},
   "source": [
    " #### <a href='#Appendix'>Return to Appendix </a> "
   ]
  },
  {
   "attachments": {
    "Screenshot%202021-12-25%20220247.png": {
     "image/png": "[encoded data removed]"
    }
   },
   "cell_type": "markdown",
   "id": "86dc427b",
   "metadata": {},
   "source": [
    "![Screenshot%202021-12-25%20220247.png](attachment:Screenshot%202021-12-25%20220247.png)\n"
   ]
  },
  {
   "cell_type": "markdown",
   "id": "ecd32e31",
   "metadata": {},
   "source": [
    "# <a name='clus'>Clustring</a>"
   ]
  },
  {
   "cell_type": "code",
   "execution_count": 109,
   "id": "7e5a518d",
   "metadata": {},
   "outputs": [],
   "source": [
    "X = df_document_topic.drop(\"dominant_topic\", axis=\"columns\")"
   ]
  },
  {
   "cell_type": "code",
   "execution_count": 110,
   "id": "641490c6",
   "metadata": {},
   "outputs": [
    {
     "name": "stdout",
     "output_type": "stream",
     "text": [
      "2 0.47699961366712823\n",
      "3 0.6088683639725863\n",
      "4 0.6632911349666439\n",
      "5 0.6899860280207357\n",
      "6 0.6602088679629551\n",
      "7 0.6606789786290086\n",
      "8 0.6891409016823548\n",
      "9 0.685901555880121\n",
      "10 0.7035105007321164\n",
      "11 0.7036118414357231\n",
      "12 0.7083408407028096\n",
      "13 0.7106118783833745\n"
     ]
    }
   ],
   "source": [
    "sil_list = []\n",
    "k_list = []\n",
    "for i in range(2, 15):\n",
    "    agg = AgglomerativeClustering(n_clusters=i,linkage='ward')\n",
    "    cluster_label = agg.fit_predict(X)\n",
    "    k_list.append(i)\n",
    "    sil_list.append(silhouette_score(X, cluster_label))\n",
    "for i in range(0, 12):\n",
    "    print(k_list[i], sil_list[i])"
   ]
  },
  {
   "cell_type": "code",
   "execution_count": 111,
   "id": "62aad43a",
   "metadata": {},
   "outputs": [],
   "source": [
    "agg = AgglomerativeClustering(n_clusters=13,linkage='ward')\n",
    "cluster_label = agg.fit_predict(X)\n",
    "X_new = X.copy()\n",
    "X_new[\"cluster\"] = cluster_label"
   ]
  },
  {
   "cell_type": "code",
   "execution_count": 112,
   "id": "47b95b40",
   "metadata": {},
   "outputs": [
    {
     "data": {
      "text/html": [
       "<div>\n",
       "<style scoped>\n",
       "    .dataframe tbody tr th:only-of-type {\n",
       "        vertical-align: middle;\n",
       "    }\n",
       "\n",
       "    .dataframe tbody tr th {\n",
       "        vertical-align: top;\n",
       "    }\n",
       "\n",
       "    .dataframe thead th {\n",
       "        text-align: right;\n",
       "    }\n",
       "</style>\n",
       "<table border=\"1\" class=\"dataframe\">\n",
       "  <thead>\n",
       "    <tr style=\"text-align: right;\">\n",
       "      <th></th>\n",
       "      <th>Topic0</th>\n",
       "      <th>Topic1</th>\n",
       "      <th>Topic2</th>\n",
       "      <th>Topic3</th>\n",
       "      <th>Topic4</th>\n",
       "    </tr>\n",
       "    <tr>\n",
       "      <th>cluster</th>\n",
       "      <th></th>\n",
       "      <th></th>\n",
       "      <th></th>\n",
       "      <th></th>\n",
       "      <th></th>\n",
       "    </tr>\n",
       "  </thead>\n",
       "  <tbody>\n",
       "    <tr>\n",
       "      <th>0</th>\n",
       "      <td>0.034898</td>\n",
       "      <td>0.548163</td>\n",
       "      <td>0.195714</td>\n",
       "      <td>0.009388</td>\n",
       "      <td>0.214694</td>\n",
       "    </tr>\n",
       "    <tr>\n",
       "      <th>1</th>\n",
       "      <td>0.424200</td>\n",
       "      <td>0.009600</td>\n",
       "      <td>0.014000</td>\n",
       "      <td>0.543600</td>\n",
       "      <td>0.011200</td>\n",
       "    </tr>\n",
       "    <tr>\n",
       "      <th>2</th>\n",
       "      <td>0.049186</td>\n",
       "      <td>0.022674</td>\n",
       "      <td>0.890116</td>\n",
       "      <td>0.029070</td>\n",
       "      <td>0.010349</td>\n",
       "    </tr>\n",
       "    <tr>\n",
       "      <th>3</th>\n",
       "      <td>0.621136</td>\n",
       "      <td>0.172727</td>\n",
       "      <td>0.008182</td>\n",
       "      <td>0.034318</td>\n",
       "      <td>0.166364</td>\n",
       "    </tr>\n",
       "    <tr>\n",
       "      <th>4</th>\n",
       "      <td>0.015357</td>\n",
       "      <td>0.379554</td>\n",
       "      <td>0.009911</td>\n",
       "      <td>0.585625</td>\n",
       "      <td>0.011696</td>\n",
       "    </tr>\n",
       "    <tr>\n",
       "      <th>5</th>\n",
       "      <td>0.012870</td>\n",
       "      <td>0.013091</td>\n",
       "      <td>0.017682</td>\n",
       "      <td>0.940353</td>\n",
       "      <td>0.018874</td>\n",
       "    </tr>\n",
       "    <tr>\n",
       "      <th>6</th>\n",
       "      <td>0.945949</td>\n",
       "      <td>0.010717</td>\n",
       "      <td>0.015696</td>\n",
       "      <td>0.017468</td>\n",
       "      <td>0.011519</td>\n",
       "    </tr>\n",
       "    <tr>\n",
       "      <th>7</th>\n",
       "      <td>0.011290</td>\n",
       "      <td>0.010968</td>\n",
       "      <td>0.426129</td>\n",
       "      <td>0.544194</td>\n",
       "      <td>0.010323</td>\n",
       "    </tr>\n",
       "    <tr>\n",
       "      <th>8</th>\n",
       "      <td>0.018622</td>\n",
       "      <td>0.941261</td>\n",
       "      <td>0.016420</td>\n",
       "      <td>0.012319</td>\n",
       "      <td>0.013445</td>\n",
       "    </tr>\n",
       "    <tr>\n",
       "      <th>9</th>\n",
       "      <td>0.014545</td>\n",
       "      <td>0.023896</td>\n",
       "      <td>0.014545</td>\n",
       "      <td>0.054026</td>\n",
       "      <td>0.894286</td>\n",
       "    </tr>\n",
       "    <tr>\n",
       "      <th>10</th>\n",
       "      <td>0.412075</td>\n",
       "      <td>0.556981</td>\n",
       "      <td>0.010377</td>\n",
       "      <td>0.009245</td>\n",
       "      <td>0.012075</td>\n",
       "    </tr>\n",
       "    <tr>\n",
       "      <th>11</th>\n",
       "      <td>0.008889</td>\n",
       "      <td>0.021852</td>\n",
       "      <td>0.008889</td>\n",
       "      <td>0.560000</td>\n",
       "      <td>0.404815</td>\n",
       "    </tr>\n",
       "    <tr>\n",
       "      <th>12</th>\n",
       "      <td>0.023235</td>\n",
       "      <td>0.646471</td>\n",
       "      <td>0.022353</td>\n",
       "      <td>0.285735</td>\n",
       "      <td>0.025441</td>\n",
       "    </tr>\n",
       "  </tbody>\n",
       "</table>\n",
       "</div>"
      ],
      "text/plain": [
       "           Topic0    Topic1    Topic2    Topic3    Topic4\n",
       "cluster                                                  \n",
       "0        0.034898  0.548163  0.195714  0.009388  0.214694\n",
       "1        0.424200  0.009600  0.014000  0.543600  0.011200\n",
       "2        0.049186  0.022674  0.890116  0.029070  0.010349\n",
       "3        0.621136  0.172727  0.008182  0.034318  0.166364\n",
       "4        0.015357  0.379554  0.009911  0.585625  0.011696\n",
       "5        0.012870  0.013091  0.017682  0.940353  0.018874\n",
       "6        0.945949  0.010717  0.015696  0.017468  0.011519\n",
       "7        0.011290  0.010968  0.426129  0.544194  0.010323\n",
       "8        0.018622  0.941261  0.016420  0.012319  0.013445\n",
       "9        0.014545  0.023896  0.014545  0.054026  0.894286\n",
       "10       0.412075  0.556981  0.010377  0.009245  0.012075\n",
       "11       0.008889  0.021852  0.008889  0.560000  0.404815\n",
       "12       0.023235  0.646471  0.022353  0.285735  0.025441"
      ]
     },
     "execution_count": 112,
     "metadata": {},
     "output_type": "execute_result"
    }
   ],
   "source": [
    "X_new.groupby(\"cluster\").mean()"
   ]
  },
  {
   "cell_type": "code",
   "execution_count": 113,
   "id": "2ef04b8e",
   "metadata": {},
   "outputs": [],
   "source": [
    "ss = StandardScaler()\n",
    "X_over_std = ss.fit_transform(X)"
   ]
  },
  {
   "cell_type": "code",
   "execution_count": 114,
   "id": "1c3bd936",
   "metadata": {},
   "outputs": [
    {
     "data": {
      "text/plain": [
       "KMeans()"
      ]
     },
     "execution_count": 114,
     "metadata": {},
     "output_type": "execute_result"
    }
   ],
   "source": [
    "# knn\n",
    "km = KMeans()\n",
    "km.fit(X_over_std)"
   ]
  },
  {
   "cell_type": "code",
   "execution_count": 115,
   "id": "867e9277",
   "metadata": {},
   "outputs": [
    {
     "data": {
      "image/png": "[encoded data removed]",
      "text/plain": [
       "<Figure size 576x360 with 1 Axes>"
      ]
     },
     "metadata": {
      "needs_background": "light"
     },
     "output_type": "display_data"
    }
   ],
   "source": [
    "inertia = []\n",
    "list_num_clusters = list(range(2,21))\n",
    "for num_clusters in list_num_clusters:\n",
    "    km = KMeans(n_clusters=num_clusters)\n",
    "    km.fit(X_over_std)\n",
    "    inertia.append(km.inertia_)\n",
    "    \n",
    "plt.plot(list_num_clusters,inertia)\n",
    "plt.scatter(list_num_clusters,inertia)\n",
    "plt.xlabel('Number of Clusters')\n",
    "plt.ylabel('Inertia');"
   ]
  },
  {
   "cell_type": "code",
   "execution_count": 116,
   "id": "64742db3",
   "metadata": {},
   "outputs": [
    {
     "name": "stdout",
     "output_type": "stream",
     "text": [
      "KMeans(n_clusters=2) For n_clusters = 2 The average silhouette_score is : 0.41337842072479586\n",
      "KMeans(n_clusters=3) For n_clusters = 3 The average silhouette_score is : 0.5555120210094586\n",
      "KMeans(n_clusters=4) For n_clusters = 4 The average silhouette_score is : 0.6329234474772424\n",
      "KMeans(n_clusters=5) For n_clusters = 5 The average silhouette_score is : 0.7106312629895878\n",
      "KMeans(n_clusters=6) For n_clusters = 6 The average silhouette_score is : 0.7133328234587004\n",
      "KMeans(n_clusters=7) For n_clusters = 7 The average silhouette_score is : 0.698196602699087\n",
      "KMeans() For n_clusters = 8 The average silhouette_score is : 0.7060006508359473\n",
      "KMeans(n_clusters=9) For n_clusters = 9 The average silhouette_score is : 0.7019644964411935\n",
      "KMeans(n_clusters=10) For n_clusters = 10 The average silhouette_score is : 0.730493187458318\n"
     ]
    }
   ],
   "source": [
    "for num_clusters in range(2,11):\n",
    "    km = KMeans(n_clusters=num_clusters)\n",
    "    km.fit(X_over_std)\n",
    "    \n",
    "    cluster_labels = km.fit_predict(X_over_std)\n",
    "\n",
    "    # The silhouette_score gives the average value for all the samples.\n",
    "    # This gives a perspective into the density and separation of the formed\n",
    "    # clusters\n",
    "    silhouette_avg = silhouette_score(X_over_std, cluster_labels)\n",
    "    print(\n",
    "        km,\n",
    "        \"For n_clusters =\",\n",
    "        num_clusters,\n",
    "        \"The average silhouette_score is :\",\n",
    "        silhouette_avg,\n",
    "    )"
   ]
  },
  {
   "cell_type": "code",
   "execution_count": 117,
   "id": "473b7a2a",
   "metadata": {},
   "outputs": [
    {
     "data": {
      "text/plain": [
       "KMeans(n_clusters=6, random_state=10)"
      ]
     },
     "execution_count": 117,
     "metadata": {},
     "output_type": "execute_result"
    }
   ],
   "source": [
    "km = KMeans(n_clusters=6,random_state=10)\n",
    "km.fit(X_over_std)"
   ]
  },
  {
   "cell_type": "code",
   "execution_count": 118,
   "id": "08015683",
   "metadata": {},
   "outputs": [],
   "source": [
    "df[\"cluster\"] = km.predict(X_over_std)"
   ]
  },
  {
   "cell_type": "code",
   "execution_count": 119,
   "id": "52fb0c28",
   "metadata": {},
   "outputs": [
    {
     "data": {
      "text/html": [
       "<div>\n",
       "<style scoped>\n",
       "    .dataframe tbody tr th:only-of-type {\n",
       "        vertical-align: middle;\n",
       "    }\n",
       "\n",
       "    .dataframe tbody tr th {\n",
       "        vertical-align: top;\n",
       "    }\n",
       "\n",
       "    .dataframe thead th {\n",
       "        text-align: right;\n",
       "    }\n",
       "</style>\n",
       "<table border=\"1\" class=\"dataframe\">\n",
       "  <thead>\n",
       "    <tr style=\"text-align: right;\">\n",
       "      <th></th>\n",
       "      <th>Topic0</th>\n",
       "      <th>Topic1</th>\n",
       "      <th>Topic2</th>\n",
       "      <th>Topic3</th>\n",
       "      <th>Topic4</th>\n",
       "    </tr>\n",
       "  </thead>\n",
       "  <tbody>\n",
       "    <tr>\n",
       "      <th>0</th>\n",
       "      <td>-0.432693</td>\n",
       "      <td>1.219557</td>\n",
       "      <td>-0.220828</td>\n",
       "      <td>-0.723416</td>\n",
       "      <td>-0.224795</td>\n",
       "    </tr>\n",
       "    <tr>\n",
       "      <th>1</th>\n",
       "      <td>2.159685</td>\n",
       "      <td>-0.769626</td>\n",
       "      <td>-0.257811</td>\n",
       "      <td>-0.718360</td>\n",
       "      <td>-0.229300</td>\n",
       "    </tr>\n",
       "    <tr>\n",
       "      <th>2</th>\n",
       "      <td>-0.085929</td>\n",
       "      <td>-0.398956</td>\n",
       "      <td>-0.132280</td>\n",
       "      <td>0.563498</td>\n",
       "      <td>-0.007762</td>\n",
       "    </tr>\n",
       "    <tr>\n",
       "      <th>3</th>\n",
       "      <td>-0.430213</td>\n",
       "      <td>-0.792082</td>\n",
       "      <td>3.907853</td>\n",
       "      <td>-0.598504</td>\n",
       "      <td>-0.282847</td>\n",
       "    </tr>\n",
       "    <tr>\n",
       "      <th>4</th>\n",
       "      <td>-0.421941</td>\n",
       "      <td>-0.762853</td>\n",
       "      <td>-0.269406</td>\n",
       "      <td>-0.636206</td>\n",
       "      <td>4.037032</td>\n",
       "    </tr>\n",
       "    <tr>\n",
       "      <th>5</th>\n",
       "      <td>-0.496147</td>\n",
       "      <td>-0.848563</td>\n",
       "      <td>-0.243006</td>\n",
       "      <td>1.549903</td>\n",
       "      <td>-0.257255</td>\n",
       "    </tr>\n",
       "  </tbody>\n",
       "</table>\n",
       "</div>"
      ],
      "text/plain": [
       "     Topic0    Topic1    Topic2    Topic3    Topic4\n",
       "0 -0.432693  1.219557 -0.220828 -0.723416 -0.224795\n",
       "1  2.159685 -0.769626 -0.257811 -0.718360 -0.229300\n",
       "2 -0.085929 -0.398956 -0.132280  0.563498 -0.007762\n",
       "3 -0.430213 -0.792082  3.907853 -0.598504 -0.282847\n",
       "4 -0.421941 -0.762853 -0.269406 -0.636206  4.037032\n",
       "5 -0.496147 -0.848563 -0.243006  1.549903 -0.257255"
      ]
     },
     "execution_count": 119,
     "metadata": {},
     "output_type": "execute_result"
    }
   ],
   "source": [
    "df= pd.DataFrame(km.cluster_centers_, columns = X.columns)\n",
    "df"
   ]
  },
  {
   "cell_type": "code",
   "execution_count": 124,
   "id": "f2c6dfcd",
   "metadata": {
    "scrolled": false
   },
   "outputs": [
    {
     "data": {
      "text/html": [
       "<div>\n",
       "<style scoped>\n",
       "    .dataframe tbody tr th:only-of-type {\n",
       "        vertical-align: middle;\n",
       "    }\n",
       "\n",
       "    .dataframe tbody tr th {\n",
       "        vertical-align: top;\n",
       "    }\n",
       "\n",
       "    .dataframe thead th {\n",
       "        text-align: right;\n",
       "    }\n",
       "</style>\n",
       "<table border=\"1\" class=\"dataframe\">\n",
       "  <thead>\n",
       "    <tr style=\"text-align: right;\">\n",
       "      <th></th>\n",
       "      <th>Dressy casual</th>\n",
       "      <th>Evening wear</th>\n",
       "      <th>Casual Wear</th>\n",
       "      <th>Business Formal Attire</th>\n",
       "      <th>Formal Wear</th>\n",
       "    </tr>\n",
       "  </thead>\n",
       "  <tbody>\n",
       "    <tr>\n",
       "      <th>0</th>\n",
       "      <td>-0.432693</td>\n",
       "      <td>1.219557</td>\n",
       "      <td>-0.220828</td>\n",
       "      <td>-0.723416</td>\n",
       "      <td>-0.224795</td>\n",
       "    </tr>\n",
       "    <tr>\n",
       "      <th>1</th>\n",
       "      <td>2.159685</td>\n",
       "      <td>-0.769626</td>\n",
       "      <td>-0.257811</td>\n",
       "      <td>-0.718360</td>\n",
       "      <td>-0.229300</td>\n",
       "    </tr>\n",
       "    <tr>\n",
       "      <th>2</th>\n",
       "      <td>-0.085929</td>\n",
       "      <td>-0.398956</td>\n",
       "      <td>-0.132280</td>\n",
       "      <td>0.563498</td>\n",
       "      <td>-0.007762</td>\n",
       "    </tr>\n",
       "    <tr>\n",
       "      <th>3</th>\n",
       "      <td>-0.430213</td>\n",
       "      <td>-0.792082</td>\n",
       "      <td>3.907853</td>\n",
       "      <td>-0.598504</td>\n",
       "      <td>-0.282847</td>\n",
       "    </tr>\n",
       "    <tr>\n",
       "      <th>4</th>\n",
       "      <td>-0.421941</td>\n",
       "      <td>-0.762853</td>\n",
       "      <td>-0.269406</td>\n",
       "      <td>-0.636206</td>\n",
       "      <td>4.037032</td>\n",
       "    </tr>\n",
       "    <tr>\n",
       "      <th>5</th>\n",
       "      <td>-0.496147</td>\n",
       "      <td>-0.848563</td>\n",
       "      <td>-0.243006</td>\n",
       "      <td>1.549903</td>\n",
       "      <td>-0.257255</td>\n",
       "    </tr>\n",
       "  </tbody>\n",
       "</table>\n",
       "</div>"
      ],
      "text/plain": [
       "   Dressy casual  Evening wear  Casual Wear  Business Formal Attire  \\\n",
       "0      -0.432693      1.219557    -0.220828               -0.723416   \n",
       "1       2.159685     -0.769626    -0.257811               -0.718360   \n",
       "2      -0.085929     -0.398956    -0.132280                0.563498   \n",
       "3      -0.430213     -0.792082     3.907853               -0.598504   \n",
       "4      -0.421941     -0.762853    -0.269406               -0.636206   \n",
       "5      -0.496147     -0.848563    -0.243006                1.549903   \n",
       "\n",
       "   Formal Wear  \n",
       "0    -0.224795  \n",
       "1    -0.229300  \n",
       "2    -0.007762  \n",
       "3    -0.282847  \n",
       "4     4.037032  \n",
       "5    -0.257255  "
      ]
     },
     "execution_count": 124,
     "metadata": {},
     "output_type": "execute_result"
    }
   ],
   "source": [
    "# change topics names\n",
    "df = df.rename(columns= {'Topic0':'Dressy casual',\n",
    "                       'Topic1': 'Evening wear',\n",
    "                       'Topic2': 'Casual Wear',\n",
    "                       'Topic3': 'Business Formal Attire',\n",
    "                       'Topic4': 'Formal Wear'} )\n",
    "df"
   ]
  },
  {
   "cell_type": "markdown",
   "id": "23d8c79f",
   "metadata": {},
   "source": [
    " #### <a href='#Appendix'>Return to Appendix </a> "
   ]
  },
  {
   "attachments": {
    "Screenshot%202021-12-25%20220247.png": {
     "image/png": "[encoded data removed]"
    }
   },
   "cell_type": "markdown",
   "id": "df3a5a6a",
   "metadata": {},
   "source": [
    "![Screenshot%202021-12-25%20220247.png](attachment:Screenshot%202021-12-25%20220247.png)\n"
   ]
  }
 ],
 "metadata": {
  "kernelspec": {
   "display_name": "Python 3",
   "language": "python",
   "name": "python3"
  },
  "language_info": {
   "codemirror_mode": {
    "name": "ipython",
    "version": 3
   },
   "file_extension": ".py",
   "mimetype": "text/x-python",
   "name": "python",
   "nbconvert_exporter": "python",
   "pygments_lexer": "ipython3",
   "version": "3.8.8"
  }
 },
 "nbformat": 4,
 "nbformat_minor": 5
}
