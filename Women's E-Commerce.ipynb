{
 "cells": [
  {
   "cell_type": "markdown",
   "id": "6cf71ba8",
   "metadata": {},
   "source": [
    "# <font color='darkblue'>Women's E-Commerce Clothing Reviews.. </font>\n",
    "![Screenshot 2021-12-18 125058](https://user-images.githubusercontent.com/93244403/147391538-bd5bdde2-90d3-453d-b137-91ff31c73a0c.png)"
   ]
  },
  {
   "cell_type": "markdown",
   "id": "e437d848",
   "metadata": {},
   "source": [
    "#  <a name=Appendix>Appendix:</a>"
   ]
  },
  {
   "cell_type": "markdown",
   "id": "67ac50c2",
   "metadata": {},
   "source": [
    "- click on the links:\n",
    ">1. <a href=#imports>Imports</a>\n",
    ">2. <a href=#def>Helper Function</a>\n",
    ">3. <a href=#Load>Load Data</a>\n",
    ">4. <a href=#Cleaning>Data Cleaning</a>\n",
    ">5. <a href=#fea>Feature Engineering</a>\n",
    ">6. <a href=#EDA>EDA & Visulizations</a>  \n",
    ">7. <a href=#Text>Text Preprocessing</a>\n",
    ">8. <a href=#Topic>Topic Modeling </a>"
   ]
  },
  {
   "attachments": {
    "Screenshot%202021-12-25%20220247.png": {
     "image/png": "[encoded data removed]"
    }
   },
   "cell_type": "markdown",
   "id": "0352f445",
   "metadata": {},
   "source": [
    "![Screenshot%202021-12-25%20220247.png](attachment:Screenshot%202021-12-25%20220247.png)\n"
   ]
  },
  {
   "cell_type": "markdown",
   "id": "7202a69b",
   "metadata": {},
   "source": [
    "# <a name='imports'>Libraries Imports</a> "
   ]
  },
  {
   "cell_type": "code",
   "execution_count": 3,
   "id": "d5d5d15b",
   "metadata": {},
   "outputs": [
    {
     "name": "stdout",
     "output_type": "stream",
     "text": [
      "Requirement already satisfied: plotly in c:\\users\\alaa\\anaconda3\\lib\\site-packages (5.5.0)\n",
      "Requirement already satisfied: tenacity>=6.2.0 in c:\\users\\alaa\\anaconda3\\lib\\site-packages (from plotly) (8.0.1)\n",
      "Requirement already satisfied: six in c:\\users\\alaa\\anaconda3\\lib\\site-packages (from plotly) (1.15.0)\n",
      "Note: you may need to restart the kernel to use updated packages.\n"
     ]
    }
   ],
   "source": [
    "pip install plotly"
   ]
  },
  {
   "cell_type": "code",
   "execution_count": 4,
   "id": "9e2ab6f0",
   "metadata": {},
   "outputs": [
    {
     "name": "stdout",
     "output_type": "stream",
     "text": [
      "Requirement already satisfied: wordcloud in c:\\users\\alaa\\anaconda3\\lib\\site-packages (1.6.0)\n",
      "Requirement already satisfied: pillow in c:\\users\\alaa\\anaconda3\\lib\\site-packages (from wordcloud) (8.2.0)\n",
      "Requirement already satisfied: matplotlib in c:\\users\\alaa\\anaconda3\\lib\\site-packages (from wordcloud) (3.3.4)\n",
      "Requirement already satisfied: numpy>=1.6.1 in c:\\users\\alaa\\anaconda3\\lib\\site-packages (from wordcloud) (1.20.1)\n",
      "Requirement already satisfied: python-dateutil>=2.1 in c:\\users\\alaa\\anaconda3\\lib\\site-packages (from matplotlib->wordcloud) (2.8.1)\n",
      "Requirement already satisfied: cycler>=0.10 in c:\\users\\alaa\\anaconda3\\lib\\site-packages (from matplotlib->wordcloud) (0.10.0)\n",
      "Requirement already satisfied: pyparsing!=2.0.4,!=2.1.2,!=2.1.6,>=2.0.3 in c:\\users\\alaa\\anaconda3\\lib\\site-packages (from matplotlib->wordcloud) (2.4.7)\n",
      "Requirement already satisfied: kiwisolver>=1.0.1 in c:\\users\\alaa\\anaconda3\\lib\\site-packages (from matplotlib->wordcloud) (1.3.1)\n",
      "Requirement already satisfied: six in c:\\users\\alaa\\anaconda3\\lib\\site-packages (from cycler>=0.10->matplotlib->wordcloud) (1.15.0)\n",
      "Note: you may need to restart the kernel to use updated packages.\n"
     ]
    }
   ],
   "source": [
    "pip install wordcloud"
   ]
  },
  {
   "cell_type": "code",
   "execution_count": 5,
   "id": "eb402358",
   "metadata": {},
   "outputs": [
    {
     "name": "stdout",
     "output_type": "stream",
     "text": [
      "Requirement already satisfied: spacy in c:\\users\\alaa\\anaconda3\\lib\\site-packages (3.2.1)\n",
      "Requirement already satisfied: tqdm<5.0.0,>=4.38.0 in c:\\users\\alaa\\anaconda3\\lib\\site-packages (from spacy) (4.59.0)\n",
      "Requirement already satisfied: typer<0.5.0,>=0.3.0 in c:\\users\\alaa\\anaconda3\\lib\\site-packages (from spacy) (0.4.0)\n",
      "Requirement already satisfied: catalogue<2.1.0,>=2.0.6 in c:\\users\\alaa\\anaconda3\\lib\\site-packages (from spacy) (2.0.6)\n",
      "Requirement already satisfied: requests<3.0.0,>=2.13.0 in c:\\users\\alaa\\anaconda3\\lib\\site-packages (from spacy) (2.25.1)\n",
      "Requirement already satisfied: spacy-legacy<3.1.0,>=3.0.8 in c:\\users\\alaa\\anaconda3\\lib\\site-packages (from spacy) (3.0.8)\n",
      "Requirement already satisfied: srsly<3.0.0,>=2.4.1 in c:\\users\\alaa\\anaconda3\\lib\\site-packages (from spacy) (2.4.2)\n",
      "Requirement already satisfied: jinja2 in c:\\users\\alaa\\anaconda3\\lib\\site-packages (from spacy) (2.11.3)\n",
      "Requirement already satisfied: pathy>=0.3.5 in c:\\users\\alaa\\anaconda3\\lib\\site-packages (from spacy) (0.6.1)\n",
      "Requirement already satisfied: thinc<8.1.0,>=8.0.12 in c:\\users\\alaa\\anaconda3\\lib\\site-packages (from spacy) (8.0.13)\n",
      "Requirement already satisfied: packaging>=20.0 in c:\\users\\alaa\\anaconda3\\lib\\site-packages (from spacy) (20.9)\n",
      "Requirement already satisfied: pydantic!=1.8,!=1.8.1,<1.9.0,>=1.7.4 in c:\\users\\alaa\\anaconda3\\lib\\site-packages (from spacy) (1.8.2)\n",
      "Requirement already satisfied: wasabi<1.1.0,>=0.8.1 in c:\\users\\alaa\\anaconda3\\lib\\site-packages (from spacy) (0.9.0)\n",
      "Requirement already satisfied: langcodes<4.0.0,>=3.2.0 in c:\\users\\alaa\\anaconda3\\lib\\site-packages (from spacy) (3.3.0)\n",
      "Requirement already satisfied: spacy-loggers<2.0.0,>=1.0.0 in c:\\users\\alaa\\anaconda3\\lib\\site-packages (from spacy) (1.0.1)\n",
      "Requirement already satisfied: murmurhash<1.1.0,>=0.28.0 in c:\\users\\alaa\\anaconda3\\lib\\site-packages (from spacy) (1.0.6)\n",
      "Requirement already satisfied: setuptools in c:\\users\\alaa\\anaconda3\\lib\\site-packages (from spacy) (60.1.0)\n",
      "Requirement already satisfied: cymem<2.1.0,>=2.0.2 in c:\\users\\alaa\\anaconda3\\lib\\site-packages (from spacy) (2.0.6)\n",
      "Requirement already satisfied: blis<0.8.0,>=0.4.0 in c:\\users\\alaa\\anaconda3\\lib\\site-packages (from spacy) (0.7.5)\n",
      "Requirement already satisfied: preshed<3.1.0,>=3.0.2 in c:\\users\\alaa\\anaconda3\\lib\\site-packages (from spacy) (3.0.6)\n",
      "Requirement already satisfied: numpy>=1.15.0 in c:\\users\\alaa\\anaconda3\\lib\\site-packages (from spacy) (1.20.1)\n",
      "Requirement already satisfied: pyparsing>=2.0.2 in c:\\users\\alaa\\anaconda3\\lib\\site-packages (from packaging>=20.0->spacy) (2.4.7)\n",
      "Requirement already satisfied: smart-open<6.0.0,>=5.0.0 in c:\\users\\alaa\\anaconda3\\lib\\site-packages (from pathy>=0.3.5->spacy) (5.2.1)\n",
      "Requirement already satisfied: typing-extensions>=3.7.4.3 in c:\\users\\alaa\\anaconda3\\lib\\site-packages (from pydantic!=1.8,!=1.8.1,<1.9.0,>=1.7.4->spacy) (3.7.4.3)\n",
      "Requirement already satisfied: chardet<5,>=3.0.2 in c:\\users\\alaa\\anaconda3\\lib\\site-packages (from requests<3.0.0,>=2.13.0->spacy) (4.0.0)\n",
      "Requirement already satisfied: urllib3<1.27,>=1.21.1 in c:\\users\\alaa\\anaconda3\\lib\\site-packages (from requests<3.0.0,>=2.13.0->spacy) (1.26.4)\n",
      "Requirement already satisfied: certifi>=2017.4.17 in c:\\users\\alaa\\anaconda3\\lib\\site-packages (from requests<3.0.0,>=2.13.0->spacy) (2020.12.5)\n",
      "Requirement already satisfied: idna<3,>=2.5 in c:\\users\\alaa\\anaconda3\\lib\\site-packages (from requests<3.0.0,>=2.13.0->spacy) (2.10)\n",
      "Requirement already satisfied: click<9.0.0,>=7.1.1 in c:\\users\\alaa\\anaconda3\\lib\\site-packages (from typer<0.5.0,>=0.3.0->spacy) (7.1.2)\n",
      "Requirement already satisfied: MarkupSafe>=0.23 in c:\\users\\alaa\\anaconda3\\lib\\site-packages (from jinja2->spacy) (2.0.1)\n",
      "Note: you may need to restart the kernel to use updated packages.\n"
     ]
    }
   ],
   "source": [
    "pip install spacy"
   ]
  },
  {
   "cell_type": "markdown",
   "id": "3f10a11e",
   "metadata": {},
   "source": [
    "# <a name='imports'>Libraries Imports</a> "
   ]
  },
  {
   "cell_type": "code",
   "execution_count": 6,
   "id": "5c40999f",
   "metadata": {},
   "outputs": [
    {
     "name": "stdout",
     "output_type": "stream",
     "text": [
      "importing.....[done]\n"
     ]
    }
   ],
   "source": [
    "print(\"importing.....\",end=\"\",flush=True)\n",
    "\n",
    "import pandas as pd\n",
    "import numpy as np\n",
    "from pandas_profiling import ProfileReport\n",
    "import plotly.express as px\n",
    "import matplotlib.pyplot as plt\n",
    "import seaborn as sns\n",
    "\n",
    "import re, string\n",
    "import nltk\n",
    "from nltk.tokenize import word_tokenize\n",
    "from nltk.corpus import stopwords\n",
    "from nltk.tokenize import word_tokenize\n",
    "from nltk.stem import SnowballStemmer,WordNetLemmatizer\n",
    "from nltk.corpus import wordnet\n",
    "\n",
    "\n",
    "# import sklearn\n",
    "from sklearn.preprocessing import scale\n",
    "from sklearn.cluster import KMeans\n",
    "from sklearn.datasets import make_blobs ,fetch_openml\n",
    "from sklearn.utils import shuffle\n",
    "from sklearn.model_selection import train_test_split\n",
    "from sklearn.feature_extraction.text import CountVectorizer, TfidfVectorizer\n",
    "from sklearn.linear_model import LogisticRegression\n",
    "from sklearn.metrics import f1_score, recall_score, precision_score, fbeta_score\n",
    "from sklearn.naive_bayes import MultinomialNB\n",
    "from sklearn.decomposition import LatentDirichletAllocation, TruncatedSVD\n",
    "from sklearn.feature_extraction.text import CountVectorizer, TfidfVectorizer\n",
    "from sklearn.model_selection import GridSearchCV\n",
    "from pprint import pprint\n",
    "from sklearn.cluster import AgglomerativeClustering\n",
    "from sklearn.metrics import silhouette_score\n",
    "from sklearn.decomposition import NMF\n",
    "\n",
    "# Sklearn\n",
    "from sklearn.decomposition import LatentDirichletAllocation, TruncatedSVD\n",
    "from sklearn.model_selection import GridSearchCV, RandomizedSearchCV\n",
    "from pprint import pprint\n",
    "\n",
    "# Plotting tools\n",
    "import pyLDAvis\n",
    "import pyLDAvis.sklearn\n",
    "import matplotlib.pyplot as plt\n",
    "%matplotlib inline\n",
    "\n",
    "%matplotlib inline\n",
    "import warnings\n",
    "warnings.filterwarnings('ignore')\n",
    "print('[done]')\n",
    "\n",
    "import warnings\n",
    "warnings.filterwarnings(\"ignore\")"
   ]
  },
  {
   "cell_type": "markdown",
   "id": "23d8c79f",
   "metadata": {},
   "source": [
    " #### <a href='#Appendix'>Return to Appendix </a> "
   ]
  },
  {
   "attachments": {
    "Screenshot%202021-12-25%20220247.png": {
     "image/png": "[encoded data removed]"
    }
   },
   "cell_type": "markdown",
   "id": "df3a5a6a",
   "metadata": {},
   "source": [
    "![Screenshot%202021-12-25%20220247.png](attachment:Screenshot%202021-12-25%20220247.png)\n"
   ]
  },
  {
   "cell_type": "markdown",
   "id": "14307073",
   "metadata": {},
   "source": [
    "# <a name='def'>Helper function</a> "
   ]
  },
  {
   "cell_type": "code",
   "execution_count": 7,
   "id": "c6f41f9a",
   "metadata": {},
   "outputs": [],
   "source": [
    "#for text pre-processing\n",
    "import re, string\n",
    "import nltk\n",
    "from nltk.tokenize import word_tokenize\n",
    "from nltk.corpus import stopwords\n",
    "from nltk.tokenize import word_tokenize\n",
    "from nltk.stem import SnowballStemmer\n",
    "from nltk.corpus import wordnet\n",
    "\n",
    "def preprocess(text):\n",
    "    text = text.lower() #lowercase text\n",
    "    text=text.strip()  #get rid of leading/trailing whitespace \n",
    "    text=re.compile('<.*?>').sub('', text) #Remove HTML tags/markups\n",
    "    text = re.compile('[%s]' % re.escape(string.punctuation)).sub(' ', text)  #Replace punctuation with space. Careful since punctuation can sometime be useful\n",
    "    text = re.sub('\\s+', ' ', text)  #Remove extra space and tabs\n",
    "    text = re.sub(r'\\[[0-9]*\\]',' ',text) #[0-9] matches any digit (0 to 10000...)\n",
    "    text=re.sub(r'[^\\w\\s]', '', str(text).lower().strip())\n",
    "    text = re.sub(r'\\d',' ',text) #matches any digit from 0 to 100000..., \\D matches non-digits\n",
    "    text = re.sub(r'\\s+',' ',text) #\\s matches any whitespace, \\s+ matches multiple whitespace, \\S matches non-whitespace \n",
    "    \n",
    "    return text\n",
    "\n",
    "def stopword(string):\n",
    "    a= [i for i in string.split() if i not in stopwords.words('english')]\n",
    "    return ' '.join(a)\n",
    "\n",
    "\n",
    "snow = SnowballStemmer('english')\n",
    "\n",
    "def stemming(string):\n",
    "    a=[snow.stem(i) for i in word_tokenize(string) ]\n",
    "    return \" \".join(a)\n",
    "\n",
    "def model_eval(mdl_local, X_local, y_local, eval_name = \"Train\", bta=1):\n",
    "    \n",
    "    y_pred = mdl_local.predict(X_local)\n",
    "    \n",
    "    print(f\"________________ {eval_name} Metrics______________\")\n",
    "    acc = mdl_local.score(X_local , y_local)\n",
    "    print(\"Accuarcy score:\", acc)\n",
    "    prec = precision_score(y_local, y_pred )\n",
    "    print(\"Precision Score:\", prec)\n",
    "    recall = recall_score(y_local, y_pred)\n",
    "    print(\"Recall Score:\", recall)\n",
    "    fbta = fbeta_score( y_local, y_pred, beta=bta)\n",
    "    print(f\"F{bta} Score:\", fbta)\n",
    "    \n",
    "    return {f\"{eval_name}_acc\":acc, f\"{eval_name}_prec\":prec, f\"{eval_name}_recall\":recall, f\"{eval_name}_fbta\":fbta}\n",
    "    \n",
    "    \n",
    "def modeling(expr_name, mdl_local, X_train_local, y_train_local, X_test_local, y_test_local):\n",
    "\n",
    "    mdl_local.fit(X_train_local, y_train_local)\n",
    "    print(f\"################### {expr_name} ###################\")\n",
    "    expr_metric_dict = model_eval(mdl_local, X_train_local, y_train_local, eval_name = \"Train\", bta=1)\n",
    "    expr_metric_dict.update(model_eval(mdl_local, X_test_local, y_test_local, eval_name = \"Test\", bta=1))\n",
    "    \n",
    "    expr_metric_dict[\"expr_name\"] = expr_name\n",
    "    \n",
    "    return mdl_local, expr_metric_dict\n",
    "\n",
    "def make_exprs(exprs_local: list):\n",
    "    exprs = exprs_local\n",
    "    list_metics = []\n",
    "    list_models = []\n",
    "    for model, metric in exprs:\n",
    "        list_models.append(model)\n",
    "        list_metics.append(metric)\n",
    "    return list_models, pd.DataFrame(list_metics)\n",
    "\n",
    "def display_topics(model, feature_names, no_top_words, topic_names=None):\n",
    "    for ix, topic in enumerate(model.components_):\n",
    "        if not topic_names or not topic_names[ix]:\n",
    "            print(\"\\nTopic \", ix)\n",
    "        else:\n",
    "            print(\"\\nTopic: '\",topic_names[ix],\"'\")\n",
    "        print(\", \".join([feature_names[i]\n",
    "                        for i in topic.argsort()[:-no_top_words - 1:-1]]))"
   ]
  },
  {
   "cell_type": "code",
   "execution_count": 8,
   "id": "25fe350e",
   "metadata": {},
   "outputs": [],
   "source": [
    "df= pd.read_csv('Womens Clothing Reviews.csv')"
   ]
  },
  {
   "cell_type": "code",
   "execution_count": 9,
   "id": "9f0b86f2",
   "metadata": {},
   "outputs": [
    {
     "data": {
      "text/plain": [
       "(23486, 11)"
      ]
     },
     "execution_count": 9,
     "metadata": {},
     "output_type": "execute_result"
    }
   ],
   "source": [
    "df.shape"
   ]
  },
  {
   "attachments": {
    "Screenshot%202021-12-25%20220247.png": {
     "image/png": "[encoded data removed]"
    }
   },
   "cell_type": "markdown",
   "id": "36081bef",
   "metadata": {},
   "source": [
    "![Screenshot%202021-12-25%20220247.png](attachment:Screenshot%202021-12-25%20220247.png)\n"
   ]
  },
  {
   "cell_type": "markdown",
   "id": "6bc026c2",
   "metadata": {},
   "source": [
    "# <a name='Load'>Load Data </a> "
   ]
  },
  {
   "cell_type": "code",
   "execution_count": 10,
   "id": "1ae2c327",
   "metadata": {},
   "outputs": [],
   "source": [
    "df= pd.read_csv('Womens Clothing Reviews.csv',nrows=2000)"
   ]
  },
  {
   "cell_type": "code",
   "execution_count": 11,
   "id": "05eee1d5",
   "metadata": {},
   "outputs": [
    {
     "data": {
      "text/html": [
       "<div>\n",
       "<style scoped>\n",
       "    .dataframe tbody tr th:only-of-type {\n",
       "        vertical-align: middle;\n",
       "    }\n",
       "\n",
       "    .dataframe tbody tr th {\n",
       "        vertical-align: top;\n",
       "    }\n",
       "\n",
       "    .dataframe thead th {\n",
       "        text-align: right;\n",
       "    }\n",
       "</style>\n",
       "<table border=\"1\" class=\"dataframe\">\n",
       "  <thead>\n",
       "    <tr style=\"text-align: right;\">\n",
       "      <th></th>\n",
       "      <th>Unnamed: 0</th>\n",
       "      <th>Clothing ID</th>\n",
       "      <th>Age</th>\n",
       "      <th>Title</th>\n",
       "      <th>Review Text</th>\n",
       "      <th>Rating</th>\n",
       "      <th>Recommended IND</th>\n",
       "      <th>Positive Feedback Count</th>\n",
       "      <th>Division Name</th>\n",
       "      <th>Department Name</th>\n",
       "      <th>Class Name</th>\n",
       "    </tr>\n",
       "  </thead>\n",
       "  <tbody>\n",
       "    <tr>\n",
       "      <th>0</th>\n",
       "      <td>0</td>\n",
       "      <td>767</td>\n",
       "      <td>33</td>\n",
       "      <td>NaN</td>\n",
       "      <td>Absolutely wonderful - silky and sexy and comf...</td>\n",
       "      <td>4</td>\n",
       "      <td>1</td>\n",
       "      <td>0</td>\n",
       "      <td>Initmates</td>\n",
       "      <td>Intimate</td>\n",
       "      <td>Intimates</td>\n",
       "    </tr>\n",
       "    <tr>\n",
       "      <th>1</th>\n",
       "      <td>1</td>\n",
       "      <td>1080</td>\n",
       "      <td>34</td>\n",
       "      <td>NaN</td>\n",
       "      <td>Love this dress!  it's sooo pretty.  i happene...</td>\n",
       "      <td>5</td>\n",
       "      <td>1</td>\n",
       "      <td>4</td>\n",
       "      <td>General</td>\n",
       "      <td>Dresses</td>\n",
       "      <td>Dresses</td>\n",
       "    </tr>\n",
       "    <tr>\n",
       "      <th>2</th>\n",
       "      <td>2</td>\n",
       "      <td>1077</td>\n",
       "      <td>60</td>\n",
       "      <td>Some major design flaws</td>\n",
       "      <td>I had such high hopes for this dress and reall...</td>\n",
       "      <td>3</td>\n",
       "      <td>0</td>\n",
       "      <td>0</td>\n",
       "      <td>General</td>\n",
       "      <td>Dresses</td>\n",
       "      <td>Dresses</td>\n",
       "    </tr>\n",
       "  </tbody>\n",
       "</table>\n",
       "</div>"
      ],
      "text/plain": [
       "   Unnamed: 0  Clothing ID  Age                    Title  \\\n",
       "0           0          767   33                      NaN   \n",
       "1           1         1080   34                      NaN   \n",
       "2           2         1077   60  Some major design flaws   \n",
       "\n",
       "                                         Review Text  Rating  Recommended IND  \\\n",
       "0  Absolutely wonderful - silky and sexy and comf...       4                1   \n",
       "1  Love this dress!  it's sooo pretty.  i happene...       5                1   \n",
       "2  I had such high hopes for this dress and reall...       3                0   \n",
       "\n",
       "   Positive Feedback Count Division Name Department Name Class Name  \n",
       "0                        0     Initmates        Intimate  Intimates  \n",
       "1                        4       General         Dresses    Dresses  \n",
       "2                        0       General         Dresses    Dresses  "
      ]
     },
     "execution_count": 11,
     "metadata": {},
     "output_type": "execute_result"
    }
   ],
   "source": [
    "df.head(3)"
   ]
  },
  {
   "cell_type": "code",
   "execution_count": 12,
   "id": "144d7886",
   "metadata": {},
   "outputs": [
    {
     "data": {
      "text/html": [
       "<div>\n",
       "<style scoped>\n",
       "    .dataframe tbody tr th:only-of-type {\n",
       "        vertical-align: middle;\n",
       "    }\n",
       "\n",
       "    .dataframe tbody tr th {\n",
       "        vertical-align: top;\n",
       "    }\n",
       "\n",
       "    .dataframe thead th {\n",
       "        text-align: right;\n",
       "    }\n",
       "</style>\n",
       "<table border=\"1\" class=\"dataframe\">\n",
       "  <thead>\n",
       "    <tr style=\"text-align: right;\">\n",
       "      <th></th>\n",
       "      <th>Unnamed: 0</th>\n",
       "      <th>Clothing ID</th>\n",
       "      <th>Age</th>\n",
       "      <th>Title</th>\n",
       "      <th>Review Text</th>\n",
       "      <th>Rating</th>\n",
       "      <th>Recommended IND</th>\n",
       "      <th>Positive Feedback Count</th>\n",
       "      <th>Division Name</th>\n",
       "      <th>Department Name</th>\n",
       "      <th>Class Name</th>\n",
       "    </tr>\n",
       "  </thead>\n",
       "  <tbody>\n",
       "    <tr>\n",
       "      <th>1997</th>\n",
       "      <td>1997</td>\n",
       "      <td>1022</td>\n",
       "      <td>35</td>\n",
       "      <td>NaN</td>\n",
       "      <td>These jeans hug in all the right places. the h...</td>\n",
       "      <td>5</td>\n",
       "      <td>1</td>\n",
       "      <td>0</td>\n",
       "      <td>General</td>\n",
       "      <td>Bottoms</td>\n",
       "      <td>Jeans</td>\n",
       "    </tr>\n",
       "    <tr>\n",
       "      <th>1998</th>\n",
       "      <td>1998</td>\n",
       "      <td>164</td>\n",
       "      <td>25</td>\n",
       "      <td>Super comfy</td>\n",
       "      <td>Loved the way these felt but like the previous...</td>\n",
       "      <td>4</td>\n",
       "      <td>1</td>\n",
       "      <td>0</td>\n",
       "      <td>Initmates</td>\n",
       "      <td>Intimate</td>\n",
       "      <td>Lounge</td>\n",
       "    </tr>\n",
       "    <tr>\n",
       "      <th>1999</th>\n",
       "      <td>1999</td>\n",
       "      <td>1110</td>\n",
       "      <td>26</td>\n",
       "      <td>Beautiful shortt dress</td>\n",
       "      <td>Beautiful dress! perfect mid length dress for ...</td>\n",
       "      <td>5</td>\n",
       "      <td>1</td>\n",
       "      <td>0</td>\n",
       "      <td>General Petite</td>\n",
       "      <td>Dresses</td>\n",
       "      <td>Dresses</td>\n",
       "    </tr>\n",
       "  </tbody>\n",
       "</table>\n",
       "</div>"
      ],
      "text/plain": [
       "      Unnamed: 0  Clothing ID  Age                   Title  \\\n",
       "1997        1997         1022   35                     NaN   \n",
       "1998        1998          164   25             Super comfy   \n",
       "1999        1999         1110   26  Beautiful shortt dress   \n",
       "\n",
       "                                            Review Text  Rating  \\\n",
       "1997  These jeans hug in all the right places. the h...       5   \n",
       "1998  Loved the way these felt but like the previous...       4   \n",
       "1999  Beautiful dress! perfect mid length dress for ...       5   \n",
       "\n",
       "      Recommended IND  Positive Feedback Count   Division Name  \\\n",
       "1997                1                        0         General   \n",
       "1998                1                        0       Initmates   \n",
       "1999                1                        0  General Petite   \n",
       "\n",
       "     Department Name Class Name  \n",
       "1997         Bottoms      Jeans  \n",
       "1998        Intimate     Lounge  \n",
       "1999         Dresses    Dresses  "
      ]
     },
     "execution_count": 12,
     "metadata": {},
     "output_type": "execute_result"
    }
   ],
   "source": [
    "df.tail(3)"
   ]
  },
  {
   "cell_type": "markdown",
   "id": "873839a9",
   "metadata": {},
   "source": [
    " #### <a href='#Appendix'>Return to Appendix </a> "
   ]
  },
  {
   "attachments": {
    "Screenshot%202021-12-25%20220247.png": {
     "image/png": "[encoded data removed]"
    }
   },
   "cell_type": "markdown",
   "id": "e5b7954e",
   "metadata": {},
   "source": [
    "![Screenshot%202021-12-25%20220247.png](attachment:Screenshot%202021-12-25%20220247.png)\n"
   ]
  },
  {
   "cell_type": "markdown",
   "id": "9bb20058",
   "metadata": {},
   "source": [
    "# <a name='Cleaning'>Data Cleaning </a>"
   ]
  },
  {
   "cell_type": "code",
   "execution_count": 13,
   "id": "1f927af1",
   "metadata": {},
   "outputs": [
    {
     "name": "stdout",
     "output_type": "stream",
     "text": [
      "<class 'pandas.core.frame.DataFrame'>\n",
      "RangeIndex: 2000 entries, 0 to 1999\n",
      "Data columns (total 11 columns):\n",
      " #   Column                   Non-Null Count  Dtype \n",
      "---  ------                   --------------  ----- \n",
      " 0   Unnamed: 0               2000 non-null   int64 \n",
      " 1   Clothing ID              2000 non-null   int64 \n",
      " 2   Age                      2000 non-null   int64 \n",
      " 3   Title                    1652 non-null   object\n",
      " 4   Review Text              1932 non-null   object\n",
      " 5   Rating                   2000 non-null   int64 \n",
      " 6   Recommended IND          2000 non-null   int64 \n",
      " 7   Positive Feedback Count  2000 non-null   int64 \n",
      " 8   Division Name            2000 non-null   object\n",
      " 9   Department Name          2000 non-null   object\n",
      " 10  Class Name               2000 non-null   object\n",
      "dtypes: int64(6), object(5)\n",
      "memory usage: 172.0+ KB\n"
     ]
    }
   ],
   "source": [
    "df.info()"
   ]
  },
  {
   "cell_type": "code",
   "execution_count": 14,
   "id": "896efcc0",
   "metadata": {},
   "outputs": [
    {
     "data": {
      "text/plain": [
       "(2000, 11)"
      ]
     },
     "execution_count": 14,
     "metadata": {},
     "output_type": "execute_result"
    }
   ],
   "source": [
    "df.shape"
   ]
  },
  {
   "cell_type": "markdown",
   "id": "c4ac1b4a",
   "metadata": {},
   "source": [
    "### It show that we have 6 Numerical with Integer variable and 5 Categorical variable with object datatype .\n"
   ]
  },
  {
   "cell_type": "code",
   "execution_count": 15,
   "id": "7eee94c0",
   "metadata": {},
   "outputs": [
    {
     "data": {
      "text/plain": [
       "Unnamed: 0                   0\n",
       "Clothing ID                  0\n",
       "Age                          0\n",
       "Title                      348\n",
       "Review Text                 68\n",
       "Rating                       0\n",
       "Recommended IND              0\n",
       "Positive Feedback Count      0\n",
       "Division Name                0\n",
       "Department Name              0\n",
       "Class Name                   0\n",
       "dtype: int64"
      ]
     },
     "execution_count": 15,
     "metadata": {},
     "output_type": "execute_result"
    }
   ],
   "source": [
    "df.isna().sum() # check if we have Nulls .."
   ]
  },
  {
   "cell_type": "code",
   "execution_count": 16,
   "id": "fec37115",
   "metadata": {},
   "outputs": [
    {
     "data": {
      "text/plain": [
       "0"
      ]
     },
     "execution_count": 16,
     "metadata": {},
     "output_type": "execute_result"
    }
   ],
   "source": [
    "df.duplicated().sum() # check if we have Duplicates .."
   ]
  },
  {
   "cell_type": "markdown",
   "id": "1db25d90",
   "metadata": {},
   "source": [
    "### We have some nulls & not have a Duplicates, to Deal with them"
   ]
  },
  {
   "cell_type": "code",
   "execution_count": 17,
   "id": "5a4a2711",
   "metadata": {},
   "outputs": [],
   "source": [
    "df.drop('Unnamed: 0',axis =1, inplace= True) # drop id number.."
   ]
  },
  {
   "cell_type": "code",
   "execution_count": 18,
   "id": "0996e133",
   "metadata": {},
   "outputs": [],
   "source": [
    "df.drop('Title',axis =1, inplace= True) # drop titles of Reviews.."
   ]
  },
  {
   "cell_type": "code",
   "execution_count": 19,
   "id": "2d9782dd",
   "metadata": {},
   "outputs": [
    {
     "data": {
      "text/plain": [
       "Clothing ID                 0\n",
       "Age                         0\n",
       "Review Text                68\n",
       "Rating                      0\n",
       "Recommended IND             0\n",
       "Positive Feedback Count     0\n",
       "Division Name               0\n",
       "Department Name             0\n",
       "Class Name                  0\n",
       "dtype: int64"
      ]
     },
     "execution_count": 19,
     "metadata": {},
     "output_type": "execute_result"
    }
   ],
   "source": [
    "df.isna().sum()"
   ]
  },
  {
   "cell_type": "code",
   "execution_count": 20,
   "id": "d4c0df75",
   "metadata": {},
   "outputs": [],
   "source": [
    "df = df.dropna() # drop all nulls in dataframe "
   ]
  },
  {
   "cell_type": "code",
   "execution_count": 21,
   "id": "ed03bc98",
   "metadata": {},
   "outputs": [
    {
     "data": {
      "text/plain": [
       "Clothing ID                0\n",
       "Age                        0\n",
       "Review Text                0\n",
       "Rating                     0\n",
       "Recommended IND            0\n",
       "Positive Feedback Count    0\n",
       "Division Name              0\n",
       "Department Name            0\n",
       "Class Name                 0\n",
       "dtype: int64"
      ]
     },
     "execution_count": 21,
     "metadata": {},
     "output_type": "execute_result"
    }
   ],
   "source": [
    "df.isna().sum() # check of nulls "
   ]
  },
  {
   "cell_type": "code",
   "execution_count": null,
   "id": "371e62f3",
   "metadata": {},
   "outputs": [],
   "source": []
  },
  {
   "cell_type": "markdown",
   "id": "be63265e",
   "metadata": {},
   "source": [
    " #### <a href='#Appendix'>Return to Appendix </a> "
   ]
  },
  {
   "attachments": {
    "Screenshot%202021-12-25%20220247.png": {
     "image/png": "[encoded data removed]"
    }
   },
   "cell_type": "markdown",
   "id": "b4c9706d",
   "metadata": {},
   "source": [
    "![Screenshot%202021-12-25%20220247.png](attachment:Screenshot%202021-12-25%20220247.png)\n"
   ]
  },
  {
   "cell_type": "markdown",
   "id": "8b5b4e92",
   "metadata": {},
   "source": [
    "# <a name='fea'>Feature Engineering </a>"
   ]
  },
  {
   "cell_type": "code",
   "execution_count": 22,
   "id": "b0322383",
   "metadata": {},
   "outputs": [
    {
     "data": {
      "text/plain": [
       "array(['Initmates', 'General', 'General Petite'], dtype=object)"
      ]
     },
     "execution_count": 22,
     "metadata": {},
     "output_type": "execute_result"
    }
   ],
   "source": [
    "df['Division Name'].unique() # how"
   ]
  },
  {
   "cell_type": "code",
   "execution_count": 23,
   "id": "1e9682a6",
   "metadata": {},
   "outputs": [
    {
     "data": {
      "text/plain": [
       "array(['Intimate', 'Dresses', 'Bottoms', 'Tops', 'Jackets', 'Trend'],\n",
       "      dtype=object)"
      ]
     },
     "execution_count": 23,
     "metadata": {},
     "output_type": "execute_result"
    }
   ],
   "source": [
    "df['Department Name'].unique() "
   ]
  },
  {
   "cell_type": "code",
   "execution_count": 24,
   "id": "332f07c9",
   "metadata": {},
   "outputs": [
    {
     "data": {
      "text/plain": [
       "array(['Intimates', 'Dresses', 'Pants', 'Blouses', 'Knits', 'Outerwear',\n",
       "       'Lounge', 'Sweaters', 'Skirts', 'Fine gauge', 'Sleep', 'Jackets',\n",
       "       'Swim', 'Trend', 'Jeans', 'Legwear', 'Shorts', 'Layering'],\n",
       "      dtype=object)"
      ]
     },
     "execution_count": 24,
     "metadata": {},
     "output_type": "execute_result"
    }
   ],
   "source": [
    "df['Class Name'].unique()"
   ]
  },
  {
   "cell_type": "code",
   "execution_count": 25,
   "id": "2a155e99",
   "metadata": {},
   "outputs": [
    {
     "data": {
      "text/html": [
       "<div>\n",
       "<style scoped>\n",
       "    .dataframe tbody tr th:only-of-type {\n",
       "        vertical-align: middle;\n",
       "    }\n",
       "\n",
       "    .dataframe tbody tr th {\n",
       "        vertical-align: top;\n",
       "    }\n",
       "\n",
       "    .dataframe thead th {\n",
       "        text-align: right;\n",
       "    }\n",
       "</style>\n",
       "<table border=\"1\" class=\"dataframe\">\n",
       "  <thead>\n",
       "    <tr style=\"text-align: right;\">\n",
       "      <th></th>\n",
       "      <th></th>\n",
       "      <th></th>\n",
       "    </tr>\n",
       "    <tr>\n",
       "      <th>Division Name</th>\n",
       "      <th>Department Name</th>\n",
       "      <th>Class Name</th>\n",
       "    </tr>\n",
       "  </thead>\n",
       "  <tbody>\n",
       "    <tr>\n",
       "      <th rowspan=\"12\" valign=\"top\">General</th>\n",
       "      <th rowspan=\"4\" valign=\"top\">Bottoms</th>\n",
       "      <th>Jeans</th>\n",
       "    </tr>\n",
       "    <tr>\n",
       "      <th>Pants</th>\n",
       "    </tr>\n",
       "    <tr>\n",
       "      <th>Shorts</th>\n",
       "    </tr>\n",
       "    <tr>\n",
       "      <th>Skirts</th>\n",
       "    </tr>\n",
       "    <tr>\n",
       "      <th>Dresses</th>\n",
       "      <th>Dresses</th>\n",
       "    </tr>\n",
       "    <tr>\n",
       "      <th rowspan=\"2\" valign=\"top\">Jackets</th>\n",
       "      <th>Jackets</th>\n",
       "    </tr>\n",
       "    <tr>\n",
       "      <th>Outerwear</th>\n",
       "    </tr>\n",
       "    <tr>\n",
       "      <th rowspan=\"4\" valign=\"top\">Tops</th>\n",
       "      <th>Blouses</th>\n",
       "    </tr>\n",
       "    <tr>\n",
       "      <th>Fine gauge</th>\n",
       "    </tr>\n",
       "    <tr>\n",
       "      <th>Knits</th>\n",
       "    </tr>\n",
       "    <tr>\n",
       "      <th>Sweaters</th>\n",
       "    </tr>\n",
       "    <tr>\n",
       "      <th>Trend</th>\n",
       "      <th>Trend</th>\n",
       "    </tr>\n",
       "    <tr>\n",
       "      <th rowspan=\"11\" valign=\"top\">General Petite</th>\n",
       "      <th rowspan=\"3\" valign=\"top\">Bottoms</th>\n",
       "      <th>Jeans</th>\n",
       "    </tr>\n",
       "    <tr>\n",
       "      <th>Pants</th>\n",
       "    </tr>\n",
       "    <tr>\n",
       "      <th>Skirts</th>\n",
       "    </tr>\n",
       "    <tr>\n",
       "      <th>Dresses</th>\n",
       "      <th>Dresses</th>\n",
       "    </tr>\n",
       "    <tr>\n",
       "      <th>Intimate</th>\n",
       "      <th>Lounge</th>\n",
       "    </tr>\n",
       "    <tr>\n",
       "      <th>Jackets</th>\n",
       "      <th>Jackets</th>\n",
       "    </tr>\n",
       "    <tr>\n",
       "      <th rowspan=\"4\" valign=\"top\">Tops</th>\n",
       "      <th>Blouses</th>\n",
       "    </tr>\n",
       "    <tr>\n",
       "      <th>Fine gauge</th>\n",
       "    </tr>\n",
       "    <tr>\n",
       "      <th>Knits</th>\n",
       "    </tr>\n",
       "    <tr>\n",
       "      <th>Sweaters</th>\n",
       "    </tr>\n",
       "    <tr>\n",
       "      <th>Trend</th>\n",
       "      <th>Trend</th>\n",
       "    </tr>\n",
       "    <tr>\n",
       "      <th rowspan=\"6\" valign=\"top\">Initmates</th>\n",
       "      <th rowspan=\"6\" valign=\"top\">Intimate</th>\n",
       "      <th>Intimates</th>\n",
       "    </tr>\n",
       "    <tr>\n",
       "      <th>Layering</th>\n",
       "    </tr>\n",
       "    <tr>\n",
       "      <th>Legwear</th>\n",
       "    </tr>\n",
       "    <tr>\n",
       "      <th>Lounge</th>\n",
       "    </tr>\n",
       "    <tr>\n",
       "      <th>Sleep</th>\n",
       "    </tr>\n",
       "    <tr>\n",
       "      <th>Swim</th>\n",
       "    </tr>\n",
       "  </tbody>\n",
       "</table>\n",
       "</div>"
      ],
      "text/plain": [
       "Empty DataFrame\n",
       "Columns: []\n",
       "Index: [(General, Bottoms, Jeans), (General, Bottoms, Pants), (General, Bottoms, Shorts), (General, Bottoms, Skirts), (General, Dresses, Dresses), (General, Jackets, Jackets), (General, Jackets, Outerwear), (General, Tops, Blouses), (General, Tops, Fine gauge), (General, Tops, Knits), (General, Tops, Sweaters), (General, Trend, Trend), (General Petite, Bottoms, Jeans), (General Petite, Bottoms, Pants), (General Petite, Bottoms, Skirts), (General Petite, Dresses, Dresses), (General Petite, Intimate, Lounge), (General Petite, Jackets, Jackets), (General Petite, Tops, Blouses), (General Petite, Tops, Fine gauge), (General Petite, Tops, Knits), (General Petite, Tops, Sweaters), (General Petite, Trend, Trend), (Initmates, Intimate, Intimates), (Initmates, Intimate, Layering), (Initmates, Intimate, Legwear), (Initmates, Intimate, Lounge), (Initmates, Intimate, Sleep), (Initmates, Intimate, Swim)]"
      ]
     },
     "execution_count": 25,
     "metadata": {},
     "output_type": "execute_result"
    }
   ],
   "source": [
    "# Relation between Division name, Department name and Class name? \n",
    "df[['Division Name','Department Name','Class Name']].groupby(['Division Name','Department Name','Class Name']).agg('count')"
   ]
  },
  {
   "cell_type": "markdown",
   "id": "46cb8420",
   "metadata": {},
   "source": [
    " #### <a href='#Appendix'>Return to Appendix </a> "
   ]
  },
  {
   "attachments": {
    "Screenshot%202021-12-25%20220247.png": {
     "image/png": "[encoded data removed]"
    }
   },
   "cell_type": "markdown",
   "id": "86dc427b",
   "metadata": {},
   "source": [
    "![Screenshot%202021-12-25%20220247.png](attachment:Screenshot%202021-12-25%20220247.png)\n"
   ]
  },
  {
   "cell_type": "markdown",
   "id": "e6885415",
   "metadata": {},
   "source": [
    " # <a name='EDA'>EDA & Visulizations</a>"
   ]
  },
  {
   "cell_type": "markdown",
   "id": "66d021ec",
   "metadata": {},
   "source": [
    "## 1- Visualizing the highest rating scores "
   ]
  },
  {
   "cell_type": "code",
   "execution_count": 26,
   "id": "d64bd288",
   "metadata": {},
   "outputs": [
    {
     "data": {
      "text/plain": [
       "5    1030\n",
       "4     439\n",
       "3     250\n",
       "2     150\n",
       "1      63\n",
       "Name: Rating, dtype: int64"
      ]
     },
     "execution_count": 26,
     "metadata": {},
     "output_type": "execute_result"
    }
   ],
   "source": [
    "df.Rating.value_counts()"
   ]
  },
  {
   "cell_type": "code",
   "execution_count": 27,
   "id": "b20ecb70",
   "metadata": {},
   "outputs": [
    {
     "data": {
      "image/png": "[encoded data removed]",
      "text/plain": [
       "<Figure size 504x288 with 1 Axes>"
      ]
     },
     "metadata": {
      "needs_background": "light"
     },
     "output_type": "display_data"
    }
   ],
   "source": [
    "plt.figure(figsize=(7,4))\n",
    "plt.rcParams.update\n",
    "sns.countplot('Rating', data = df)\n",
    "\n",
    "plt.title('The highest rating scores ', fontsize=20)\n",
    "plt.ylabel('Number of Rarting ', fontsize=10)\n",
    "plt.xlabel('Rating Score', fontsize=15);"
   ]
  },
  {
   "cell_type": "markdown",
   "id": "4999d176",
   "metadata": {},
   "source": [
    "## 2- Visualizing Positive Reviews Vs. Negative Reviews"
   ]
  },
  {
   "cell_type": "code",
   "execution_count": 28,
   "id": "38efd063",
   "metadata": {},
   "outputs": [
    {
     "data": {
      "text/html": [
       "<div>\n",
       "<style scoped>\n",
       "    .dataframe tbody tr th:only-of-type {\n",
       "        vertical-align: middle;\n",
       "    }\n",
       "\n",
       "    .dataframe tbody tr th {\n",
       "        vertical-align: top;\n",
       "    }\n",
       "\n",
       "    .dataframe thead th {\n",
       "        text-align: right;\n",
       "    }\n",
       "</style>\n",
       "<table border=\"1\" class=\"dataframe\">\n",
       "  <thead>\n",
       "    <tr style=\"text-align: right;\">\n",
       "      <th></th>\n",
       "      <th>Review Text</th>\n",
       "      <th>Review_Type</th>\n",
       "    </tr>\n",
       "  </thead>\n",
       "  <tbody>\n",
       "    <tr>\n",
       "      <th>0</th>\n",
       "      <td>Absolutely wonderful - silky and sexy and comf...</td>\n",
       "      <td>Positive Reviews</td>\n",
       "    </tr>\n",
       "    <tr>\n",
       "      <th>1</th>\n",
       "      <td>Love this dress!  it's sooo pretty.  i happene...</td>\n",
       "      <td>Positive Reviews</td>\n",
       "    </tr>\n",
       "    <tr>\n",
       "      <th>2</th>\n",
       "      <td>I had such high hopes for this dress and reall...</td>\n",
       "      <td>Positive Reviews</td>\n",
       "    </tr>\n",
       "    <tr>\n",
       "      <th>3</th>\n",
       "      <td>I love, love, love this jumpsuit. it's fun, fl...</td>\n",
       "      <td>Positive Reviews</td>\n",
       "    </tr>\n",
       "    <tr>\n",
       "      <th>4</th>\n",
       "      <td>This shirt is very flattering to all due to th...</td>\n",
       "      <td>Positive Reviews</td>\n",
       "    </tr>\n",
       "    <tr>\n",
       "      <th>5</th>\n",
       "      <td>I love tracy reese dresses, but this one is no...</td>\n",
       "      <td>Negative Reviews</td>\n",
       "    </tr>\n",
       "  </tbody>\n",
       "</table>\n",
       "</div>"
      ],
      "text/plain": [
       "                                         Review Text       Review_Type\n",
       "0  Absolutely wonderful - silky and sexy and comf...  Positive Reviews\n",
       "1  Love this dress!  it's sooo pretty.  i happene...  Positive Reviews\n",
       "2  I had such high hopes for this dress and reall...  Positive Reviews\n",
       "3  I love, love, love this jumpsuit. it's fun, fl...  Positive Reviews\n",
       "4  This shirt is very flattering to all due to th...  Positive Reviews\n",
       "5  I love tracy reese dresses, but this one is no...  Negative Reviews"
      ]
     },
     "execution_count": 28,
     "metadata": {},
     "output_type": "execute_result"
    }
   ],
   "source": [
    "df[\"Review_Type\"] = df[\"Rating\"].apply(lambda x: \"Negative Reviews\" if x <= 2 else \"Positive Reviews\")\n",
    "reviews_df_plot = df[[\"Review Text\", \"Review_Type\"]]\n",
    "reviews_df_plot.head(6)"
   ]
  },
  {
   "cell_type": "code",
   "execution_count": 29,
   "id": "37048bcc",
   "metadata": {},
   "outputs": [
    {
     "data": {
      "image/png": "[encoded data removed]",
      "text/plain": [
       "<Figure size 576x360 with 1 Axes>"
      ]
     },
     "metadata": {
      "needs_background": "light"
     },
     "output_type": "display_data"
    }
   ],
   "source": [
    "plt.figure(figsize=(8,5))\n",
    "plt.rcParams.update({'font.size': 10})\n",
    "sns.countplot('Review_Type', data = reviews_df_plot)\n",
    "\n",
    "plt.title('Positive Reviews Vs. Negative Reviews', fontsize=20)\n",
    "plt.ylabel('Count', fontsize=15)\n",
    "plt.xlabel('Review Type', fontsize=15);"
   ]
  },
  {
   "cell_type": "markdown",
   "id": "ed88b7d9",
   "metadata": {},
   "source": [
    "## 3- Visualizing Recommended Products Vs. Not Recommended Products"
   ]
  },
  {
   "cell_type": "code",
   "execution_count": 30,
   "id": "c9567bd3",
   "metadata": {},
   "outputs": [
    {
     "data": {
      "image/png": "[encoded data removed]",
      "text/plain": [
       "<Figure size 720x648 with 1 Axes>"
      ]
     },
     "metadata": {},
     "output_type": "display_data"
    }
   ],
   "source": [
    "plt.figure(figsize = (10, 9))\n",
    "plt.pie(pd.value_counts(df['Recommended IND']),\n",
    "       labels = [1,0],\n",
    "       colors = ['brown', 'orange'],\n",
    "       autopct = '%.2f%%',\n",
    "       textprops = {'size' : 'x-large',\n",
    "                   'fontweight' : 'bold',\n",
    "                   'rotation' : '20',\n",
    "                   'color' : 'w'})\n",
    "\n",
    "plt.legend()\n",
    "plt.title('Recommended Products Vs. Not Recommended Products', fontsize = 18, fontweight = 'bold')\n",
    "plt.show()"
   ]
  },
  {
   "cell_type": "markdown",
   "id": "cd434c3a",
   "metadata": {},
   "source": [
    "## 4- Visualizing Categorical name of the product high level division"
   ]
  },
  {
   "cell_type": "code",
   "execution_count": 31,
   "id": "2375dd19",
   "metadata": {},
   "outputs": [
    {
     "data": {
      "image/png": "[encoded data removed]",
      "text/plain": [
       "<Figure size 576x360 with 1 Axes>"
      ]
     },
     "metadata": {
      "needs_background": "light"
     },
     "output_type": "display_data"
    }
   ],
   "source": [
    "plt.figure(figsize=(8,5))\n",
    "plt.rcParams.update\n",
    "sns.countplot('Division Name', data = df)\n",
    "\n",
    "plt.ylabel('Count ', fontsize=15)\n",
    "plt.xlabel('Division Name', fontsize=15);"
   ]
  },
  {
   "cell_type": "markdown",
   "id": "09880e13",
   "metadata": {},
   "source": [
    "## 5- Visualizing Categorical name of the product department name"
   ]
  },
  {
   "cell_type": "code",
   "execution_count": 32,
   "id": "f838f784",
   "metadata": {},
   "outputs": [
    {
     "data": {
      "image/png": "[encoded data removed]",
      "text/plain": [
       "<Figure size 576x360 with 1 Axes>"
      ]
     },
     "metadata": {
      "needs_background": "light"
     },
     "output_type": "display_data"
    }
   ],
   "source": [
    "plt.figure(figsize=(8,5))\n",
    "plt.rcParams.update\n",
    "sns.countplot('Department Name', data = df)\n",
    "\n",
    "plt.ylabel('Count ', fontsize=15)\n",
    "plt.xlabel('Department Name', fontsize=15);"
   ]
  },
  {
   "cell_type": "markdown",
   "id": "bd613922",
   "metadata": {},
   "source": [
    "## 6- Categorical name of the product class name"
   ]
  },
  {
   "cell_type": "code",
   "execution_count": 33,
   "id": "546a6737",
   "metadata": {},
   "outputs": [
    {
     "data": {
      "image/png": "[encoded data removed]",
      "text/plain": [
       "<Figure size 720x360 with 1 Axes>"
      ]
     },
     "metadata": {
      "needs_background": "light"
     },
     "output_type": "display_data"
    }
   ],
   "source": [
    "plt.figure(figsize=(10,5))\n",
    "plt.rcParams.update\n",
    "sns.countplot('Class Name', data = df)\n",
    "\n",
    "plt.ylabel('Count ', fontsize=15)\n",
    "plt.xlabel('Class Name', fontsize=15);"
   ]
  },
  {
   "cell_type": "markdown",
   "id": "9cea03a8",
   "metadata": {},
   "source": [
    "## 7- Visualizing positive and negative words Using Word Cloud"
   ]
  },
  {
   "cell_type": "code",
   "execution_count": 34,
   "id": "739c2ee2",
   "metadata": {},
   "outputs": [],
   "source": [
    "df['Rating'] = df['Rating'].apply(lambda x: 1 if x >= 2 else 0) "
   ]
  },
  {
   "cell_type": "code",
   "execution_count": 35,
   "id": "0164a0f8",
   "metadata": {},
   "outputs": [],
   "source": [
    "posite = df[df['Rating'] == 1 ]\n",
    "negative = df[df['Rating'] == 0]"
   ]
  },
  {
   "cell_type": "markdown",
   "id": "b1c257c4",
   "metadata": {},
   "source": [
    "# Positive Words"
   ]
  },
  {
   "cell_type": "code",
   "execution_count": 36,
   "id": "e3c2b936",
   "metadata": {},
   "outputs": [
    {
     "ename": "NameError",
     "evalue": "name 'WordCloud' is not defined",
     "output_type": "error",
     "traceback": [
      "\u001b[1;31m---------------------------------------------------------------------------\u001b[0m",
      "\u001b[1;31mNameError\u001b[0m                                 Traceback (most recent call last)",
      "\u001b[1;32m<ipython-input-36-994d6375f25d>\u001b[0m in \u001b[0;36m<module>\u001b[1;34m\u001b[0m\n\u001b[0;32m      2\u001b[0m \u001b[0mplt\u001b[0m\u001b[1;33m.\u001b[0m\u001b[0mstyle\u001b[0m\u001b[1;33m.\u001b[0m\u001b[0muse\u001b[0m\u001b[1;33m(\u001b[0m\u001b[1;34m'fast'\u001b[0m\u001b[1;33m)\u001b[0m\u001b[1;33m\u001b[0m\u001b[1;33m\u001b[0m\u001b[0m\n\u001b[0;32m      3\u001b[0m \u001b[1;33m\u001b[0m\u001b[0m\n\u001b[1;32m----> 4\u001b[1;33m \u001b[0mwc\u001b[0m \u001b[1;33m=\u001b[0m \u001b[0mWordCloud\u001b[0m\u001b[1;33m(\u001b[0m\u001b[0mbackground_color\u001b[0m \u001b[1;33m=\u001b[0m \u001b[1;34m'peru'\u001b[0m\u001b[1;33m,\u001b[0m \u001b[0mwidth\u001b[0m \u001b[1;33m=\u001b[0m \u001b[1;36m1000\u001b[0m\u001b[1;33m,\u001b[0m \u001b[0mheight\u001b[0m \u001b[1;33m=\u001b[0m \u001b[1;36m1000\u001b[0m\u001b[1;33m)\u001b[0m\u001b[1;33m.\u001b[0m\u001b[0mgenerate\u001b[0m\u001b[1;33m(\u001b[0m\u001b[0mstr\u001b[0m\u001b[1;33m(\u001b[0m\u001b[0mposite\u001b[0m\u001b[1;33m[\u001b[0m\u001b[1;34m'Review Text'\u001b[0m\u001b[1;33m]\u001b[0m\u001b[1;33m)\u001b[0m\u001b[1;33m)\u001b[0m\u001b[1;33m\u001b[0m\u001b[1;33m\u001b[0m\u001b[0m\n\u001b[0m\u001b[0;32m      5\u001b[0m \u001b[0mplt\u001b[0m\u001b[1;33m.\u001b[0m\u001b[0mtitle\u001b[0m\u001b[1;33m(\u001b[0m\u001b[1;34m'Positive Words'\u001b[0m\u001b[1;33m,\u001b[0m \u001b[0mfontsize\u001b[0m \u001b[1;33m=\u001b[0m \u001b[1;36m20\u001b[0m\u001b[1;33m,\u001b[0m \u001b[0mcolor\u001b[0m \u001b[1;33m=\u001b[0m \u001b[1;34m'brown'\u001b[0m\u001b[1;33m)\u001b[0m\u001b[1;33m\u001b[0m\u001b[1;33m\u001b[0m\u001b[0m\n\u001b[0;32m      6\u001b[0m \u001b[1;33m\u001b[0m\u001b[0m\n",
      "\u001b[1;31mNameError\u001b[0m: name 'WordCloud' is not defined"
     ]
    }
   ],
   "source": [
    "plt.rcParams['figure.figsize'] = (8, 5)\n",
    "plt.style.use('fast')\n",
    "\n",
    "wc = WordCloud(background_color = 'peru', width = 1000, height = 1000).generate(str(posite['Review Text']))\n",
    "plt.title('Positive Words', fontsize = 20, color = 'brown')\n",
    "\n",
    "plt.imshow(wc)\n",
    "plt.axis('off')\n",
    "plt.show()"
   ]
  },
  {
   "cell_type": "markdown",
   "id": "9506b45d",
   "metadata": {},
   "source": [
    "# Negative Words"
   ]
  },
  {
   "cell_type": "code",
   "execution_count": null,
   "id": "9520ca7a",
   "metadata": {},
   "outputs": [],
   "source": [
    "plt.rcParams['figure.figsize'] = (8, 5)\n",
    "plt.style.use('fast')\n",
    "\n",
    "wc = WordCloud(background_color = 'peru', width = 1500, height = 1500).generate(str(negative['Review Text']))\n",
    "plt.title('Negative Words', fontsize = 20, color = 'brown')\n",
    "\n",
    "plt.imshow(wc)\n",
    "plt.axis('off')\n",
    "plt.show()"
   ]
  },
  {
   "cell_type": "code",
   "execution_count": null,
   "id": "e6aaadc8",
   "metadata": {},
   "outputs": [],
   "source": []
  },
  {
   "cell_type": "markdown",
   "id": "2b6e1cc6",
   "metadata": {},
   "source": [
    " # <a name='Text'>Text Preprocessing</a>"
   ]
  },
  {
   "cell_type": "code",
   "execution_count": 37,
   "id": "367a5dc2",
   "metadata": {},
   "outputs": [],
   "source": [
    "def clean_t(t):\n",
    "  t = BeautifulSoup(t, 'lxml').get_text()\n",
    "  t = re.sub(r\"@[A-Za-z0-9]+\", ' ', t)\n",
    "  t = re.sub(r\"https?://[A-Za-z0-9./]+\", ' ', t)\n",
    "  t = re.sub(r\"[^a-zA-Z.!?]\", ' ', t)\n",
    "  t = re.sub(r\" +\", ' ', t)\n",
    "  return t"
   ]
  },
  {
   "cell_type": "code",
   "execution_count": 38,
   "id": "17b005de",
   "metadata": {},
   "outputs": [],
   "source": [
    "import spacy as sp"
   ]
  },
  {
   "cell_type": "code",
   "execution_count": 39,
   "id": "8ffcf0e2",
   "metadata": {},
   "outputs": [
    {
     "data": {
      "text/plain": [
       "<spacy.lang.en.English at 0x1d1c3d34550>"
      ]
     },
     "execution_count": 39,
     "metadata": {},
     "output_type": "execute_result"
    }
   ],
   "source": [
    "nlp = sp.blank(\"en\")\n",
    "nlp"
   ]
  },
  {
   "cell_type": "code",
   "execution_count": 40,
   "id": "128156a8",
   "metadata": {},
   "outputs": [],
   "source": [
    "stop_words = sp.lang.en.STOP_WORDS"
   ]
  },
  {
   "cell_type": "code",
   "execution_count": 41,
   "id": "abacd6e8",
   "metadata": {},
   "outputs": [
    {
     "name": "stdout",
     "output_type": "stream",
     "text": [
      "{'next', 'eleven', 'besides', '’ve', 'becoming', 'own', 'wherein', 'an', 'being', 'everywhere', 'somewhere', 'hereby', 'but', 'most', 'it', 'thereupon', 'few', 'hundred', 'empty', 'with', 'thereby', 'either', 'within', 'something', 'none', 'full', 'already', 'under', 'among', 'he', 'name', 'your', 'she', 'via', '‘re', \"n't\", 'again', 'less', 'towards', 'you', 'which', 'mostly', 'former', 'third', 'various', '’s', 'often', 'unless', 'enough', 'except', 'rather', 'perhaps', 'how', 'everyone', 'were', 'nevertheless', 'whatever', 'moreover', 'mine', 'whose', 'both', 'also', '‘ve', 'bottom', 'though', 'was', 'might', 'forty', 'many', 'then', 'and', 'themselves', \"'ve\", 'six', 'other', 'quite', 'per', 'sometime', 'latterly', 'may', 'first', 'meanwhile', 'somehow', 'from', 'due', 'go', 'amount', 'against', 'by', 'became', 'four', 'that', 'did', 'before', 're', 'no', 'whenever', 'been', 'nobody', 'of', 'sometimes', 'fifty', 'than', \"'m\", 'seemed', 'do', 'my', 'never', 'give', 'along', 'least', 'elsewhere', 'himself', 'who', 'together', 'toward', 'after', 'doing', 'ever', 'ourselves', 'their', 'have', 'another', 'when', 'twelve', 'someone', 'amongst', 'whereby', 'ca', '‘ll', 'all', 'up', 'any', 'still', 'very', 'too', 'top', 'could', 'here', 'such', 'twenty', \"'ll\", 'over', 'therefore', 'even', \"'re\", 'anyway', 'keep', 'thru', 'will', 'has', 'whereas', 'had', 'we', 'same', 'formerly', \"'d\", 'does', 'each', 'out', 'alone', 'whereupon', 'become', 'them', 'nothing', 'i', 'on', '’ll', 'back', 'upon', 'almost', 'these', 'get', 'below', '’m', 'her', 'further', 'nine', 'without', 'one', 'onto', 'why', 'ours', 'to', 'as', 'see', 'whole', 'last', 'throughout', 'nor', 'they', 'anything', 'seem', 'down', 'part', 'anywhere', 'beyond', 'can', 'latter', 'is', '’re', 'beside', 'him', 'front', 'say', 'only', 'his', 'everything', 'until', '’d', 'once', 'n’t', 'used', 'would', 'cannot', 'although', 'what', '‘m', 'yourself', 'seems', 'those', 'not', 'now', 'however', 'sixty', 'take', 'the', 'so', 'seeming', 'otherwise', 'are', 'through', 'across', 'put', 'others', 'yourselves', 'yours', 'whereafter', 'becomes', 'me', 'be', 'five', 'myself', 'anyone', 'in', '‘s', \"'s\", 'herself', 'just', 'move', 'using', 'thence', 'much', 'herein', 'show', 'several', 'there', 'fifteen', 'for', 'done', 'hers', 'into', 'off', 'really', 'nowhere', 'yet', 'make', 'itself', 'whither', 'anyhow', 'us', 'a', 'two', 'our', 'n‘t', 'namely', 'about', 'between', 'hereupon', 'hereafter', 'this', 'side', 'since', 'or', 'am', 'at', 'please', 'else', 'call', 'eight', 'always', 'neither', 'while', 'during', 'every', 'whether', 'behind', 'therein', 'its', 'beforehand', 'should', 'indeed', 'afterwards', 'thus', 'made', 'ten', 'three', 'whom', 'thereafter', 'whence', 'well', 'hence', 'regarding', 'if', 'above', 'whoever', '‘d', 'around', 'wherever', 'noone', 'serious', 'where', 'some', 'more', 'must', 'because'}\n"
     ]
    }
   ],
   "source": [
    "print(stop_words)"
   ]
  },
  {
   "cell_type": "code",
   "execution_count": 42,
   "id": "6d3d1dff",
   "metadata": {},
   "outputs": [
    {
     "data": {
      "text/plain": [
       "326"
      ]
     },
     "execution_count": 42,
     "metadata": {},
     "output_type": "execute_result"
    }
   ],
   "source": [
    "len(stop_words)"
   ]
  },
  {
   "cell_type": "code",
   "execution_count": 43,
   "id": "ce7a2795",
   "metadata": {},
   "outputs": [
    {
     "data": {
      "text/plain": [
       "'!\"#$%&\\'()*+,-./:;<=>?@[\\\\]^_`{|}~'"
      ]
     },
     "execution_count": 43,
     "metadata": {},
     "output_type": "execute_result"
    }
   ],
   "source": [
    "string.punctuation"
   ]
  },
  {
   "cell_type": "code",
   "execution_count": null,
   "id": "ef6b571e",
   "metadata": {},
   "outputs": [],
   "source": []
  },
  {
   "cell_type": "code",
   "execution_count": null,
   "id": "88ec5797",
   "metadata": {},
   "outputs": [],
   "source": []
  },
  {
   "cell_type": "code",
   "execution_count": null,
   "id": "34a5b136",
   "metadata": {},
   "outputs": [],
   "source": []
  },
  {
   "cell_type": "markdown",
   "id": "ff694a8f",
   "metadata": {},
   "source": [
    "## Data Spliting"
   ]
  },
  {
   "cell_type": "code",
   "execution_count": 44,
   "id": "6b9c6a8e",
   "metadata": {},
   "outputs": [],
   "source": [
    "X = df[\"Review Text\"]\n",
    "y = df[\"Recommended IND\"]\n",
    "X_train, X_test, y_train, y_test = train_test_split(X, y, test_size = 0.2, shuffle=True, random_state = 42)"
   ]
  },
  {
   "cell_type": "markdown",
   "id": "3cbdad23",
   "metadata": {},
   "source": [
    "## Classification"
   ]
  },
  {
   "cell_type": "code",
   "execution_count": 45,
   "id": "840b02a7",
   "metadata": {},
   "outputs": [],
   "source": [
    "# Count Vector\n",
    "cv = CountVectorizer(stop_words=\"english\")\n",
    "X_train_cv = cv.fit_transform(X_train)\n",
    "X_test_cv = cv.transform(X_test)\n",
    "\n",
    "# TFIDF\n",
    "tf = TfidfVectorizer(stop_words=\"english\")\n",
    "X_train_tf = tf.fit_transform(X_train)\n",
    "X_test_tf = tf.transform(X_test)\n",
    "\n",
    "# TFIDF\n",
    "tf_2 = TfidfVectorizer(ngram_range = (1,2), stop_words=\"english\")\n",
    "X_train_tf_2 = tf.fit_transform(X_train)\n",
    "X_test_tf_2 = tf.transform(X_test)"
   ]
  },
  {
   "cell_type": "code",
   "execution_count": 46,
   "id": "2ded4d6b",
   "metadata": {},
   "outputs": [
    {
     "name": "stdout",
     "output_type": "stream",
     "text": [
      "################### LogisticRegression with CV ###################\n",
      "________________ Train Metrics______________\n",
      "Accuarcy score: 0.9948220064724919\n",
      "Precision Score: 0.9936858721389108\n",
      "Recall Score: 1.0\n",
      "F1 Score: 0.9968329374505146\n",
      "________________ Test Metrics______________\n",
      "Accuarcy score: 0.8604651162790697\n",
      "Precision Score: 0.8835820895522388\n",
      "Recall Score: 0.9517684887459807\n",
      "F1 Score: 0.9164086687306502\n",
      "################### LogisticRegression with TFIDF ###################\n",
      "________________ Train Metrics______________\n",
      "Accuarcy score: 0.8537216828478964\n",
      "Precision Score: 0.8487508440243079\n",
      "Recall Score: 0.9984114376489277\n",
      "F1 Score: 0.9175182481751825\n",
      "________________ Test Metrics______________\n",
      "Accuarcy score: 0.8113695090439277\n",
      "Precision Score: 0.8131578947368421\n",
      "Recall Score: 0.9935691318327974\n",
      "F1 Score: 0.894356005788712\n",
      "################### Naive Bayes with CV ###################\n",
      "________________ Train Metrics______________\n",
      "Accuarcy score: 0.9533980582524272\n",
      "Precision Score: 0.952018278750952\n",
      "Recall Score: 0.9928514694201748\n",
      "F1 Score: 0.9720062208398134\n",
      "________________ Test Metrics______________\n",
      "Accuarcy score: 0.8449612403100775\n",
      "Precision Score: 0.8575498575498576\n",
      "Recall Score: 0.9678456591639871\n",
      "F1 Score: 0.9093655589123867\n",
      "################### Naive Bayes with TFIDf ###################\n",
      "________________ Train Metrics______________\n",
      "Accuarcy score: 0.8200647249190939\n",
      "Precision Score: 0.819128171763175\n",
      "Recall Score: 1.0\n",
      "F1 Score: 0.9005722460658083\n",
      "________________ Test Metrics______________\n",
      "Accuarcy score: 0.8036175710594315\n",
      "Precision Score: 0.8036175710594315\n",
      "Recall Score: 1.0\n",
      "F1 Score: 0.8911174785100286\n",
      "################### LogisticRegression with TFIDF ngram_range = (1,2) ###################\n",
      "________________ Train Metrics______________\n",
      "Accuarcy score: 0.8537216828478964\n",
      "Precision Score: 0.8487508440243079\n",
      "Recall Score: 0.9984114376489277\n",
      "F1 Score: 0.9175182481751825\n",
      "________________ Test Metrics______________\n",
      "Accuarcy score: 0.8113695090439277\n",
      "Precision Score: 0.8131578947368421\n",
      "Recall Score: 0.9935691318327974\n",
      "F1 Score: 0.894356005788712\n",
      "################### Naive Bayes with TFIDF ngram_range = (1,2) ###################\n",
      "________________ Train Metrics______________\n",
      "Accuarcy score: 0.8200647249190939\n",
      "Precision Score: 0.819128171763175\n",
      "Recall Score: 1.0\n",
      "F1 Score: 0.9005722460658083\n",
      "________________ Test Metrics______________\n",
      "Accuarcy score: 0.8036175710594315\n",
      "Precision Score: 0.8036175710594315\n",
      "Recall Score: 1.0\n",
      "F1 Score: 0.8911174785100286\n"
     ]
    }
   ],
   "source": [
    "lr=LogisticRegression()\n",
    "models, metric_df = make_exprs([    modeling(\"LogisticRegression with CV\",LogisticRegression(), \n",
    "                                             X_train_cv, y_train, X_test_cv, y_test),\n",
    "                                    modeling(\"LogisticRegression with TFIDF\", LogisticRegression(),\n",
    "                                             X_train_tf, y_train, X_test_tf, y_test),\n",
    "                                    modeling(\"Naive Bayes with CV\", MultinomialNB(),\n",
    "                                             X_train_cv, y_train, X_test_cv, y_test),\n",
    "                                    modeling(\"Naive Bayes with TFIDf\", MultinomialNB(),\n",
    "                                             X_train_tf, y_train, X_test_tf, y_test),\n",
    "                                    modeling(\"LogisticRegression with TFIDF ngram_range = (1,2)\",\n",
    "                                             LogisticRegression(), X_train_tf_2, y_train, X_test_tf_2, y_test),\n",
    "                                    modeling(\"Naive Bayes with TFIDF ngram_range = (1,2)\",\n",
    "                                             MultinomialNB(), X_train_tf_2, y_train, X_test_tf_2, y_test)\n",
    "                                    ])"
   ]
  },
  {
   "cell_type": "code",
   "execution_count": 47,
   "id": "dec81a81",
   "metadata": {},
   "outputs": [
    {
     "data": {
      "text/html": [
       "<div>\n",
       "<style scoped>\n",
       "    .dataframe tbody tr th:only-of-type {\n",
       "        vertical-align: middle;\n",
       "    }\n",
       "\n",
       "    .dataframe tbody tr th {\n",
       "        vertical-align: top;\n",
       "    }\n",
       "\n",
       "    .dataframe thead th {\n",
       "        text-align: right;\n",
       "    }\n",
       "</style>\n",
       "<table border=\"1\" class=\"dataframe\">\n",
       "  <thead>\n",
       "    <tr style=\"text-align: right;\">\n",
       "      <th></th>\n",
       "      <th>Train_acc</th>\n",
       "      <th>Train_prec</th>\n",
       "      <th>Train_recall</th>\n",
       "      <th>Train_fbta</th>\n",
       "      <th>Test_acc</th>\n",
       "      <th>Test_prec</th>\n",
       "      <th>Test_recall</th>\n",
       "      <th>Test_fbta</th>\n",
       "      <th>expr_name</th>\n",
       "    </tr>\n",
       "  </thead>\n",
       "  <tbody>\n",
       "    <tr>\n",
       "      <th>0</th>\n",
       "      <td>0.994822</td>\n",
       "      <td>0.993686</td>\n",
       "      <td>1.000000</td>\n",
       "      <td>0.996833</td>\n",
       "      <td>0.860465</td>\n",
       "      <td>0.883582</td>\n",
       "      <td>0.951768</td>\n",
       "      <td>0.916409</td>\n",
       "      <td>LogisticRegression with CV</td>\n",
       "    </tr>\n",
       "    <tr>\n",
       "      <th>1</th>\n",
       "      <td>0.853722</td>\n",
       "      <td>0.848751</td>\n",
       "      <td>0.998411</td>\n",
       "      <td>0.917518</td>\n",
       "      <td>0.811370</td>\n",
       "      <td>0.813158</td>\n",
       "      <td>0.993569</td>\n",
       "      <td>0.894356</td>\n",
       "      <td>LogisticRegression with TFIDF</td>\n",
       "    </tr>\n",
       "    <tr>\n",
       "      <th>2</th>\n",
       "      <td>0.953398</td>\n",
       "      <td>0.952018</td>\n",
       "      <td>0.992851</td>\n",
       "      <td>0.972006</td>\n",
       "      <td>0.844961</td>\n",
       "      <td>0.857550</td>\n",
       "      <td>0.967846</td>\n",
       "      <td>0.909366</td>\n",
       "      <td>Naive Bayes with CV</td>\n",
       "    </tr>\n",
       "    <tr>\n",
       "      <th>3</th>\n",
       "      <td>0.820065</td>\n",
       "      <td>0.819128</td>\n",
       "      <td>1.000000</td>\n",
       "      <td>0.900572</td>\n",
       "      <td>0.803618</td>\n",
       "      <td>0.803618</td>\n",
       "      <td>1.000000</td>\n",
       "      <td>0.891117</td>\n",
       "      <td>Naive Bayes with TFIDf</td>\n",
       "    </tr>\n",
       "    <tr>\n",
       "      <th>4</th>\n",
       "      <td>0.853722</td>\n",
       "      <td>0.848751</td>\n",
       "      <td>0.998411</td>\n",
       "      <td>0.917518</td>\n",
       "      <td>0.811370</td>\n",
       "      <td>0.813158</td>\n",
       "      <td>0.993569</td>\n",
       "      <td>0.894356</td>\n",
       "      <td>LogisticRegression with TFIDF ngram_range = (1,2)</td>\n",
       "    </tr>\n",
       "    <tr>\n",
       "      <th>5</th>\n",
       "      <td>0.820065</td>\n",
       "      <td>0.819128</td>\n",
       "      <td>1.000000</td>\n",
       "      <td>0.900572</td>\n",
       "      <td>0.803618</td>\n",
       "      <td>0.803618</td>\n",
       "      <td>1.000000</td>\n",
       "      <td>0.891117</td>\n",
       "      <td>Naive Bayes with TFIDF ngram_range = (1,2)</td>\n",
       "    </tr>\n",
       "  </tbody>\n",
       "</table>\n",
       "</div>"
      ],
      "text/plain": [
       "   Train_acc  Train_prec  Train_recall  Train_fbta  Test_acc  Test_prec  \\\n",
       "0   0.994822    0.993686      1.000000    0.996833  0.860465   0.883582   \n",
       "1   0.853722    0.848751      0.998411    0.917518  0.811370   0.813158   \n",
       "2   0.953398    0.952018      0.992851    0.972006  0.844961   0.857550   \n",
       "3   0.820065    0.819128      1.000000    0.900572  0.803618   0.803618   \n",
       "4   0.853722    0.848751      0.998411    0.917518  0.811370   0.813158   \n",
       "5   0.820065    0.819128      1.000000    0.900572  0.803618   0.803618   \n",
       "\n",
       "   Test_recall  Test_fbta                                          expr_name  \n",
       "0     0.951768   0.916409                         LogisticRegression with CV  \n",
       "1     0.993569   0.894356                      LogisticRegression with TFIDF  \n",
       "2     0.967846   0.909366                                Naive Bayes with CV  \n",
       "3     1.000000   0.891117                             Naive Bayes with TFIDf  \n",
       "4     0.993569   0.894356  LogisticRegression with TFIDF ngram_range = (1,2)  \n",
       "5     1.000000   0.891117         Naive Bayes with TFIDF ngram_range = (1,2)  "
      ]
     },
     "execution_count": 47,
     "metadata": {},
     "output_type": "execute_result"
    }
   ],
   "source": [
    "metric_df"
   ]
  },
  {
   "cell_type": "code",
   "execution_count": 48,
   "id": "c93f827e",
   "metadata": {},
   "outputs": [
    {
     "data": {
      "text/plain": [
       "[LogisticRegression(),\n",
       " LogisticRegression(),\n",
       " MultinomialNB(),\n",
       " MultinomialNB(),\n",
       " LogisticRegression(),\n",
       " MultinomialNB()]"
      ]
     },
     "execution_count": 48,
     "metadata": {},
     "output_type": "execute_result"
    }
   ],
   "source": [
    "models"
   ]
  },
  {
   "cell_type": "code",
   "execution_count": null,
   "id": "3ab16f72",
   "metadata": {},
   "outputs": [],
   "source": []
  },
  {
   "cell_type": "markdown",
   "id": "4366742e",
   "metadata": {},
   "source": [
    " # <a name='Topic'>Topic Modeling</a>"
   ]
  },
  {
   "cell_type": "markdown",
   "id": "995a284b",
   "metadata": {},
   "source": [
    "## LSA Model"
   ]
  },
  {
   "cell_type": "code",
   "execution_count": 49,
   "id": "c2e17077",
   "metadata": {},
   "outputs": [
    {
     "data": {
      "text/plain": [
       "(1932, 4688)"
      ]
     },
     "execution_count": 49,
     "metadata": {},
     "output_type": "execute_result"
    }
   ],
   "source": [
    "vectorizer = CountVectorizer(stop_words='english')\n",
    "doc_word = vectorizer.fit_transform(df['Review Text'])\n",
    "doc_word.shape"
   ]
  },
  {
   "cell_type": "code",
   "execution_count": 50,
   "id": "54b0bf60",
   "metadata": {},
   "outputs": [],
   "source": [
    "lsa = TruncatedSVD(10)\n",
    "doc_topic = lsa.fit_transform(doc_word)"
   ]
  },
  {
   "cell_type": "code",
   "execution_count": 51,
   "id": "bf85fd39",
   "metadata": {},
   "outputs": [
    {
     "name": "stdout",
     "output_type": "stream",
     "text": [
      "\n",
      "Topic  0\n",
      "size, dress, love, fit, like, just, wear, small, great, color\n",
      "\n",
      "Topic  1\n",
      "dress, dresses, fabric, saw, wedding, belt, bra, loved, wearing, slip\n",
      "\n",
      "Topic  2\n",
      "size, small, dress, ordered, fit, true, medium, petite, usual, usually\n",
      "\n",
      "Topic  3\n",
      "like, just, look, fabric, really, fit, looks, way, short, looked\n",
      "\n",
      "Topic  4\n",
      "like, size, love, looks, shirt, look, fits, material, really, cute\n",
      "\n",
      "Topic  5\n",
      "great, wear, looks, jeans, bought, shirt, color, dress, medium, summer\n",
      "\n",
      "Topic  6\n",
      "small, wear, xs, medium, usually, just, runs, extra, arms, retailer\n",
      "\n",
      "Topic  7\n",
      "fit, like, small, love, great, xs, ordered, medium, material, dress\n",
      "\n",
      "Topic  8\n",
      "great, small, color, looks, fabric, sweater, beautiful, really, runs, big\n",
      "\n",
      "Topic  9\n",
      "color, sweater, perfect, nice, big, ordered, green, coat, xs, skirt\n"
     ]
    }
   ],
   "source": [
    "display_topics(lsa, vectorizer.get_feature_names(), 10)"
   ]
  },
  {
   "cell_type": "code",
   "execution_count": null,
   "id": "56608149",
   "metadata": {},
   "outputs": [],
   "source": []
  },
  {
   "cell_type": "markdown",
   "id": "79350331",
   "metadata": {},
   "source": [
    "## NMF Model"
   ]
  },
  {
   "cell_type": "code",
   "execution_count": 52,
   "id": "e59ce543",
   "metadata": {},
   "outputs": [],
   "source": [
    "nmf_model = NMF(10)\n",
    "doc_topic = nmf_model.fit_transform(doc_word)"
   ]
  },
  {
   "cell_type": "code",
   "execution_count": 53,
   "id": "d185d498",
   "metadata": {},
   "outputs": [
    {
     "name": "stdout",
     "output_type": "stream",
     "text": [
      "\n",
      "Topic  0\n",
      "love, little, perfect, fits, soft, comfortable, pants, colors, sweater, skirt\n",
      "\n",
      "Topic  1\n",
      "dress, fabric, dresses, material, flattering, saw, loved, wearing, did, perfect\n",
      "\n",
      "Topic  2\n",
      "size, true, ordered, large, fits, usual, store, material, skirt, big\n",
      "\n",
      "Topic  3\n",
      "like, look, really, looks, model, material, looked, fabric, way, cute\n",
      "\n",
      "Topic  4\n",
      "fit, perfect, petite, waist, pants, length, ordered, perfectly, nice, flattering\n",
      "\n",
      "Topic  5\n",
      "great, looks, jeans, fits, comfortable, shirt, black, bought, flattering, quality\n",
      "\n",
      "Topic  6\n",
      "small, xs, medium, usually, runs, ordered, petite, lbs, extra, arms\n",
      "\n",
      "Topic  7\n",
      "just, fabric, right, short, bit, really, beautiful, length, little, look\n",
      "\n",
      "Topic  8\n",
      "wear, perfect, shirt, bought, comfortable, usually, large, bra, pretty, medium\n",
      "\n",
      "Topic  9\n",
      "color, sweater, nice, beautiful, green, ordered, soft, flattering, coat, long\n"
     ]
    }
   ],
   "source": [
    "display_topics(nmf_model, vectorizer.get_feature_names(), 10)"
   ]
  },
  {
   "cell_type": "code",
   "execution_count": null,
   "id": "761a00dd",
   "metadata": {},
   "outputs": [],
   "source": []
  },
  {
   "cell_type": "markdown",
   "id": "7ada6b91",
   "metadata": {},
   "source": [
    "## LDA Model"
   ]
  },
  {
   "cell_type": "code",
   "execution_count": 54,
   "id": "379792c2",
   "metadata": {},
   "outputs": [
    {
     "name": "stdout",
     "output_type": "stream",
     "text": [
      "LatentDirichletAllocation(learning_method='online', n_jobs=-1, random_state=100)\n"
     ]
    }
   ],
   "source": [
    "lda_model = LatentDirichletAllocation(n_components=10,               # Number of topics\n",
    "                                      max_iter=10,               # Max learning iterations\n",
    "                                      learning_method='online',   \n",
    "                                      random_state=100,          # Random state\n",
    "                                      batch_size=128,            # n docs in each learning iter\n",
    "                                      evaluate_every = -1,       # compute perplexity every n iters, default: Don't\n",
    "                                      n_jobs = -1,               # Use all available CPUs\n",
    "                                     )\n",
    "\n",
    "lda_output = lda_model.fit_transform(doc_word)\n",
    "\n",
    "print(lda_model)"
   ]
  },
  {
   "cell_type": "code",
   "execution_count": 55,
   "id": "80c12f41",
   "metadata": {},
   "outputs": [
    {
     "name": "stdout",
     "output_type": "stream",
     "text": [
      "\n",
      "Topic  0\n",
      "straps, vest, wool, shrink, washed, dryer, dry, itchy, yes, romper\n",
      "\n",
      "Topic  1\n",
      "paired, leg, weara, opening, black, 16, okay, good, look, mom\n",
      "\n",
      "Topic  2\n",
      "cinched, golden, proba, dots, business, sticky, weather, threads, pops, texas\n",
      "\n",
      "Topic  3\n",
      "coat, seasons, lining, beauty, life, drapey, luxurious, thread, itchy, everyday\n",
      "\n",
      "Topic  4\n",
      "cleaned, edging, snatched, result, represented, determined, homework, randomly, swatch, salivating\n",
      "\n",
      "Topic  5\n",
      "night, compliments, favorite, time, warm, wore, coat, sweater, costume, perfect\n",
      "\n",
      "Topic  6\n",
      "jeans, look, waist, need, high, body, right, tailor, heels, denim\n",
      "\n",
      "Topic  7\n",
      "size, dress, love, fit, like, wear, just, great, color, small\n",
      "\n",
      "Topic  8\n",
      "slip, knew, cuter, support, navy, cardi, occasion, dd, crop, boyfriend\n",
      "\n",
      "Topic  9\n",
      "suit, jumpsuit, waistband, im, 38, th, beach, 32dd, cover, bathing\n"
     ]
    }
   ],
   "source": [
    "display_topics(lda_model, vectorizer.get_feature_names(), 10)"
   ]
  },
  {
   "cell_type": "code",
   "execution_count": 56,
   "id": "6f96cd49",
   "metadata": {},
   "outputs": [
    {
     "data": {
      "text/plain": [
       "RandomizedSearchCV(estimator=LatentDirichletAllocation(), n_iter=5,\n",
       "                   param_distributions={'learning_decay': [0.5, 0.7, 0.9],\n",
       "                                        'n_components': [5, 6, 8]})"
      ]
     },
     "execution_count": 56,
     "metadata": {},
     "output_type": "execute_result"
    }
   ],
   "source": [
    "search_params = {'n_components': [5, 6, 8], 'learning_decay': [.5, .7, .9]}\n",
    "\n",
    "# Init the Model\n",
    "lda = LatentDirichletAllocation()\n",
    "\n",
    "# increase number of combos here if tuning results are not yet satisfying\n",
    "param_combos = 5\n",
    "\n",
    "# Init Grid Search Class\n",
    "model = RandomizedSearchCV(lda, search_params, n_iter=param_combos)\n",
    "\n",
    "# Do the Grid Search\n",
    "model.fit(doc_word)"
   ]
  },
  {
   "cell_type": "code",
   "execution_count": 57,
   "id": "b864d023",
   "metadata": {},
   "outputs": [
    {
     "name": "stdout",
     "output_type": "stream",
     "text": [
      "Best Model's Params:  {'n_components': 5, 'learning_decay': 0.5}\n"
     ]
    }
   ],
   "source": [
    "# Best Model\n",
    "best_lda_model = model.best_estimator_\n",
    "\n",
    "# Model Parameters\n",
    "print(\"Best Model's Params: \", model.best_params_)"
   ]
  },
  {
   "cell_type": "code",
   "execution_count": 58,
   "id": "7405ac46",
   "metadata": {},
   "outputs": [
    {
     "name": "stdout",
     "output_type": "stream",
     "text": [
      "\n",
      "Topic  0\n",
      "size, like, nice, skirt, color, great, small, fit, wear, look\n",
      "\n",
      "Topic  1\n",
      "dress, just, fit, fabric, petite, size, great, xs, like, jeans\n",
      "\n",
      "Topic  2\n",
      "dress, great, wear, size, love, color, perfect, small, just, fit\n",
      "\n",
      "Topic  3\n",
      "love, size, fit, color, like, really, fabric, small, just, ordered\n",
      "\n",
      "Topic  4\n",
      "love, dress, wear, like, fit, comfortable, just, flattering, size, look\n"
     ]
    }
   ],
   "source": [
    "display_topics(best_lda_model, vectorizer.get_feature_names(), 10)"
   ]
  },
  {
   "cell_type": "code",
   "execution_count": 59,
   "id": "7844a4ba",
   "metadata": {},
   "outputs": [
    {
     "data": {
      "text/html": [
       "<style  type=\"text/css\" >\n",
       "#T_b69b0_row0_col0,#T_b69b0_row0_col1,#T_b69b0_row0_col2,#T_b69b0_row0_col3,#T_b69b0_row1_col0,#T_b69b0_row1_col1,#T_b69b0_row1_col2,#T_b69b0_row1_col4,#T_b69b0_row2_col0,#T_b69b0_row2_col1,#T_b69b0_row2_col2,#T_b69b0_row3_col0,#T_b69b0_row3_col1,#T_b69b0_row3_col2,#T_b69b0_row3_col3,#T_b69b0_row4_col0,#T_b69b0_row4_col1,#T_b69b0_row4_col2,#T_b69b0_row4_col3,#T_b69b0_row5_col0,#T_b69b0_row5_col1,#T_b69b0_row5_col2,#T_b69b0_row5_col3,#T_b69b0_row6_col1,#T_b69b0_row6_col2,#T_b69b0_row6_col3,#T_b69b0_row6_col4,#T_b69b0_row6_col5,#T_b69b0_row7_col0,#T_b69b0_row7_col1,#T_b69b0_row7_col2,#T_b69b0_row7_col4,#T_b69b0_row8_col0,#T_b69b0_row8_col1,#T_b69b0_row8_col2,#T_b69b0_row9_col0,#T_b69b0_row9_col1,#T_b69b0_row9_col4,#T_b69b0_row10_col0,#T_b69b0_row10_col2,#T_b69b0_row10_col3,#T_b69b0_row10_col4,#T_b69b0_row11_col0,#T_b69b0_row11_col1,#T_b69b0_row11_col2,#T_b69b0_row11_col3,#T_b69b0_row12_col0,#T_b69b0_row12_col2,#T_b69b0_row12_col3,#T_b69b0_row12_col4,#T_b69b0_row13_col0,#T_b69b0_row13_col2,#T_b69b0_row13_col3,#T_b69b0_row14_col0,#T_b69b0_row14_col1,#T_b69b0_row14_col3,#T_b69b0_row14_col4{\n",
       "            color:  black;\n",
       "            font-weight:  400;\n",
       "        }#T_b69b0_row0_col4,#T_b69b0_row0_col5,#T_b69b0_row1_col3,#T_b69b0_row1_col5,#T_b69b0_row2_col3,#T_b69b0_row2_col4,#T_b69b0_row2_col5,#T_b69b0_row3_col4,#T_b69b0_row3_col5,#T_b69b0_row4_col4,#T_b69b0_row4_col5,#T_b69b0_row5_col4,#T_b69b0_row5_col5,#T_b69b0_row6_col0,#T_b69b0_row7_col3,#T_b69b0_row7_col5,#T_b69b0_row8_col3,#T_b69b0_row8_col4,#T_b69b0_row8_col5,#T_b69b0_row9_col2,#T_b69b0_row9_col3,#T_b69b0_row9_col5,#T_b69b0_row10_col1,#T_b69b0_row10_col5,#T_b69b0_row11_col4,#T_b69b0_row11_col5,#T_b69b0_row12_col1,#T_b69b0_row12_col5,#T_b69b0_row13_col1,#T_b69b0_row13_col4,#T_b69b0_row13_col5,#T_b69b0_row14_col2,#T_b69b0_row14_col5{\n",
       "            color:  green;\n",
       "            font-weight:  700;\n",
       "        }</style><table id=\"T_b69b0_\" ><thead>    <tr>        <th class=\"blank level0\" ></th>        <th class=\"col_heading level0 col0\" >Topic0</th>        <th class=\"col_heading level0 col1\" >Topic1</th>        <th class=\"col_heading level0 col2\" >Topic2</th>        <th class=\"col_heading level0 col3\" >Topic3</th>        <th class=\"col_heading level0 col4\" >Topic4</th>        <th class=\"col_heading level0 col5\" >dominant_topic</th>    </tr></thead><tbody>\n",
       "                <tr>\n",
       "                        <th id=\"T_b69b0_level0_row0\" class=\"row_heading level0 row0\" >Doc0</th>\n",
       "                        <td id=\"T_b69b0_row0_col0\" class=\"data row0 col0\" >0.030000</td>\n",
       "                        <td id=\"T_b69b0_row0_col1\" class=\"data row0 col1\" >0.030000</td>\n",
       "                        <td id=\"T_b69b0_row0_col2\" class=\"data row0 col2\" >0.030000</td>\n",
       "                        <td id=\"T_b69b0_row0_col3\" class=\"data row0 col3\" >0.030000</td>\n",
       "                        <td id=\"T_b69b0_row0_col4\" class=\"data row0 col4\" >0.870000</td>\n",
       "                        <td id=\"T_b69b0_row0_col5\" class=\"data row0 col5\" >4</td>\n",
       "            </tr>\n",
       "            <tr>\n",
       "                        <th id=\"T_b69b0_level0_row1\" class=\"row_heading level0 row1\" >Doc1</th>\n",
       "                        <td id=\"T_b69b0_row1_col0\" class=\"data row1 col0\" >0.010000</td>\n",
       "                        <td id=\"T_b69b0_row1_col1\" class=\"data row1 col1\" >0.010000</td>\n",
       "                        <td id=\"T_b69b0_row1_col2\" class=\"data row1 col2\" >0.010000</td>\n",
       "                        <td id=\"T_b69b0_row1_col3\" class=\"data row1 col3\" >0.970000</td>\n",
       "                        <td id=\"T_b69b0_row1_col4\" class=\"data row1 col4\" >0.010000</td>\n",
       "                        <td id=\"T_b69b0_row1_col5\" class=\"data row1 col5\" >3</td>\n",
       "            </tr>\n",
       "            <tr>\n",
       "                        <th id=\"T_b69b0_level0_row2\" class=\"row_heading level0 row2\" >Doc2</th>\n",
       "                        <td id=\"T_b69b0_row2_col0\" class=\"data row2 col0\" >0.000000</td>\n",
       "                        <td id=\"T_b69b0_row2_col1\" class=\"data row2 col1\" >0.000000</td>\n",
       "                        <td id=\"T_b69b0_row2_col2\" class=\"data row2 col2\" >0.000000</td>\n",
       "                        <td id=\"T_b69b0_row2_col3\" class=\"data row2 col3\" >0.300000</td>\n",
       "                        <td id=\"T_b69b0_row2_col4\" class=\"data row2 col4\" >0.680000</td>\n",
       "                        <td id=\"T_b69b0_row2_col5\" class=\"data row2 col5\" >4</td>\n",
       "            </tr>\n",
       "            <tr>\n",
       "                        <th id=\"T_b69b0_level0_row3\" class=\"row_heading level0 row3\" >Doc3</th>\n",
       "                        <td id=\"T_b69b0_row3_col0\" class=\"data row3 col0\" >0.020000</td>\n",
       "                        <td id=\"T_b69b0_row3_col1\" class=\"data row3 col1\" >0.020000</td>\n",
       "                        <td id=\"T_b69b0_row3_col2\" class=\"data row3 col2\" >0.020000</td>\n",
       "                        <td id=\"T_b69b0_row3_col3\" class=\"data row3 col3\" >0.020000</td>\n",
       "                        <td id=\"T_b69b0_row3_col4\" class=\"data row3 col4\" >0.930000</td>\n",
       "                        <td id=\"T_b69b0_row3_col5\" class=\"data row3 col5\" >4</td>\n",
       "            </tr>\n",
       "            <tr>\n",
       "                        <th id=\"T_b69b0_level0_row4\" class=\"row_heading level0 row4\" >Doc4</th>\n",
       "                        <td id=\"T_b69b0_row4_col0\" class=\"data row4 col0\" >0.010000</td>\n",
       "                        <td id=\"T_b69b0_row4_col1\" class=\"data row4 col1\" >0.010000</td>\n",
       "                        <td id=\"T_b69b0_row4_col2\" class=\"data row4 col2\" >0.010000</td>\n",
       "                        <td id=\"T_b69b0_row4_col3\" class=\"data row4 col3\" >0.010000</td>\n",
       "                        <td id=\"T_b69b0_row4_col4\" class=\"data row4 col4\" >0.940000</td>\n",
       "                        <td id=\"T_b69b0_row4_col5\" class=\"data row4 col5\" >4</td>\n",
       "            </tr>\n",
       "            <tr>\n",
       "                        <th id=\"T_b69b0_level0_row5\" class=\"row_heading level0 row5\" >Doc5</th>\n",
       "                        <td id=\"T_b69b0_row5_col0\" class=\"data row5 col0\" >0.010000</td>\n",
       "                        <td id=\"T_b69b0_row5_col1\" class=\"data row5 col1\" >0.010000</td>\n",
       "                        <td id=\"T_b69b0_row5_col2\" class=\"data row5 col2\" >0.010000</td>\n",
       "                        <td id=\"T_b69b0_row5_col3\" class=\"data row5 col3\" >0.010000</td>\n",
       "                        <td id=\"T_b69b0_row5_col4\" class=\"data row5 col4\" >0.980000</td>\n",
       "                        <td id=\"T_b69b0_row5_col5\" class=\"data row5 col5\" >4</td>\n",
       "            </tr>\n",
       "            <tr>\n",
       "                        <th id=\"T_b69b0_level0_row6\" class=\"row_heading level0 row6\" >Doc6</th>\n",
       "                        <td id=\"T_b69b0_row6_col0\" class=\"data row6 col0\" >0.980000</td>\n",
       "                        <td id=\"T_b69b0_row6_col1\" class=\"data row6 col1\" >0.000000</td>\n",
       "                        <td id=\"T_b69b0_row6_col2\" class=\"data row6 col2\" >0.000000</td>\n",
       "                        <td id=\"T_b69b0_row6_col3\" class=\"data row6 col3\" >0.000000</td>\n",
       "                        <td id=\"T_b69b0_row6_col4\" class=\"data row6 col4\" >0.000000</td>\n",
       "                        <td id=\"T_b69b0_row6_col5\" class=\"data row6 col5\" >0</td>\n",
       "            </tr>\n",
       "            <tr>\n",
       "                        <th id=\"T_b69b0_level0_row7\" class=\"row_heading level0 row7\" >Doc7</th>\n",
       "                        <td id=\"T_b69b0_row7_col0\" class=\"data row7 col0\" >0.000000</td>\n",
       "                        <td id=\"T_b69b0_row7_col1\" class=\"data row7 col1\" >0.000000</td>\n",
       "                        <td id=\"T_b69b0_row7_col2\" class=\"data row7 col2\" >0.000000</td>\n",
       "                        <td id=\"T_b69b0_row7_col3\" class=\"data row7 col3\" >0.980000</td>\n",
       "                        <td id=\"T_b69b0_row7_col4\" class=\"data row7 col4\" >0.000000</td>\n",
       "                        <td id=\"T_b69b0_row7_col5\" class=\"data row7 col5\" >3</td>\n",
       "            </tr>\n",
       "            <tr>\n",
       "                        <th id=\"T_b69b0_level0_row8\" class=\"row_heading level0 row8\" >Doc8</th>\n",
       "                        <td id=\"T_b69b0_row8_col0\" class=\"data row8 col0\" >0.010000</td>\n",
       "                        <td id=\"T_b69b0_row8_col1\" class=\"data row8 col1\" >0.010000</td>\n",
       "                        <td id=\"T_b69b0_row8_col2\" class=\"data row8 col2\" >0.010000</td>\n",
       "                        <td id=\"T_b69b0_row8_col3\" class=\"data row8 col3\" >0.430000</td>\n",
       "                        <td id=\"T_b69b0_row8_col4\" class=\"data row8 col4\" >0.540000</td>\n",
       "                        <td id=\"T_b69b0_row8_col5\" class=\"data row8 col5\" >4</td>\n",
       "            </tr>\n",
       "            <tr>\n",
       "                        <th id=\"T_b69b0_level0_row9\" class=\"row_heading level0 row9\" >Doc9</th>\n",
       "                        <td id=\"T_b69b0_row9_col0\" class=\"data row9 col0\" >0.010000</td>\n",
       "                        <td id=\"T_b69b0_row9_col1\" class=\"data row9 col1\" >0.010000</td>\n",
       "                        <td id=\"T_b69b0_row9_col2\" class=\"data row9 col2\" >0.250000</td>\n",
       "                        <td id=\"T_b69b0_row9_col3\" class=\"data row9 col3\" >0.740000</td>\n",
       "                        <td id=\"T_b69b0_row9_col4\" class=\"data row9 col4\" >0.010000</td>\n",
       "                        <td id=\"T_b69b0_row9_col5\" class=\"data row9 col5\" >3</td>\n",
       "            </tr>\n",
       "            <tr>\n",
       "                        <th id=\"T_b69b0_level0_row10\" class=\"row_heading level0 row10\" >Doc10</th>\n",
       "                        <td id=\"T_b69b0_row10_col0\" class=\"data row10 col0\" >0.010000</td>\n",
       "                        <td id=\"T_b69b0_row10_col1\" class=\"data row10 col1\" >0.970000</td>\n",
       "                        <td id=\"T_b69b0_row10_col2\" class=\"data row10 col2\" >0.010000</td>\n",
       "                        <td id=\"T_b69b0_row10_col3\" class=\"data row10 col3\" >0.010000</td>\n",
       "                        <td id=\"T_b69b0_row10_col4\" class=\"data row10 col4\" >0.010000</td>\n",
       "                        <td id=\"T_b69b0_row10_col5\" class=\"data row10 col5\" >1</td>\n",
       "            </tr>\n",
       "            <tr>\n",
       "                        <th id=\"T_b69b0_level0_row11\" class=\"row_heading level0 row11\" >Doc11</th>\n",
       "                        <td id=\"T_b69b0_row11_col0\" class=\"data row11 col0\" >0.040000</td>\n",
       "                        <td id=\"T_b69b0_row11_col1\" class=\"data row11 col1\" >0.040000</td>\n",
       "                        <td id=\"T_b69b0_row11_col2\" class=\"data row11 col2\" >0.040000</td>\n",
       "                        <td id=\"T_b69b0_row11_col3\" class=\"data row11 col3\" >0.040000</td>\n",
       "                        <td id=\"T_b69b0_row11_col4\" class=\"data row11 col4\" >0.840000</td>\n",
       "                        <td id=\"T_b69b0_row11_col5\" class=\"data row11 col5\" >4</td>\n",
       "            </tr>\n",
       "            <tr>\n",
       "                        <th id=\"T_b69b0_level0_row12\" class=\"row_heading level0 row12\" >Doc12</th>\n",
       "                        <td id=\"T_b69b0_row12_col0\" class=\"data row12 col0\" >0.010000</td>\n",
       "                        <td id=\"T_b69b0_row12_col1\" class=\"data row12 col1\" >0.980000</td>\n",
       "                        <td id=\"T_b69b0_row12_col2\" class=\"data row12 col2\" >0.010000</td>\n",
       "                        <td id=\"T_b69b0_row12_col3\" class=\"data row12 col3\" >0.010000</td>\n",
       "                        <td id=\"T_b69b0_row12_col4\" class=\"data row12 col4\" >0.010000</td>\n",
       "                        <td id=\"T_b69b0_row12_col5\" class=\"data row12 col5\" >1</td>\n",
       "            </tr>\n",
       "            <tr>\n",
       "                        <th id=\"T_b69b0_level0_row13\" class=\"row_heading level0 row13\" >Doc13</th>\n",
       "                        <td id=\"T_b69b0_row13_col0\" class=\"data row13 col0\" >0.010000</td>\n",
       "                        <td id=\"T_b69b0_row13_col1\" class=\"data row13 col1\" >0.760000</td>\n",
       "                        <td id=\"T_b69b0_row13_col2\" class=\"data row13 col2\" >0.010000</td>\n",
       "                        <td id=\"T_b69b0_row13_col3\" class=\"data row13 col3\" >0.010000</td>\n",
       "                        <td id=\"T_b69b0_row13_col4\" class=\"data row13 col4\" >0.220000</td>\n",
       "                        <td id=\"T_b69b0_row13_col5\" class=\"data row13 col5\" >1</td>\n",
       "            </tr>\n",
       "            <tr>\n",
       "                        <th id=\"T_b69b0_level0_row14\" class=\"row_heading level0 row14\" >Doc14</th>\n",
       "                        <td id=\"T_b69b0_row14_col0\" class=\"data row14 col0\" >0.000000</td>\n",
       "                        <td id=\"T_b69b0_row14_col1\" class=\"data row14 col1\" >0.000000</td>\n",
       "                        <td id=\"T_b69b0_row14_col2\" class=\"data row14 col2\" >0.980000</td>\n",
       "                        <td id=\"T_b69b0_row14_col3\" class=\"data row14 col3\" >0.000000</td>\n",
       "                        <td id=\"T_b69b0_row14_col4\" class=\"data row14 col4\" >0.000000</td>\n",
       "                        <td id=\"T_b69b0_row14_col5\" class=\"data row14 col5\" >2</td>\n",
       "            </tr>\n",
       "    </tbody></table>"
      ],
      "text/plain": [
       "<pandas.io.formats.style.Styler at 0x1d1bad45b50>"
      ]
     },
     "execution_count": 59,
     "metadata": {},
     "output_type": "execute_result"
    }
   ],
   "source": [
    "# Create Document - Topic Matrix\n",
    "lda_output = best_lda_model.transform(doc_word)\n",
    "# column names\n",
    "topicnames = [\"Topic\" + str(i) for i in range(best_lda_model.n_components)]\n",
    "# index names\n",
    "docnames = [\"Doc\" + str(i) for i in range(len(df))]\n",
    "# Make the pandas dataframe\n",
    "df_document_topic = pd.DataFrame(np.round(lda_output, 2), columns=topicnames, index=docnames)\n",
    "# Get dominant topic for each document\n",
    "dominant_topic = np.argmax(df_document_topic.values, axis=1)\n",
    "df_document_topic['dominant_topic'] = dominant_topic\n",
    "# Styling\n",
    "def color_green(val):\n",
    "    color = 'green' if val > .1 else 'black'\n",
    "    return 'color: {col}'.format(col=color)\n",
    "def make_bold(val):\n",
    "    weight = 700 if val > .1 else 400\n",
    "    return 'font-weight: {weight}'.format(weight=weight)\n",
    "# Apply Style\n",
    "df_document_topics = df_document_topic.head(15).style.applymap(color_green).applymap(make_bold)\n",
    "df_document_topics"
   ]
  },
  {
   "cell_type": "code",
   "execution_count": 60,
   "id": "17a98cd9",
   "metadata": {},
   "outputs": [
    {
     "data": {
      "text/html": [
       "<div>\n",
       "<style scoped>\n",
       "    .dataframe tbody tr th:only-of-type {\n",
       "        vertical-align: middle;\n",
       "    }\n",
       "\n",
       "    .dataframe tbody tr th {\n",
       "        vertical-align: top;\n",
       "    }\n",
       "\n",
       "    .dataframe thead th {\n",
       "        text-align: right;\n",
       "    }\n",
       "</style>\n",
       "<table border=\"1\" class=\"dataframe\">\n",
       "  <thead>\n",
       "    <tr style=\"text-align: right;\">\n",
       "      <th></th>\n",
       "      <th>Topic Num</th>\n",
       "      <th>Num Documents</th>\n",
       "    </tr>\n",
       "  </thead>\n",
       "  <tbody>\n",
       "    <tr>\n",
       "      <th>0</th>\n",
       "      <td>3</td>\n",
       "      <td>690</td>\n",
       "    </tr>\n",
       "    <tr>\n",
       "      <th>1</th>\n",
       "      <td>2</td>\n",
       "      <td>410</td>\n",
       "    </tr>\n",
       "    <tr>\n",
       "      <th>2</th>\n",
       "      <td>4</td>\n",
       "      <td>373</td>\n",
       "    </tr>\n",
       "    <tr>\n",
       "      <th>3</th>\n",
       "      <td>0</td>\n",
       "      <td>241</td>\n",
       "    </tr>\n",
       "    <tr>\n",
       "      <th>4</th>\n",
       "      <td>1</td>\n",
       "      <td>218</td>\n",
       "    </tr>\n",
       "  </tbody>\n",
       "</table>\n",
       "</div>"
      ],
      "text/plain": [
       "   Topic Num  Num Documents\n",
       "0          3            690\n",
       "1          2            410\n",
       "2          4            373\n",
       "3          0            241\n",
       "4          1            218"
      ]
     },
     "execution_count": 60,
     "metadata": {},
     "output_type": "execute_result"
    }
   ],
   "source": [
    "df_topic_distribution = df_document_topic['dominant_topic'].value_counts().reset_index(name=\"Num Documents\")\n",
    "df_topic_distribution.columns = ['Topic Num', 'Num Documents']\n",
    "df_topic_distribution"
   ]
  },
  {
   "cell_type": "code",
   "execution_count": null,
   "id": "273beaf5",
   "metadata": {},
   "outputs": [],
   "source": []
  },
  {
   "cell_type": "markdown",
   "id": "000ff84b",
   "metadata": {},
   "source": [
    "## Clustring"
   ]
  },
  {
   "cell_type": "code",
   "execution_count": 61,
   "id": "7e5a518d",
   "metadata": {},
   "outputs": [],
   "source": [
    "X = df_document_topic.drop(\"dominant_topic\", axis=\"columns\")"
   ]
  },
  {
   "cell_type": "code",
   "execution_count": 62,
   "id": "641490c6",
   "metadata": {},
   "outputs": [
    {
     "name": "stdout",
     "output_type": "stream",
     "text": [
      "2 0.3644706411150282\n",
      "3 0.4724539495927442\n",
      "4 0.5661657256030825\n",
      "5 0.6415735493654324\n",
      "6 0.6144774769512783\n",
      "7 0.6182237025346351\n",
      "8 0.643493511028864\n",
      "9 0.6534086837278795\n",
      "10 0.6428186588911899\n",
      "11 0.6536475062287607\n",
      "12 0.6690278281572473\n",
      "13 0.6764507180883341\n"
     ]
    }
   ],
   "source": [
    "sil_list = []\n",
    "k_list = []\n",
    "for i in range(2, 15):\n",
    "    agg = AgglomerativeClustering(n_clusters=i,linkage='ward')\n",
    "    cluster_label = agg.fit_predict(X)\n",
    "    k_list.append(i)\n",
    "    sil_list.append(silhouette_score(X, cluster_label))\n",
    "for i in range(0, 12):\n",
    "    print(k_list[i], sil_list[i])"
   ]
  },
  {
   "cell_type": "code",
   "execution_count": null,
   "id": "2c0f9866",
   "metadata": {},
   "outputs": [],
   "source": []
  },
  {
   "cell_type": "code",
   "execution_count": 63,
   "id": "62aad43a",
   "metadata": {},
   "outputs": [],
   "source": [
    "agg = AgglomerativeClustering(n_clusters=13,linkage='ward')\n",
    "cluster_label = agg.fit_predict(X)\n",
    "X_new = X.copy()\n",
    "X_new[\"cluster\"] = cluster_label"
   ]
  },
  {
   "cell_type": "code",
   "execution_count": 64,
   "id": "47b95b40",
   "metadata": {},
   "outputs": [
    {
     "data": {
      "text/html": [
       "<div>\n",
       "<style scoped>\n",
       "    .dataframe tbody tr th:only-of-type {\n",
       "        vertical-align: middle;\n",
       "    }\n",
       "\n",
       "    .dataframe tbody tr th {\n",
       "        vertical-align: top;\n",
       "    }\n",
       "\n",
       "    .dataframe thead th {\n",
       "        text-align: right;\n",
       "    }\n",
       "</style>\n",
       "<table border=\"1\" class=\"dataframe\">\n",
       "  <thead>\n",
       "    <tr style=\"text-align: right;\">\n",
       "      <th></th>\n",
       "      <th>Topic0</th>\n",
       "      <th>Topic1</th>\n",
       "      <th>Topic2</th>\n",
       "      <th>Topic3</th>\n",
       "      <th>Topic4</th>\n",
       "    </tr>\n",
       "    <tr>\n",
       "      <th>cluster</th>\n",
       "      <th></th>\n",
       "      <th></th>\n",
       "      <th></th>\n",
       "      <th></th>\n",
       "      <th></th>\n",
       "    </tr>\n",
       "  </thead>\n",
       "  <tbody>\n",
       "    <tr>\n",
       "      <th>0</th>\n",
       "      <td>0.217069</td>\n",
       "      <td>0.231034</td>\n",
       "      <td>0.010690</td>\n",
       "      <td>0.010690</td>\n",
       "      <td>0.531897</td>\n",
       "    </tr>\n",
       "    <tr>\n",
       "      <th>1</th>\n",
       "      <td>0.122708</td>\n",
       "      <td>0.054375</td>\n",
       "      <td>0.632917</td>\n",
       "      <td>0.149097</td>\n",
       "      <td>0.043819</td>\n",
       "    </tr>\n",
       "    <tr>\n",
       "      <th>2</th>\n",
       "      <td>0.012020</td>\n",
       "      <td>0.026612</td>\n",
       "      <td>0.013327</td>\n",
       "      <td>0.938204</td>\n",
       "      <td>0.012388</td>\n",
       "    </tr>\n",
       "    <tr>\n",
       "      <th>3</th>\n",
       "      <td>0.011639</td>\n",
       "      <td>0.029590</td>\n",
       "      <td>0.015984</td>\n",
       "      <td>0.492869</td>\n",
       "      <td>0.451967</td>\n",
       "    </tr>\n",
       "    <tr>\n",
       "      <th>4</th>\n",
       "      <td>0.903134</td>\n",
       "      <td>0.034378</td>\n",
       "      <td>0.029552</td>\n",
       "      <td>0.018507</td>\n",
       "      <td>0.016368</td>\n",
       "    </tr>\n",
       "    <tr>\n",
       "      <th>5</th>\n",
       "      <td>0.028269</td>\n",
       "      <td>0.022500</td>\n",
       "      <td>0.427308</td>\n",
       "      <td>0.014231</td>\n",
       "      <td>0.509808</td>\n",
       "    </tr>\n",
       "    <tr>\n",
       "      <th>6</th>\n",
       "      <td>0.013725</td>\n",
       "      <td>0.019176</td>\n",
       "      <td>0.015059</td>\n",
       "      <td>0.013961</td>\n",
       "      <td>0.940392</td>\n",
       "    </tr>\n",
       "    <tr>\n",
       "      <th>7</th>\n",
       "      <td>0.391034</td>\n",
       "      <td>0.025345</td>\n",
       "      <td>0.017241</td>\n",
       "      <td>0.545172</td>\n",
       "      <td>0.022414</td>\n",
       "    </tr>\n",
       "    <tr>\n",
       "      <th>8</th>\n",
       "      <td>0.018854</td>\n",
       "      <td>0.939745</td>\n",
       "      <td>0.012611</td>\n",
       "      <td>0.011656</td>\n",
       "      <td>0.019490</td>\n",
       "    </tr>\n",
       "    <tr>\n",
       "      <th>9</th>\n",
       "      <td>0.012642</td>\n",
       "      <td>0.012398</td>\n",
       "      <td>0.949593</td>\n",
       "      <td>0.014431</td>\n",
       "      <td>0.012276</td>\n",
       "    </tr>\n",
       "    <tr>\n",
       "      <th>10</th>\n",
       "      <td>0.020274</td>\n",
       "      <td>0.009589</td>\n",
       "      <td>0.339178</td>\n",
       "      <td>0.625753</td>\n",
       "      <td>0.010000</td>\n",
       "    </tr>\n",
       "    <tr>\n",
       "      <th>11</th>\n",
       "      <td>0.008868</td>\n",
       "      <td>0.516792</td>\n",
       "      <td>0.033774</td>\n",
       "      <td>0.435472</td>\n",
       "      <td>0.008868</td>\n",
       "    </tr>\n",
       "    <tr>\n",
       "      <th>12</th>\n",
       "      <td>0.008261</td>\n",
       "      <td>0.544783</td>\n",
       "      <td>0.430435</td>\n",
       "      <td>0.008261</td>\n",
       "      <td>0.008261</td>\n",
       "    </tr>\n",
       "  </tbody>\n",
       "</table>\n",
       "</div>"
      ],
      "text/plain": [
       "           Topic0    Topic1    Topic2    Topic3    Topic4\n",
       "cluster                                                  \n",
       "0        0.217069  0.231034  0.010690  0.010690  0.531897\n",
       "1        0.122708  0.054375  0.632917  0.149097  0.043819\n",
       "2        0.012020  0.026612  0.013327  0.938204  0.012388\n",
       "3        0.011639  0.029590  0.015984  0.492869  0.451967\n",
       "4        0.903134  0.034378  0.029552  0.018507  0.016368\n",
       "5        0.028269  0.022500  0.427308  0.014231  0.509808\n",
       "6        0.013725  0.019176  0.015059  0.013961  0.940392\n",
       "7        0.391034  0.025345  0.017241  0.545172  0.022414\n",
       "8        0.018854  0.939745  0.012611  0.011656  0.019490\n",
       "9        0.012642  0.012398  0.949593  0.014431  0.012276\n",
       "10       0.020274  0.009589  0.339178  0.625753  0.010000\n",
       "11       0.008868  0.516792  0.033774  0.435472  0.008868\n",
       "12       0.008261  0.544783  0.430435  0.008261  0.008261"
      ]
     },
     "execution_count": 64,
     "metadata": {},
     "output_type": "execute_result"
    }
   ],
   "source": [
    "X_new.groupby(\"cluster\").mean()"
   ]
  },
  {
   "cell_type": "code",
   "execution_count": 65,
   "id": "2ef04b8e",
   "metadata": {},
   "outputs": [],
   "source": [
    "from sklearn.preprocessing import StandardScaler\n",
    "ss = StandardScaler()\n",
    "X_over_std = ss.fit_transform(X)"
   ]
  },
  {
   "cell_type": "code",
   "execution_count": 66,
   "id": "1c3bd936",
   "metadata": {},
   "outputs": [
    {
     "data": {
      "text/plain": [
       "KMeans()"
      ]
     },
     "execution_count": 66,
     "metadata": {},
     "output_type": "execute_result"
    }
   ],
   "source": [
    "from sklearn.cluster import KMeans\n",
    "km = KMeans()\n",
    "km.fit(X_over_std)"
   ]
  },
  {
   "cell_type": "code",
   "execution_count": 67,
   "id": "867e9277",
   "metadata": {},
   "outputs": [
    {
     "data": {
      "image/png": "[encoded data removed]",
      "text/plain": [
       "<Figure size 576x360 with 1 Axes>"
      ]
     },
     "metadata": {
      "needs_background": "light"
     },
     "output_type": "display_data"
    }
   ],
   "source": [
    "inertia = []\n",
    "list_num_clusters = list(range(2,21))\n",
    "for num_clusters in list_num_clusters:\n",
    "    km = KMeans(n_clusters=num_clusters)\n",
    "    km.fit(X_over_std)\n",
    "    inertia.append(km.inertia_)\n",
    "    \n",
    "plt.plot(list_num_clusters,inertia)\n",
    "plt.scatter(list_num_clusters,inertia)\n",
    "plt.xlabel('Number of Clusters')\n",
    "plt.ylabel('Inertia');"
   ]
  },
  {
   "cell_type": "code",
   "execution_count": 68,
   "id": "64742db3",
   "metadata": {},
   "outputs": [
    {
     "name": "stdout",
     "output_type": "stream",
     "text": [
      "KMeans(n_clusters=2) For n_clusters = 2 The average silhouette_score is : 0.3306835305544237\n",
      "KMeans(n_clusters=3) For n_clusters = 3 The average silhouette_score is : 0.4662559595245402\n",
      "KMeans(n_clusters=4) For n_clusters = 4 The average silhouette_score is : 0.5889179306163703\n",
      "KMeans(n_clusters=5) For n_clusters = 5 The average silhouette_score is : 0.6867668054886296\n",
      "KMeans(n_clusters=6) For n_clusters = 6 The average silhouette_score is : 0.6763927114790783\n",
      "KMeans(n_clusters=7) For n_clusters = 7 The average silhouette_score is : 0.6631492348546614\n",
      "KMeans() For n_clusters = 8 The average silhouette_score is : 0.6478633925258447\n",
      "KMeans(n_clusters=9) For n_clusters = 9 The average silhouette_score is : 0.650834806236994\n",
      "KMeans(n_clusters=10) For n_clusters = 10 The average silhouette_score is : 0.6741094889296679\n"
     ]
    }
   ],
   "source": [
    "from sklearn.metrics import silhouette_score\n",
    "for num_clusters in range(2,11):\n",
    "    km = KMeans(n_clusters=num_clusters)\n",
    "    km.fit(X_over_std)\n",
    "    \n",
    "    cluster_labels = km.fit_predict(X_over_std)\n",
    "\n",
    "    # The silhouette_score gives the average value for all the samples.\n",
    "    # This gives a perspective into the density and separation of the formed\n",
    "    # clusters\n",
    "    silhouette_avg = silhouette_score(X_over_std, cluster_labels)\n",
    "    print(\n",
    "        km,\n",
    "        \"For n_clusters =\",\n",
    "        num_clusters,\n",
    "        \"The average silhouette_score is :\",\n",
    "        silhouette_avg,\n",
    "    )"
   ]
  },
  {
   "cell_type": "code",
   "execution_count": 69,
   "id": "473b7a2a",
   "metadata": {},
   "outputs": [
    {
     "data": {
      "text/plain": [
       "KMeans(n_clusters=6, random_state=10)"
      ]
     },
     "execution_count": 69,
     "metadata": {},
     "output_type": "execute_result"
    }
   ],
   "source": [
    "km = KMeans(n_clusters=6,random_state=10)\n",
    "km.fit(X_over_std)"
   ]
  },
  {
   "cell_type": "code",
   "execution_count": 70,
   "id": "08015683",
   "metadata": {},
   "outputs": [],
   "source": [
    "df[\"cluster\"] = km.predict(X_over_std)"
   ]
  },
  {
   "cell_type": "code",
   "execution_count": 71,
   "id": "b67b804e",
   "metadata": {},
   "outputs": [
    {
     "data": {
      "text/html": [
       "<div>\n",
       "<style scoped>\n",
       "    .dataframe tbody tr th:only-of-type {\n",
       "        vertical-align: middle;\n",
       "    }\n",
       "\n",
       "    .dataframe tbody tr th {\n",
       "        vertical-align: top;\n",
       "    }\n",
       "\n",
       "    .dataframe thead th {\n",
       "        text-align: right;\n",
       "    }\n",
       "</style>\n",
       "<table border=\"1\" class=\"dataframe\">\n",
       "  <thead>\n",
       "    <tr style=\"text-align: right;\">\n",
       "      <th></th>\n",
       "      <th>Clothing ID</th>\n",
       "      <th>Age</th>\n",
       "      <th>Review Text</th>\n",
       "      <th>Rating</th>\n",
       "      <th>Recommended IND</th>\n",
       "      <th>Positive Feedback Count</th>\n",
       "      <th>Division Name</th>\n",
       "      <th>Department Name</th>\n",
       "      <th>Class Name</th>\n",
       "      <th>Review_Type</th>\n",
       "      <th>cluster</th>\n",
       "    </tr>\n",
       "  </thead>\n",
       "  <tbody>\n",
       "    <tr>\n",
       "      <th>0</th>\n",
       "      <td>767</td>\n",
       "      <td>33</td>\n",
       "      <td>Absolutely wonderful - silky and sexy and comf...</td>\n",
       "      <td>1</td>\n",
       "      <td>1</td>\n",
       "      <td>0</td>\n",
       "      <td>Initmates</td>\n",
       "      <td>Intimate</td>\n",
       "      <td>Intimates</td>\n",
       "      <td>Positive Reviews</td>\n",
       "      <td>2</td>\n",
       "    </tr>\n",
       "    <tr>\n",
       "      <th>1</th>\n",
       "      <td>1080</td>\n",
       "      <td>34</td>\n",
       "      <td>Love this dress!  it's sooo pretty.  i happene...</td>\n",
       "      <td>1</td>\n",
       "      <td>1</td>\n",
       "      <td>4</td>\n",
       "      <td>General</td>\n",
       "      <td>Dresses</td>\n",
       "      <td>Dresses</td>\n",
       "      <td>Positive Reviews</td>\n",
       "      <td>0</td>\n",
       "    </tr>\n",
       "    <tr>\n",
       "      <th>2</th>\n",
       "      <td>1077</td>\n",
       "      <td>60</td>\n",
       "      <td>I had such high hopes for this dress and reall...</td>\n",
       "      <td>1</td>\n",
       "      <td>0</td>\n",
       "      <td>0</td>\n",
       "      <td>General</td>\n",
       "      <td>Dresses</td>\n",
       "      <td>Dresses</td>\n",
       "      <td>Positive Reviews</td>\n",
       "      <td>2</td>\n",
       "    </tr>\n",
       "    <tr>\n",
       "      <th>3</th>\n",
       "      <td>1049</td>\n",
       "      <td>50</td>\n",
       "      <td>I love, love, love this jumpsuit. it's fun, fl...</td>\n",
       "      <td>1</td>\n",
       "      <td>1</td>\n",
       "      <td>0</td>\n",
       "      <td>General Petite</td>\n",
       "      <td>Bottoms</td>\n",
       "      <td>Pants</td>\n",
       "      <td>Positive Reviews</td>\n",
       "      <td>2</td>\n",
       "    </tr>\n",
       "    <tr>\n",
       "      <th>4</th>\n",
       "      <td>847</td>\n",
       "      <td>47</td>\n",
       "      <td>This shirt is very flattering to all due to th...</td>\n",
       "      <td>1</td>\n",
       "      <td>1</td>\n",
       "      <td>6</td>\n",
       "      <td>General</td>\n",
       "      <td>Tops</td>\n",
       "      <td>Blouses</td>\n",
       "      <td>Positive Reviews</td>\n",
       "      <td>2</td>\n",
       "    </tr>\n",
       "    <tr>\n",
       "      <th>...</th>\n",
       "      <td>...</td>\n",
       "      <td>...</td>\n",
       "      <td>...</td>\n",
       "      <td>...</td>\n",
       "      <td>...</td>\n",
       "      <td>...</td>\n",
       "      <td>...</td>\n",
       "      <td>...</td>\n",
       "      <td>...</td>\n",
       "      <td>...</td>\n",
       "      <td>...</td>\n",
       "    </tr>\n",
       "    <tr>\n",
       "      <th>1995</th>\n",
       "      <td>867</td>\n",
       "      <td>38</td>\n",
       "      <td>Material is hard to wear a bra under it</td>\n",
       "      <td>1</td>\n",
       "      <td>0</td>\n",
       "      <td>0</td>\n",
       "      <td>General</td>\n",
       "      <td>Tops</td>\n",
       "      <td>Knits</td>\n",
       "      <td>Negative Reviews</td>\n",
       "      <td>1</td>\n",
       "    </tr>\n",
       "    <tr>\n",
       "      <th>1996</th>\n",
       "      <td>927</td>\n",
       "      <td>48</td>\n",
       "      <td>Very soft fabric. does begin to ball up due to...</td>\n",
       "      <td>1</td>\n",
       "      <td>1</td>\n",
       "      <td>0</td>\n",
       "      <td>General Petite</td>\n",
       "      <td>Tops</td>\n",
       "      <td>Sweaters</td>\n",
       "      <td>Positive Reviews</td>\n",
       "      <td>4</td>\n",
       "    </tr>\n",
       "    <tr>\n",
       "      <th>1997</th>\n",
       "      <td>1022</td>\n",
       "      <td>35</td>\n",
       "      <td>These jeans hug in all the right places. the h...</td>\n",
       "      <td>1</td>\n",
       "      <td>1</td>\n",
       "      <td>0</td>\n",
       "      <td>General</td>\n",
       "      <td>Bottoms</td>\n",
       "      <td>Jeans</td>\n",
       "      <td>Positive Reviews</td>\n",
       "      <td>4</td>\n",
       "    </tr>\n",
       "    <tr>\n",
       "      <th>1998</th>\n",
       "      <td>164</td>\n",
       "      <td>25</td>\n",
       "      <td>Loved the way these felt but like the previous...</td>\n",
       "      <td>1</td>\n",
       "      <td>1</td>\n",
       "      <td>0</td>\n",
       "      <td>Initmates</td>\n",
       "      <td>Intimate</td>\n",
       "      <td>Lounge</td>\n",
       "      <td>Positive Reviews</td>\n",
       "      <td>0</td>\n",
       "    </tr>\n",
       "    <tr>\n",
       "      <th>1999</th>\n",
       "      <td>1110</td>\n",
       "      <td>26</td>\n",
       "      <td>Beautiful dress! perfect mid length dress for ...</td>\n",
       "      <td>1</td>\n",
       "      <td>1</td>\n",
       "      <td>0</td>\n",
       "      <td>General Petite</td>\n",
       "      <td>Dresses</td>\n",
       "      <td>Dresses</td>\n",
       "      <td>Positive Reviews</td>\n",
       "      <td>5</td>\n",
       "    </tr>\n",
       "  </tbody>\n",
       "</table>\n",
       "<p>1932 rows × 11 columns</p>\n",
       "</div>"
      ],
      "text/plain": [
       "      Clothing ID  Age                                        Review Text  \\\n",
       "0             767   33  Absolutely wonderful - silky and sexy and comf...   \n",
       "1            1080   34  Love this dress!  it's sooo pretty.  i happene...   \n",
       "2            1077   60  I had such high hopes for this dress and reall...   \n",
       "3            1049   50  I love, love, love this jumpsuit. it's fun, fl...   \n",
       "4             847   47  This shirt is very flattering to all due to th...   \n",
       "...           ...  ...                                                ...   \n",
       "1995          867   38            Material is hard to wear a bra under it   \n",
       "1996          927   48  Very soft fabric. does begin to ball up due to...   \n",
       "1997         1022   35  These jeans hug in all the right places. the h...   \n",
       "1998          164   25  Loved the way these felt but like the previous...   \n",
       "1999         1110   26  Beautiful dress! perfect mid length dress for ...   \n",
       "\n",
       "      Rating  Recommended IND  Positive Feedback Count   Division Name  \\\n",
       "0          1                1                        0       Initmates   \n",
       "1          1                1                        4         General   \n",
       "2          1                0                        0         General   \n",
       "3          1                1                        0  General Petite   \n",
       "4          1                1                        6         General   \n",
       "...      ...              ...                      ...             ...   \n",
       "1995       1                0                        0         General   \n",
       "1996       1                1                        0  General Petite   \n",
       "1997       1                1                        0         General   \n",
       "1998       1                1                        0       Initmates   \n",
       "1999       1                1                        0  General Petite   \n",
       "\n",
       "     Department Name Class Name       Review_Type  cluster  \n",
       "0           Intimate  Intimates  Positive Reviews        2  \n",
       "1            Dresses    Dresses  Positive Reviews        0  \n",
       "2            Dresses    Dresses  Positive Reviews        2  \n",
       "3            Bottoms      Pants  Positive Reviews        2  \n",
       "4               Tops    Blouses  Positive Reviews        2  \n",
       "...              ...        ...               ...      ...  \n",
       "1995            Tops      Knits  Negative Reviews        1  \n",
       "1996            Tops   Sweaters  Positive Reviews        4  \n",
       "1997         Bottoms      Jeans  Positive Reviews        4  \n",
       "1998        Intimate     Lounge  Positive Reviews        0  \n",
       "1999         Dresses    Dresses  Positive Reviews        5  \n",
       "\n",
       "[1932 rows x 11 columns]"
      ]
     },
     "execution_count": 71,
     "metadata": {},
     "output_type": "execute_result"
    }
   ],
   "source": [
    "df"
   ]
  },
  {
   "cell_type": "code",
   "execution_count": 72,
   "id": "52fb0c28",
   "metadata": {},
   "outputs": [
    {
     "data": {
      "text/html": [
       "<div>\n",
       "<style scoped>\n",
       "    .dataframe tbody tr th:only-of-type {\n",
       "        vertical-align: middle;\n",
       "    }\n",
       "\n",
       "    .dataframe tbody tr th {\n",
       "        vertical-align: top;\n",
       "    }\n",
       "\n",
       "    .dataframe thead th {\n",
       "        text-align: right;\n",
       "    }\n",
       "</style>\n",
       "<table border=\"1\" class=\"dataframe\">\n",
       "  <thead>\n",
       "    <tr style=\"text-align: right;\">\n",
       "      <th></th>\n",
       "      <th>Topic0</th>\n",
       "      <th>Topic1</th>\n",
       "      <th>Topic2</th>\n",
       "      <th>Topic3</th>\n",
       "      <th>Topic4</th>\n",
       "    </tr>\n",
       "  </thead>\n",
       "  <tbody>\n",
       "    <tr>\n",
       "      <th>0</th>\n",
       "      <td>-0.358734</td>\n",
       "      <td>-0.377755</td>\n",
       "      <td>-0.483858</td>\n",
       "      <td>1.305584</td>\n",
       "      <td>-0.457665</td>\n",
       "    </tr>\n",
       "    <tr>\n",
       "      <th>1</th>\n",
       "      <td>-0.317451</td>\n",
       "      <td>-0.373481</td>\n",
       "      <td>1.818021</td>\n",
       "      <td>-0.673312</td>\n",
       "      <td>-0.465581</td>\n",
       "    </tr>\n",
       "    <tr>\n",
       "      <th>2</th>\n",
       "      <td>-0.372623</td>\n",
       "      <td>-0.355606</td>\n",
       "      <td>-0.479348</td>\n",
       "      <td>-0.686521</td>\n",
       "      <td>1.921280</td>\n",
       "    </tr>\n",
       "    <tr>\n",
       "      <th>3</th>\n",
       "      <td>2.513619</td>\n",
       "      <td>-0.371024</td>\n",
       "      <td>-0.494849</td>\n",
       "      <td>-0.729849</td>\n",
       "      <td>-0.460981</td>\n",
       "    </tr>\n",
       "    <tr>\n",
       "      <th>4</th>\n",
       "      <td>-0.417436</td>\n",
       "      <td>2.991326</td>\n",
       "      <td>-0.576059</td>\n",
       "      <td>-0.814887</td>\n",
       "      <td>-0.535563</td>\n",
       "    </tr>\n",
       "    <tr>\n",
       "      <th>5</th>\n",
       "      <td>-0.295375</td>\n",
       "      <td>1.373132</td>\n",
       "      <td>-0.263356</td>\n",
       "      <td>-0.271979</td>\n",
       "      <td>-0.278696</td>\n",
       "    </tr>\n",
       "  </tbody>\n",
       "</table>\n",
       "</div>"
      ],
      "text/plain": [
       "     Topic0    Topic1    Topic2    Topic3    Topic4\n",
       "0 -0.358734 -0.377755 -0.483858  1.305584 -0.457665\n",
       "1 -0.317451 -0.373481  1.818021 -0.673312 -0.465581\n",
       "2 -0.372623 -0.355606 -0.479348 -0.686521  1.921280\n",
       "3  2.513619 -0.371024 -0.494849 -0.729849 -0.460981\n",
       "4 -0.417436  2.991326 -0.576059 -0.814887 -0.535563\n",
       "5 -0.295375  1.373132 -0.263356 -0.271979 -0.278696"
      ]
     },
     "execution_count": 72,
     "metadata": {},
     "output_type": "execute_result"
    }
   ],
   "source": [
    "df= pd.DataFrame(km.cluster_centers_, columns = X.columns)\n",
    "df"
   ]
  },
  {
   "cell_type": "code",
   "execution_count": null,
   "id": "c1b1ac34",
   "metadata": {},
   "outputs": [],
   "source": []
  },
  {
   "cell_type": "code",
   "execution_count": null,
   "id": "a3024da0",
   "metadata": {},
   "outputs": [],
   "source": []
  },
  {
   "cell_type": "code",
   "execution_count": null,
   "id": "2ee98861",
   "metadata": {},
   "outputs": [],
   "source": []
  }
 ],
 "metadata": {
  "kernelspec": {
   "display_name": "Python 3",
   "language": "python",
   "name": "python3"
  },
  "language_info": {
   "codemirror_mode": {
    "name": "ipython",
    "version": 3
   },
   "file_extension": ".py",
   "mimetype": "text/x-python",
   "name": "python",
   "nbconvert_exporter": "python",
   "pygments_lexer": "ipython3",
   "version": "3.8.8"
  }
 },
 "nbformat": 4,
 "nbformat_minor": 5
}
